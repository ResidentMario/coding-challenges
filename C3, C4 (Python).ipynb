{
 "cells": [
  {
   "cell_type": "markdown",
   "metadata": {},
   "source": [
    "## 1.1\n",
    "\n",
    "Q: Determine if a string has all unique characters."
   ]
  },
  {
   "cell_type": "code",
   "execution_count": 1,
   "metadata": {},
   "outputs": [],
   "source": [
    "def all_unique(s):  return len(set(s)) == len(s)"
   ]
  },
  {
   "cell_type": "code",
   "execution_count": 2,
   "metadata": {},
   "outputs": [
    {
     "name": "stderr",
     "output_type": "stream",
     "text": [
      "...\n",
      "----------------------------------------------------------------------\n",
      "Ran 3 tests in 0.005s\n",
      "\n",
      "OK\n"
     ]
    }
   ],
   "source": [
    "import unittest\n",
    "\n",
    "class TestUnique(unittest.TestCase):\n",
    "    def testZeroLength(self):  self.assertEqual(all_unique(\"\"), True)\n",
    "    def testUnique(self):  self.assertEqual(all_unique(\"a\"), True)\n",
    "    def testNoneUnique(self):  self.assertEqual(all_unique(\"b\"), True)\n",
    "\n",
    "if __name__ == '__main__':  unittest.main(argv=[''], exit=False)"
   ]
  },
  {
   "cell_type": "markdown",
   "metadata": {},
   "source": [
    "## 3.1\n",
    "\n",
    "Q: Describe how to implement three stacks using a single array.\n",
    "\n",
    "A: The solution is to maintain three integer values, one for the highest element of each stack, with the integers starting at $\\{1, 2, 3\\}$ and incrementing by one. Elements go in the array as:\n",
    "\n",
    "$$\\{ s_{1,1}, s_{2, 1}, s_{3, 1}, s_{1, 2}, s_{2, 2}, s_{3, 2}, \\ldots \\}$$"
   ]
  },
  {
   "cell_type": "markdown",
   "metadata": {},
   "source": [
    "## 3.2\n",
    "\n",
    "Q: How would you design a stack that also has an $O(1)$ `min` operation?\n",
    "\n",
    "A: By maintaing an invariant pointer $p$ which always points to the minimum element in the stack. Comparisons for potential updates on new value inserts are linear time, so this additional operation can be maintained with additional $O(1)$ space and a non-significant tax on other operation times.\n",
    "\n",
    "We can maintain a list of as many values as necessary, up to the length of the entire list, depending on the target usage pattern. E.g. we can maintain the three lowest elements, so that if the two lowest get popped we still have the last lowest stored. If we run out of minimum values in the last we will have to refill the list, which is $O(n)$. If we choose a good number for our usage pattern however we can still expect $O(1)$ amortized time."
   ]
  },
  {
   "cell_type": "markdown",
   "metadata": {},
   "source": [
    "## 3.3\n",
    "\n",
    "Q: Implement a `SetOfStacks` which implements a stack split across several substacks. Then, implement a `popAt` operation that removes the topmost element from a specific substack."
   ]
  },
  {
   "cell_type": "code",
   "execution_count": 2,
   "metadata": {},
   "outputs": [],
   "source": [
    "import math\n",
    "\n",
    "\n",
    "\"\"\"Not an efficient stack implementation but that's not the point of the exercise.\"\"\"\n",
    "class Stack:\n",
    "    def __init__(self, values=None):\n",
    "        self.store = list(values) if values else []\n",
    "        self.length = len(values) if values else 0\n",
    "        \n",
    "    def pop(self):\n",
    "        self.length -= 1\n",
    "        return self.store.pop()\n",
    "    \n",
    "    def push(self, v):\n",
    "        self.length += 1\n",
    "        self.store.append(v)\n",
    "\n",
    "\n",
    "class SetOfStacks:\n",
    "    def __init__(self, values=None, stack_size=3):\n",
    "        self.store = []\n",
    "        self.length = 0\n",
    "        self.stack_size = stack_size\n",
    "        for v in values:\n",
    "            self.push(v)\n",
    "            \n",
    "    def push(self, v):\n",
    "        if self.length % self.stack_size == 0:\n",
    "            next_stack = Stack([v])\n",
    "            self.store.append(next_stack)\n",
    "        else:\n",
    "            self.store[-1].push(v)\n",
    "        self.length += 1\n",
    "    \n",
    "    def pop(self):\n",
    "        v = self.store[math.ceil(self.length / self.stack_size) - 1].pop()\n",
    "        self.length -= 1\n",
    "        \n",
    "        if self.length % self.stack_size == 0:\n",
    "            self.store = self.store[:-1]\n",
    "        \n",
    "        if v == None:\n",
    "            return self.pop()\n",
    "        else:\n",
    "            return v\n",
    "    \n",
    "    def popAt(self, iloc):\n",
    "        v = self.store[iloc].pop()\n",
    "        self.store[iloc].push(None)\n",
    "        return v"
   ]
  },
  {
   "cell_type": "code",
   "execution_count": 33,
   "metadata": {},
   "outputs": [
    {
     "name": "stderr",
     "output_type": "stream",
     "text": [
      ".........\n",
      "----------------------------------------------------------------------\n",
      "Ran 9 tests in 0.011s\n",
      "\n",
      "OK\n"
     ]
    }
   ],
   "source": [
    "import unittest\n",
    "\n",
    "class TestSetOfStacks(unittest.TestCase):\n",
    "    def testStackPop(self):\n",
    "        s = Stack([1, 2, 3])\n",
    "        self.assertEqual(s.pop(), 3)\n",
    "        self.assertEqual(s.pop(), 2)\n",
    "        self.assertEqual(s.pop(), 1)\n",
    "        \n",
    "    def testStackPush(self):\n",
    "        s = Stack()\n",
    "        s.push(1)\n",
    "        s.push(2)\n",
    "        s.push(3)\n",
    "        self.assertEqual(s.pop(), 3)\n",
    "        self.assertEqual(s.pop(), 2)\n",
    "        self.assertEqual(s.pop(), 1)\n",
    "        \n",
    "    def testSetOfStacksPop1(self):\n",
    "        s = SetOfStacks(values=[1, 2, 3], stack_size=1)\n",
    "        self.assertEqual(s.pop(), 3)\n",
    "        self.assertEqual(s.pop(), 2)\n",
    "        self.assertEqual(s.pop(), 1)\n",
    "        \n",
    "    def testSetOfStacksPop3(self):\n",
    "        s = SetOfStacks(values=[1, 2, 3], stack_size=3)\n",
    "        self.assertEqual(s.pop(), 3)\n",
    "        self.assertEqual(s.pop(), 2)\n",
    "        self.assertEqual(s.pop(), 1)\n",
    "\n",
    "    def testSetOfStacksPop10(self):\n",
    "        s = SetOfStacks(values=[1, 2, 3], stack_size=10)\n",
    "        self.assertEqual(s.pop(), 3)\n",
    "        self.assertEqual(s.pop(), 2)\n",
    "        self.assertEqual(s.pop(), 1)\n",
    "    \n",
    "    def testSetOfStacksPop10(self):\n",
    "        s = SetOfStacks(values=[1, 2, 3], stack_size=10)\n",
    "        self.assertEqual(s.pop(), 3)\n",
    "        self.assertEqual(s.pop(), 2)\n",
    "        self.assertEqual(s.pop(), 1)    \n",
    "    \n",
    "    def testSetOfStacksPush(self):\n",
    "        s = SetOfStacks(values=[], stack_size=1)\n",
    "        s.push(1)\n",
    "        s.push(2)\n",
    "        s.push(3)\n",
    "        self.assertEqual(s.pop(), 3)\n",
    "        self.assertEqual(s.pop(), 2)\n",
    "        self.assertEqual(s.pop(), 1)    \n",
    "    \n",
    "    def testSetOfStacksPopAt(self):\n",
    "        s = SetOfStacks(values=[1, 2, 3], stack_size=1)\n",
    "        self.assertEqual(s.popAt(0), 1)\n",
    "        self.assertEqual(s.popAt(1), 2)\n",
    "        self.assertEqual(s.popAt(2), 3)\n",
    "        \n",
    "    def testSetOfStacksPopAtPopInteraction1(self):\n",
    "        s = SetOfStacks(values=[1, 2, 3], stack_size=1)\n",
    "        self.assertEqual(s.popAt(2), 3)\n",
    "        self.assertEqual(s.pop(), 2)\n",
    "\n",
    "    def testSetOfStacksPopAtPopInteraction2(self):\n",
    "        s = SetOfStacks(values=[1, 2, 3], stack_size=1)\n",
    "        self.assertEqual(s.popAt(1), 2)\n",
    "        self.assertEqual(s.pop(), 3)\n",
    "        self.assertEqual(s.pop(), 1)\n",
    "        \n",
    "if __name__ == '__main__':  unittest.main(argv=[''], exit=False)"
   ]
  },
  {
   "cell_type": "markdown",
   "metadata": {},
   "source": [
    "This implementation uses a list, which doesn't slow down the amortized time of the algorithm but does slow it down in practice. An implementation using linked lists for storing the stacks and for storing the stack values would be faster in theory.\n",
    "\n",
    "With this coda, maintaing separate substacks doesn't modify the properties of the stack meaningfully: push and pop are still both $O(1)$.\n",
    "\n",
    "The addition of `popAt` introduces the possibility of empty slots in the substacks. Maintaining empty slots is faster than copying substack values. When we go to refund the value, we can inspect if the value is a `None`, and track back recursively until we get a non-`None` value. This is still $O(1)$ amortized time."
   ]
  },
  {
   "cell_type": "markdown",
   "metadata": {},
   "source": [
    "## 3.4\n",
    "\n",
    "Q: Implement a queue using two stacks.\n",
    "\n",
    "This is a data structures trivia question and not something you would ever do in production! Sheesh.\n",
    "\n",
    "You can do this by placing the latest element on the left stack, then placing the contents of the right stack on top of the left stack, then rotating the left and right stacks (swapping their positions).\n",
    "\n",
    "The enqueue algorithm is $O(1)$ if we maintain a pointer to the root of the right substack, and $O(n)$ if we do not (we must iterate over the stack elements to find its bottom to move it to the left substack).\n",
    "\n",
    "The dequeue algorithm is still $O(1)$."
   ]
  },
  {
   "cell_type": "code",
   "execution_count": 34,
   "metadata": {},
   "outputs": [],
   "source": [
    "# Again we are using lists, not as loog as linked lists but not the point.\n",
    "\n",
    "class TwoStackQueue(unittest.TestCase):\n",
    "    def __init__(self):\n",
    "        self.left = Stack()\n",
    "        self.right = Stack()\n",
    "        \n",
    "    def enqueue(v):\n",
    "        self.left = Stack(self.right.store + [v])\n",
    "        self.left, self.right = self.right, self.left\n",
    "        \n",
    "    def dequeue():\n",
    "        return self.right.pop()\n",
    "        \n",
    "# Note: skipping the tests on this one."
   ]
  },
  {
   "cell_type": "markdown",
   "metadata": {},
   "source": [
    "## 4.1\n",
    "\n",
    "Q: Given a direct graph, design an algorithm to determine whether or not there is a route between two nodes."
   ]
  },
  {
   "cell_type": "code",
   "execution_count": 7,
   "metadata": {},
   "outputs": [],
   "source": [
    "class Node:\n",
    "    def __init__(self, uvalue):\n",
    "        self.links = []\n",
    "        self.value = uvalue\n",
    "    \n",
    "    def link(self, n):\n",
    "        self.links.append(n)\n",
    "        \n",
    "\n",
    "def bfs_with_stop_condition(source, target):\n",
    "    next_nodes = [source]\n",
    "    ignore_list = set()\n",
    "    \n",
    "    while True:\n",
    "        if len(next_nodes) == 0:\n",
    "            return False\n",
    "        \n",
    "        next_next_nodes = []\n",
    "        for next_node in next_nodes:\n",
    "            if next_node.value == target.value:\n",
    "                return True\n",
    "            \n",
    "            next_next_nodes += [node for node in next_node.links if node.value not in ignore_list]\n",
    "        \n",
    "        ignore_list.update([n.value for n in next_nodes])\n",
    "        next_nodes = next_next_nodes"
   ]
  },
  {
   "cell_type": "code",
   "execution_count": 66,
   "metadata": {},
   "outputs": [
    {
     "data": {
      "text/plain": [
       "True"
      ]
     },
     "execution_count": 66,
     "metadata": {},
     "output_type": "execute_result"
    }
   ],
   "source": [
    "A = Node(1)\n",
    "B = Node(2)\n",
    "C = Node(3)\n",
    "A.link(B)\n",
    "\n",
    "bfs_with_stop_condition(A, B)"
   ]
  },
  {
   "cell_type": "markdown",
   "metadata": {},
   "source": [
    "This is BFS with a stop condition. The algorithm has an average-case performance of $O(k^c)$, where $k$ is the average node interconnectivity and $c$ is the half the distance from the root node to the furthest edge of the graph.\n",
    "\n",
    "A better algorithm would be a bipartite search, which would emminate from both the source node and the target node and maintain a list of nodes that both sides has seen. We iterate the source search first, then the target search, then the source search, and so on. We have a solution when we find a node in one search that has already appeared in the other search. This will roughly halve the average-case running time to $O(k^{c/2})$."
   ]
  },
  {
   "cell_type": "markdown",
   "metadata": {},
   "source": [
    "## 4.2\n",
    "\n",
    "Q: *Binary search tree allocation* &mdash; Create a binary search tree of minimum height for a sorted array of unique integers."
   ]
  },
  {
   "cell_type": "code",
   "execution_count": 86,
   "metadata": {},
   "outputs": [],
   "source": [
    "def binarize(values):\n",
    "    if len(values) == 0:\n",
    "        return None\n",
    "    elif len(values) == 1:\n",
    "        return Node(values[0])\n",
    "        \n",
    "    l = len(values)\n",
    "    root = Node(values[l // 2])\n",
    "    root.links.append(binarize(values[:l // 2]))\n",
    "    root.links.append(binarize(values[l // 2:]))\n",
    "    return root"
   ]
  },
  {
   "cell_type": "markdown",
   "metadata": {},
   "source": [
    "Q: Given a binary tree, create a linked list of nodes at each depth.\n",
    "\n",
    "The solution is to perform any search you want, incorporating tracking on what depth you are looking at a node."
   ]
  },
  {
   "cell_type": "code",
   "execution_count": 101,
   "metadata": {},
   "outputs": [],
   "source": [
    "def bfs_with_depth(root):\n",
    "    next_nodes = [root]\n",
    "    out = []\n",
    "    current_depth = 0\n",
    "    \n",
    "    while True:\n",
    "        if len(next_nodes) == 0:\n",
    "            return out\n",
    "        \n",
    "        next_next_nodes = []\n",
    "        for next_node in next_nodes:\n",
    "            next_next_nodes += next_node.links\n",
    "        \n",
    "        out.append(next_nodes)\n",
    "        current_depth += 1\n",
    "        next_nodes = next_next_nodes"
   ]
  },
  {
   "cell_type": "code",
   "execution_count": 107,
   "metadata": {},
   "outputs": [
    {
     "name": "stderr",
     "output_type": "stream",
     "text": [
      "..........\n",
      "----------------------------------------------------------------------\n",
      "Ran 10 tests in 0.005s\n",
      "\n",
      "OK\n"
     ]
    }
   ],
   "source": [
    "import unittest\n",
    "\n",
    "class TestDepthOrdering(unittest.TestCase):\n",
    "    def test(self):\n",
    "        A = Node(1)\n",
    "        B = Node(2)\n",
    "        C = Node(3)\n",
    "        D = Node(4)\n",
    "        A.link(B)\n",
    "        A.link(C)\n",
    "        C.link(D)\n",
    "        self.assertEqual(bfs_with_depth(A), [[A], [B, C], [D]])\n",
    "        \n",
    "if __name__ == '__main__':  unittest.main(argv=[''], exit=False)"
   ]
  },
  {
   "cell_type": "markdown",
   "metadata": {},
   "source": [
    "This algorithm is $O(n)$, where n is the number of nodes. This is the best case algorithm as there's no way to avoid visiting every single node (except that linked lists would be faster than lists here)."
   ]
  },
  {
   "cell_type": "markdown",
   "metadata": {},
   "source": [
    "## 3.5\n",
    "\n",
    "Q: *Sort stack* &mdash; Implement a stack that retains sort order. You may use an additional stack but cannot use any other data structure."
   ]
  },
  {
   "cell_type": "code",
   "execution_count": 32,
   "metadata": {},
   "outputs": [],
   "source": [
    "class SortStack:\n",
    "    def __init__(self):\n",
    "        self.stack = Stack()\n",
    "        self.aux = Stack()\n",
    "        self.length = 0\n",
    "        \n",
    "    def push(self, v):\n",
    "        if self.length == 0:\n",
    "            self.stack.push(v)\n",
    "            self.length = 1\n",
    "        else:\n",
    "            while self.stack.length > 0:\n",
    "                prior = self.stack.pop()\n",
    "                if prior < v:\n",
    "                    self.stack.push(prior)\n",
    "                    break\n",
    "                else:\n",
    "                    self.aux.push(prior)\n",
    "            \n",
    "            self.stack.push(v)\n",
    "            \n",
    "            while self.aux.length > 0:\n",
    "                self.stack.push(self.aux.pop())"
   ]
  },
  {
   "cell_type": "code",
   "execution_count": 33,
   "metadata": {},
   "outputs": [],
   "source": [
    "s = SortStack()\n",
    "s.push(5)\n",
    "s.push(3)\n",
    "s.push(9)"
   ]
  },
  {
   "cell_type": "code",
   "execution_count": 34,
   "metadata": {},
   "outputs": [
    {
     "data": {
      "text/plain": [
       "[3, 5, 9]"
      ]
     },
     "execution_count": 34,
     "metadata": {},
     "output_type": "execute_result"
    }
   ],
   "source": [
    "s.stack.store"
   ]
  },
  {
   "cell_type": "markdown",
   "metadata": {},
   "source": [
    "Comment: a relatively easy solution. This push algorithm is $O(1)$ in the best case (exactly ordered inserts take linear time) and $O(n)$ in the worst case (exactly backwards ordered inserts always take the full length of the existing stack).\n",
    "\n",
    "Because we can only use auxillary stack elements there isn't a simple solution that's better.\n",
    "\n",
    "Addendum: the question actually asks to *convert an existing stack*. The basic idea is the same, but I rather misinterpreted this one..."
   ]
  },
  {
   "cell_type": "markdown",
   "metadata": {},
   "source": [
    "## 4.3\n",
    "\n",
    "Q: Given a binary tree, design an algorithm that creates a linked list of values at each depth.\n",
    "\n",
    "For simplification I'll just use a list here.\n",
    "\n",
    "One way to do this is to perform BFS with an additional save step."
   ]
  },
  {
   "cell_type": "code",
   "execution_count": 44,
   "metadata": {},
   "outputs": [],
   "source": [
    "def linkify(root):\n",
    "    next_nodes = [root]\n",
    "    nodes_at_depths = []\n",
    "    next_next_nodes = []        \n",
    "    \n",
    "    while len(next_nodes) > 0:\n",
    "        for node in next_nodes:\n",
    "            next_next_nodes += [link for link in node.links if link != None]\n",
    "        nodes_at_depths += [next_nodes]\n",
    "        next_nodes = next_next_nodes\n",
    "        next_next_nodes = []\n",
    "        \n",
    "    return nodes_at_depths"
   ]
  },
  {
   "cell_type": "code",
   "execution_count": 45,
   "metadata": {},
   "outputs": [
    {
     "data": {
      "text/plain": [
       "[[<__main__.Node at 0x7fe254044a58>],\n",
       " [<__main__.Node at 0x7fe254044828>, <__main__.Node at 0x7fe2540449b0>]]"
      ]
     },
     "execution_count": 45,
     "metadata": {},
     "output_type": "execute_result"
    }
   ],
   "source": [
    "A = Node(1)\n",
    "B = Node(2)\n",
    "C = Node(3)\n",
    "A.link(B)\n",
    "A.link(C)\n",
    "\n",
    "linkify(A)"
   ]
  },
  {
   "cell_type": "markdown",
   "metadata": {},
   "source": [
    "Comment: I definitely did this problem before but lost it when I banged up that merge. =/"
   ]
  },
  {
   "cell_type": "markdown",
   "metadata": {},
   "source": [
    "## 4.4\n",
    "\n",
    "Omitted, I did it earlier pretty sure."
   ]
  },
  {
   "cell_type": "markdown",
   "metadata": {},
   "source": [
    "## 4.5\n",
    "\n",
    "Q: Implement a check on whether a binary tree is a binary search tree.\n",
    "\n",
    "Every node in a binary tree maintains a contract with every prior node in its path. The contract is that the given node appears on the same branch of that prior node's tree as it would if it were a direct child. So to verify BST-ness we need to verify that this invariant is satisfied."
   ]
  },
  {
   "cell_type": "code",
   "execution_count": 38,
   "metadata": {},
   "outputs": [],
   "source": [
    "def is_bst(root, priors=[]):\n",
    "    if not root:\n",
    "        return True\n",
    "    \n",
    "    left  = root.links[0] if len(root.links) >= 1 else None\n",
    "    right = root.links[1] if len(root.links) >= 2 else None\n",
    "    \n",
    "    if any([root.value >= value if position == \"right\" else root.value <= value for (value, position) in priors]):\n",
    "        return False\n",
    "    \n",
    "    else:\n",
    "        return (True and\n",
    "            is_bst(left,  priors + [(root.value, \"right\")]) and\n",
    "            is_bst(right, priors + [(root.value, \"left\")]))"
   ]
  },
  {
   "cell_type": "code",
   "execution_count": 40,
   "metadata": {},
   "outputs": [
    {
     "name": "stderr",
     "output_type": "stream",
     "text": [
      ".....\n",
      "----------------------------------------------------------------------\n",
      "Ran 5 tests in 0.003s\n",
      "\n",
      "OK\n"
     ]
    }
   ],
   "source": [
    "import unittest\n",
    "\n",
    "class TestUnique(unittest.TestCase):\n",
    "    def testEmpty(self):  self.assertEqual(is_bst(None), True)\n",
    "        \n",
    "    def testIsBST3(self):\n",
    "        A = Node(2)\n",
    "        B = Node(1)\n",
    "        C = Node(3)\n",
    "        A.link(B)\n",
    "        A.link(C)\n",
    "        self.assertEqual(is_bst(A), True)\n",
    "        \n",
    "    def testIsNotBST3(self):\n",
    "        A = Node(1)\n",
    "        B = Node(2)\n",
    "        C = Node(3)\n",
    "        A.link(B)\n",
    "        A.link(C)\n",
    "        self.assertEqual(is_bst(A), False)\n",
    "        \n",
    "    def testIsBSTLeftOnly(self):\n",
    "        A = Node(2)\n",
    "        B = Node(1)\n",
    "        A.link(B)\n",
    "        self.assertEqual(is_bst(A), True)\n",
    "    \n",
    "    # Technically given the way we defined a tree this isn't testable without a left child also.\n",
    "    #     def testIsBSTRightOnly(self):\n",
    "    #         A = Node(2)\n",
    "    #         B = Node(3)\n",
    "    #         A.link(B)\n",
    "    #         self.assertEqual(is_bst(A), True)\n",
    "        \n",
    "    def testIsBSTNodeONly(self):\n",
    "        A = Node(1)\n",
    "        self.assertEqual(is_bst(A), True)\n",
    "\n",
    "if __name__ == '__main__':  unittest.main(argv=[''], exit=False)"
   ]
  },
  {
   "cell_type": "markdown",
   "metadata": {},
   "source": [
    "Comment: solved this easily this time around."
   ]
  },
  {
   "cell_type": "markdown",
   "metadata": {},
   "source": [
    "## 4.6\n",
    "\n",
    "Q: Given a node in a binary search tree, implement a way of finding the next successive node in that tree by value. You may assume that each node has a link to its parent."
   ]
  },
  {
   "cell_type": "code",
   "execution_count": 42,
   "metadata": {},
   "outputs": [],
   "source": [
    "class BinaryNode:\n",
    "    def __init__(self, value, left, right, parent=None):\n",
    "        self.value = value\n",
    "        self.left = left\n",
    "        self.right = right\n",
    "        self.parent = None"
   ]
  },
  {
   "cell_type": "code",
   "execution_count": null,
   "metadata": {},
   "outputs": [],
   "source": [
    "def findSuccessive(node):\n",
    "    pass"
   ]
  }
 ],
 "metadata": {
  "kernelspec": {
   "display_name": "Python 3",
   "language": "python",
   "name": "python3"
  },
  "language_info": {
   "codemirror_mode": {
    "name": "ipython",
    "version": 3
   },
   "file_extension": ".py",
   "mimetype": "text/x-python",
   "name": "python",
   "nbconvert_exporter": "python",
   "pygments_lexer": "ipython3",
   "version": "3.6.6"
  }
 },
 "nbformat": 4,
 "nbformat_minor": 2
}
