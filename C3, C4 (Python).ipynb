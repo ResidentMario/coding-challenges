{
 "cells": [
  {
   "cell_type": "markdown",
   "metadata": {},
   "source": [
    "## 1.1\n",
    "\n",
    "Q: Determine if a string has all unique characters."
   ]
  },
  {
   "cell_type": "code",
   "execution_count": 1,
   "metadata": {},
   "outputs": [],
   "source": [
    "def all_unique(s):  return len(set(s)) == len(s)"
   ]
  },
  {
   "cell_type": "code",
   "execution_count": 2,
   "metadata": {},
   "outputs": [
    {
     "name": "stderr",
     "output_type": "stream",
     "text": [
      "...\n",
      "----------------------------------------------------------------------\n",
      "Ran 3 tests in 0.005s\n",
      "\n",
      "OK\n"
     ]
    }
   ],
   "source": [
    "import unittest\n",
    "\n",
    "class TestUnique(unittest.TestCase):\n",
    "    def testZeroLength(self):  self.assertEqual(all_unique(\"\"), True)\n",
    "    def testUnique(self):  self.assertEqual(all_unique(\"a\"), True)\n",
    "    def testNoneUnique(self):  self.assertEqual(all_unique(\"b\"), True)\n",
    "\n",
    "if __name__ == '__main__':  unittest.main(argv=[''], exit=False)"
   ]
  },
  {
   "cell_type": "markdown",
   "metadata": {},
   "source": [
    "## 3.1\n",
    "\n",
    "Q: Describe how to implement three stacks using a single array.\n",
    "\n",
    "A: The solution is to maintain three integer values, one for the highest element of each stack, with the integers starting at $\\{1, 2, 3\\}$ and incrementing by one. Elements go in the array as:\n",
    "\n",
    "$$\\{ s_{1,1}, s_{2, 1}, s_{3, 1}, s_{1, 2}, s_{2, 2}, s_{3, 2}, \\ldots \\}$$"
   ]
  },
  {
   "cell_type": "markdown",
   "metadata": {},
   "source": [
    "## 3.2\n",
    "\n",
    "Q: How would you design a stack that also has an $O(1)$ `min` operation?\n",
    "\n",
    "A: By maintaing an invariant pointer $p$ which always points to the minimum element in the stack. Comparisons for potential updates on new value inserts are linear time, so this additional operation can be maintained with additional $O(1)$ space and a non-significant tax on other operation times.\n",
    "\n",
    "We can maintain a list of as many values as necessary, up to the length of the entire list, depending on the target usage pattern. E.g. we can maintain the three lowest elements, so that if the two lowest get popped we still have the last lowest stored. If we run out of minimum values in the last we will have to refill the list, which is $O(n)$. If we choose a good number for our usage pattern however we can still expect $O(1)$ amortized time."
   ]
  },
  {
   "cell_type": "markdown",
   "metadata": {},
   "source": [
    "## 3.3\n",
    "\n",
    "Q: Implement a `SetOfStacks` which implements a stack split across several substacks. Then, implement a `popAt` operation that removes the topmost element from a specific substack."
   ]
  },
  {
   "cell_type": "code",
   "execution_count": 2,
   "metadata": {},
   "outputs": [],
   "source": [
    "import math\n",
    "\n",
    "\n",
    "\"\"\"Not an efficient stack implementation but that's not the point of the exercise.\"\"\"\n",
    "class Stack:\n",
    "    def __init__(self, values=None):\n",
    "        self.store = list(values) if values else []\n",
    "        self.length = len(values) if values else 0\n",
    "        \n",
    "    def pop(self):\n",
    "        self.length -= 1\n",
    "        return self.store.pop()\n",
    "    \n",
    "    def push(self, v):\n",
    "        self.length += 1\n",
    "        self.store.append(v)\n",
    "\n",
    "\n",
    "class SetOfStacks:\n",
    "    def __init__(self, values=None, stack_size=3):\n",
    "        self.store = []\n",
    "        self.length = 0\n",
    "        self.stack_size = stack_size\n",
    "        for v in values:\n",
    "            self.push(v)\n",
    "            \n",
    "    def push(self, v):\n",
    "        if self.length % self.stack_size == 0:\n",
    "            next_stack = Stack([v])\n",
    "            self.store.append(next_stack)\n",
    "        else:\n",
    "            self.store[-1].push(v)\n",
    "        self.length += 1\n",
    "    \n",
    "    def pop(self):\n",
    "        v = self.store[math.ceil(self.length / self.stack_size) - 1].pop()\n",
    "        self.length -= 1\n",
    "        \n",
    "        if self.length % self.stack_size == 0:\n",
    "            self.store = self.store[:-1]\n",
    "        \n",
    "        if v == None:\n",
    "            return self.pop()\n",
    "        else:\n",
    "            return v\n",
    "    \n",
    "    def popAt(self, iloc):\n",
    "        v = self.store[iloc].pop()\n",
    "        self.store[iloc].push(None)\n",
    "        return v"
   ]
  },
  {
   "cell_type": "code",
   "execution_count": 33,
   "metadata": {},
   "outputs": [
    {
     "name": "stderr",
     "output_type": "stream",
     "text": [
      ".........\n",
      "----------------------------------------------------------------------\n",
      "Ran 9 tests in 0.011s\n",
      "\n",
      "OK\n"
     ]
    }
   ],
   "source": [
    "import unittest\n",
    "\n",
    "class TestSetOfStacks(unittest.TestCase):\n",
    "    def testStackPop(self):\n",
    "        s = Stack([1, 2, 3])\n",
    "        self.assertEqual(s.pop(), 3)\n",
    "        self.assertEqual(s.pop(), 2)\n",
    "        self.assertEqual(s.pop(), 1)\n",
    "        \n",
    "    def testStackPush(self):\n",
    "        s = Stack()\n",
    "        s.push(1)\n",
    "        s.push(2)\n",
    "        s.push(3)\n",
    "        self.assertEqual(s.pop(), 3)\n",
    "        self.assertEqual(s.pop(), 2)\n",
    "        self.assertEqual(s.pop(), 1)\n",
    "        \n",
    "    def testSetOfStacksPop1(self):\n",
    "        s = SetOfStacks(values=[1, 2, 3], stack_size=1)\n",
    "        self.assertEqual(s.pop(), 3)\n",
    "        self.assertEqual(s.pop(), 2)\n",
    "        self.assertEqual(s.pop(), 1)\n",
    "        \n",
    "    def testSetOfStacksPop3(self):\n",
    "        s = SetOfStacks(values=[1, 2, 3], stack_size=3)\n",
    "        self.assertEqual(s.pop(), 3)\n",
    "        self.assertEqual(s.pop(), 2)\n",
    "        self.assertEqual(s.pop(), 1)\n",
    "\n",
    "    def testSetOfStacksPop10(self):\n",
    "        s = SetOfStacks(values=[1, 2, 3], stack_size=10)\n",
    "        self.assertEqual(s.pop(), 3)\n",
    "        self.assertEqual(s.pop(), 2)\n",
    "        self.assertEqual(s.pop(), 1)\n",
    "    \n",
    "    def testSetOfStacksPop10(self):\n",
    "        s = SetOfStacks(values=[1, 2, 3], stack_size=10)\n",
    "        self.assertEqual(s.pop(), 3)\n",
    "        self.assertEqual(s.pop(), 2)\n",
    "        self.assertEqual(s.pop(), 1)    \n",
    "    \n",
    "    def testSetOfStacksPush(self):\n",
    "        s = SetOfStacks(values=[], stack_size=1)\n",
    "        s.push(1)\n",
    "        s.push(2)\n",
    "        s.push(3)\n",
    "        self.assertEqual(s.pop(), 3)\n",
    "        self.assertEqual(s.pop(), 2)\n",
    "        self.assertEqual(s.pop(), 1)    \n",
    "    \n",
    "    def testSetOfStacksPopAt(self):\n",
    "        s = SetOfStacks(values=[1, 2, 3], stack_size=1)\n",
    "        self.assertEqual(s.popAt(0), 1)\n",
    "        self.assertEqual(s.popAt(1), 2)\n",
    "        self.assertEqual(s.popAt(2), 3)\n",
    "        \n",
    "    def testSetOfStacksPopAtPopInteraction1(self):\n",
    "        s = SetOfStacks(values=[1, 2, 3], stack_size=1)\n",
    "        self.assertEqual(s.popAt(2), 3)\n",
    "        self.assertEqual(s.pop(), 2)\n",
    "\n",
    "    def testSetOfStacksPopAtPopInteraction2(self):\n",
    "        s = SetOfStacks(values=[1, 2, 3], stack_size=1)\n",
    "        self.assertEqual(s.popAt(1), 2)\n",
    "        self.assertEqual(s.pop(), 3)\n",
    "        self.assertEqual(s.pop(), 1)\n",
    "        \n",
    "if __name__ == '__main__':  unittest.main(argv=[''], exit=False)"
   ]
  },
  {
   "cell_type": "markdown",
   "metadata": {},
   "source": [
    "This implementation uses a list, which doesn't slow down the amortized time of the algorithm but does slow it down in practice. An implementation using linked lists for storing the stacks and for storing the stack values would be faster in theory.\n",
    "\n",
    "With this coda, maintaing separate substacks doesn't modify the properties of the stack meaningfully: push and pop are still both $O(1)$.\n",
    "\n",
    "The addition of `popAt` introduces the possibility of empty slots in the substacks. Maintaining empty slots is faster than copying substack values. When we go to refund the value, we can inspect if the value is a `None`, and track back recursively until we get a non-`None` value. This is still $O(1)$ amortized time."
   ]
  },
  {
   "cell_type": "markdown",
   "metadata": {},
   "source": [
    "## 3.4\n",
    "\n",
    "Q: Implement a queue using two stacks.\n",
    "\n",
    "This is a data structures trivia question and not something you would ever do in production! Sheesh.\n",
    "\n",
    "You can do this by placing the latest element on the left stack, then placing the contents of the right stack on top of the left stack, then rotating the left and right stacks (swapping their positions).\n",
    "\n",
    "The enqueue algorithm is $O(1)$ if we maintain a pointer to the root of the right substack, and $O(n)$ if we do not (we must iterate over the stack elements to find its bottom to move it to the left substack).\n",
    "\n",
    "The dequeue algorithm is still $O(1)$."
   ]
  },
  {
   "cell_type": "code",
   "execution_count": 34,
   "metadata": {},
   "outputs": [],
   "source": [
    "# Again we are using lists, not as loog as linked lists but not the point.\n",
    "\n",
    "class TwoStackQueue(unittest.TestCase):\n",
    "    def __init__(self):\n",
    "        self.left = Stack()\n",
    "        self.right = Stack()\n",
    "        \n",
    "    def enqueue(v):\n",
    "        self.left = Stack(self.right.store + [v])\n",
    "        self.left, self.right = self.right, self.left\n",
    "        \n",
    "    def dequeue():\n",
    "        return self.right.pop()\n",
    "        \n",
    "# Note: skipping the tests on this one."
   ]
  },
  {
   "cell_type": "markdown",
   "metadata": {},
   "source": [
    "## 4.1\n",
    "\n",
    "Q: Given a direct graph, design an algorithm to determine whether or not there is a route between two nodes."
   ]
  },
  {
   "cell_type": "code",
   "execution_count": 1,
   "metadata": {},
   "outputs": [],
   "source": [
    "class Node:\n",
    "    def __init__(self, uvalue):\n",
    "        self.links = []\n",
    "        self.value = uvalue\n",
    "    \n",
    "    def link(self, n):\n",
    "        self.links.append(n)\n",
    "        \n",
    "\n",
    "def bfs_with_stop_condition(source, target):\n",
    "    next_nodes = [source]\n",
    "    ignore_list = set()\n",
    "    \n",
    "    while True:\n",
    "        if len(next_nodes) == 0:\n",
    "            return False\n",
    "        \n",
    "        next_next_nodes = []\n",
    "        for next_node in next_nodes:\n",
    "            if next_node.value == target.value:\n",
    "                return True\n",
    "            \n",
    "            next_next_nodes += [node for node in next_node.links if node.value not in ignore_list]\n",
    "        \n",
    "        ignore_list.update([n.value for n in next_nodes])\n",
    "        next_nodes = next_next_nodes"
   ]
  },
  {
   "cell_type": "code",
   "execution_count": 66,
   "metadata": {},
   "outputs": [
    {
     "data": {
      "text/plain": [
       "True"
      ]
     },
     "execution_count": 66,
     "metadata": {},
     "output_type": "execute_result"
    }
   ],
   "source": [
    "A = Node(1)\n",
    "B = Node(2)\n",
    "C = Node(3)\n",
    "A.link(B)\n",
    "\n",
    "bfs_with_stop_condition(A, B)"
   ]
  },
  {
   "cell_type": "markdown",
   "metadata": {},
   "source": [
    "This is BFS with a stop condition. The algorithm has an average-case performance of $O(k^c)$, where $k$ is the average node interconnectivity and $c$ is the half the distance from the root node to the furthest edge of the graph.\n",
    "\n",
    "A better algorithm would be a bipartite search, which would emminate from both the source node and the target node and maintain a list of nodes that both sides has seen. We iterate the source search first, then the target search, then the source search, and so on. We have a solution when we find a node in one search that has already appeared in the other search. This will roughly halve the average-case running time to $O(k^{c/2})$."
   ]
  },
  {
   "cell_type": "markdown",
   "metadata": {},
   "source": [
    "## 4.2\n",
    "\n",
    "Q: *Binary search tree allocation* &mdash; Create a binary search tree of minimum height for a sorted array of unique integers."
   ]
  },
  {
   "cell_type": "code",
   "execution_count": 86,
   "metadata": {},
   "outputs": [],
   "source": [
    "def binarize(values):\n",
    "    if len(values) == 0:\n",
    "        return None\n",
    "    elif len(values) == 1:\n",
    "        return Node(values[0])\n",
    "        \n",
    "    l = len(values)\n",
    "    root = Node(values[l // 2])\n",
    "    root.links.append(binarize(values[:l // 2]))\n",
    "    root.links.append(binarize(values[l // 2:]))\n",
    "    return root"
   ]
  },
  {
   "cell_type": "markdown",
   "metadata": {},
   "source": [
    "Q: Given a binary tree, create a linked list of nodes at each depth.\n",
    "\n",
    "The solution is to perform any search you want, incorporating tracking on what depth you are looking at a node."
   ]
  },
  {
   "cell_type": "code",
   "execution_count": 101,
   "metadata": {},
   "outputs": [],
   "source": [
    "def bfs_with_depth(root):\n",
    "    next_nodes = [root]\n",
    "    out = []\n",
    "    current_depth = 0\n",
    "    \n",
    "    while True:\n",
    "        if len(next_nodes) == 0:\n",
    "            return out\n",
    "        \n",
    "        next_next_nodes = []\n",
    "        for next_node in next_nodes:\n",
    "            next_next_nodes += next_node.links\n",
    "        \n",
    "        out.append(next_nodes)\n",
    "        current_depth += 1\n",
    "        next_nodes = next_next_nodes"
   ]
  },
  {
   "cell_type": "code",
   "execution_count": 107,
   "metadata": {},
   "outputs": [
    {
     "name": "stderr",
     "output_type": "stream",
     "text": [
      "..........\n",
      "----------------------------------------------------------------------\n",
      "Ran 10 tests in 0.005s\n",
      "\n",
      "OK\n"
     ]
    }
   ],
   "source": [
    "import unittest\n",
    "\n",
    "class TestDepthOrdering(unittest.TestCase):\n",
    "    def test(self):\n",
    "        A = Node(1)\n",
    "        B = Node(2)\n",
    "        C = Node(3)\n",
    "        D = Node(4)\n",
    "        A.link(B)\n",
    "        A.link(C)\n",
    "        C.link(D)\n",
    "        self.assertEqual(bfs_with_depth(A), [[A], [B, C], [D]])\n",
    "        \n",
    "if __name__ == '__main__':  unittest.main(argv=[''], exit=False)"
   ]
  },
  {
   "cell_type": "markdown",
   "metadata": {},
   "source": [
    "This algorithm is $O(n)$, where n is the number of nodes. This is the best case algorithm as there's no way to avoid visiting every single node (except that linked lists would be faster than lists here)."
   ]
  },
  {
   "cell_type": "markdown",
   "metadata": {},
   "source": [
    "## 3.5\n",
    "\n",
    "Q: *Sort stack* &mdash; Implement a stack that retains sort order. You may use an additional stack but cannot use any other data structure."
   ]
  },
  {
   "cell_type": "code",
   "execution_count": 32,
   "metadata": {},
   "outputs": [],
   "source": [
    "class SortStack:\n",
    "    def __init__(self):\n",
    "        self.stack = Stack()\n",
    "        self.aux = Stack()\n",
    "        self.length = 0\n",
    "        \n",
    "    def push(self, v):\n",
    "        if self.length == 0:\n",
    "            self.stack.push(v)\n",
    "            self.length = 1\n",
    "        else:\n",
    "            while self.stack.length > 0:\n",
    "                prior = self.stack.pop()\n",
    "                if prior < v:\n",
    "                    self.stack.push(prior)\n",
    "                    break\n",
    "                else:\n",
    "                    self.aux.push(prior)\n",
    "            \n",
    "            self.stack.push(v)\n",
    "            \n",
    "            while self.aux.length > 0:\n",
    "                self.stack.push(self.aux.pop())"
   ]
  },
  {
   "cell_type": "code",
   "execution_count": 33,
   "metadata": {},
   "outputs": [],
   "source": [
    "s = SortStack()\n",
    "s.push(5)\n",
    "s.push(3)\n",
    "s.push(9)"
   ]
  },
  {
   "cell_type": "code",
   "execution_count": 34,
   "metadata": {},
   "outputs": [
    {
     "data": {
      "text/plain": [
       "[3, 5, 9]"
      ]
     },
     "execution_count": 34,
     "metadata": {},
     "output_type": "execute_result"
    }
   ],
   "source": [
    "s.stack.store"
   ]
  },
  {
   "cell_type": "markdown",
   "metadata": {},
   "source": [
    "Comment: a relatively easy solution. This push algorithm is $O(1)$ in the best case (exactly ordered inserts take linear time) and $O(n)$ in the worst case (exactly backwards ordered inserts always take the full length of the existing stack).\n",
    "\n",
    "Because we can only use auxillary stack elements there isn't a simple solution that's better.\n",
    "\n",
    "Addendum: the question actually asks to *convert an existing stack*. The basic idea is the same, but I rather misinterpreted this one..."
   ]
  },
  {
   "cell_type": "markdown",
   "metadata": {},
   "source": [
    "## 4.3\n",
    "\n",
    "Q: Given a binary tree, design an algorithm that creates a linked list of values at each depth.\n",
    "\n",
    "For simplification I'll just use a list here.\n",
    "\n",
    "One way to do this is to perform BFS with an additional save step."
   ]
  },
  {
   "cell_type": "code",
   "execution_count": 44,
   "metadata": {},
   "outputs": [],
   "source": [
    "def linkify(root):\n",
    "    next_nodes = [root]\n",
    "    nodes_at_depths = []\n",
    "    next_next_nodes = []        \n",
    "    \n",
    "    while len(next_nodes) > 0:\n",
    "        for node in next_nodes:\n",
    "            next_next_nodes += [link for link in node.links if link != None]\n",
    "        nodes_at_depths += [next_nodes]\n",
    "        next_nodes = next_next_nodes\n",
    "        next_next_nodes = []\n",
    "        \n",
    "    return nodes_at_depths"
   ]
  },
  {
   "cell_type": "code",
   "execution_count": 45,
   "metadata": {},
   "outputs": [
    {
     "data": {
      "text/plain": [
       "[[<__main__.Node at 0x7fe254044a58>],\n",
       " [<__main__.Node at 0x7fe254044828>, <__main__.Node at 0x7fe2540449b0>]]"
      ]
     },
     "execution_count": 45,
     "metadata": {},
     "output_type": "execute_result"
    }
   ],
   "source": [
    "A = Node(1)\n",
    "B = Node(2)\n",
    "C = Node(3)\n",
    "A.link(B)\n",
    "A.link(C)\n",
    "\n",
    "linkify(A)"
   ]
  },
  {
   "cell_type": "markdown",
   "metadata": {},
   "source": [
    "Comment: I definitely did this problem before but lost it when I banged up that merge. =/"
   ]
  },
  {
   "cell_type": "markdown",
   "metadata": {},
   "source": [
    "## 4.4\n",
    "\n",
    "Omitted, I did it earlier pretty sure."
   ]
  },
  {
   "cell_type": "markdown",
   "metadata": {},
   "source": [
    "## 4.5\n",
    "\n",
    "Q: Implement a check on whether a binary tree is a binary search tree.\n",
    "\n",
    "Every node in a binary tree maintains a contract with every prior node in its path. The contract is that the given node appears on the same branch of that prior node's tree as it would if it were a direct child. So to verify BST-ness we need to verify that this invariant is satisfied."
   ]
  },
  {
   "cell_type": "code",
   "execution_count": 38,
   "metadata": {},
   "outputs": [],
   "source": [
    "def is_bst(root, priors=[]):\n",
    "    if not root:\n",
    "        return True\n",
    "    \n",
    "    left  = root.links[0] if len(root.links) >= 1 else None\n",
    "    right = root.links[1] if len(root.links) >= 2 else None\n",
    "    \n",
    "    if any([root.value >= value if position == \"right\" else root.value <= value for (value, position) in priors]):\n",
    "        return False\n",
    "    \n",
    "    else:\n",
    "        return (True and\n",
    "            is_bst(left,  priors + [(root.value, \"right\")]) and\n",
    "            is_bst(right, priors + [(root.value, \"left\")]))"
   ]
  },
  {
   "cell_type": "code",
   "execution_count": 40,
   "metadata": {},
   "outputs": [
    {
     "name": "stderr",
     "output_type": "stream",
     "text": [
      ".....\n",
      "----------------------------------------------------------------------\n",
      "Ran 5 tests in 0.003s\n",
      "\n",
      "OK\n"
     ]
    }
   ],
   "source": [
    "import unittest\n",
    "\n",
    "class TestUnique(unittest.TestCase):\n",
    "    def testEmpty(self):  self.assertEqual(is_bst(None), True)\n",
    "        \n",
    "    def testIsBST3(self):\n",
    "        A = Node(2)\n",
    "        B = Node(1)\n",
    "        C = Node(3)\n",
    "        A.link(B)\n",
    "        A.link(C)\n",
    "        self.assertEqual(is_bst(A), True)\n",
    "        \n",
    "    def testIsNotBST3(self):\n",
    "        A = Node(1)\n",
    "        B = Node(2)\n",
    "        C = Node(3)\n",
    "        A.link(B)\n",
    "        A.link(C)\n",
    "        self.assertEqual(is_bst(A), False)\n",
    "        \n",
    "    def testIsBSTLeftOnly(self):\n",
    "        A = Node(2)\n",
    "        B = Node(1)\n",
    "        A.link(B)\n",
    "        self.assertEqual(is_bst(A), True)\n",
    "    \n",
    "    # Technically given the way we defined a tree this isn't testable without a left child also.\n",
    "    #     def testIsBSTRightOnly(self):\n",
    "    #         A = Node(2)\n",
    "    #         B = Node(3)\n",
    "    #         A.link(B)\n",
    "    #         self.assertEqual(is_bst(A), True)\n",
    "        \n",
    "    def testIsBSTNodeONly(self):\n",
    "        A = Node(1)\n",
    "        self.assertEqual(is_bst(A), True)\n",
    "\n",
    "if __name__ == '__main__':  unittest.main(argv=[''], exit=False)"
   ]
  },
  {
   "cell_type": "markdown",
   "metadata": {},
   "source": [
    "Comment: solved this easily this time around."
   ]
  },
  {
   "cell_type": "markdown",
   "metadata": {},
   "source": [
    "## 4.6\n",
    "\n",
    "Q: Given a node in a binary search tree, implement a way of finding the next successive node in that tree by value. You may assume that each node has a link to its parent.\n",
    "\n",
    "After doodling some I found that within the structure of a binary search tree, to answer this ask, with respect to the current node, we need (1) the leftmost element of the right subtree, or, if no subtree exists, (2) the first right parent."
   ]
  },
  {
   "cell_type": "code",
   "execution_count": 47,
   "metadata": {},
   "outputs": [],
   "source": [
    "class BinaryNode:\n",
    "    def __init__(self, value, left=None, right=None, parent=None):\n",
    "        self.value = value\n",
    "        self.left = left\n",
    "        self.right = right\n",
    "        self.parent = parent"
   ]
  },
  {
   "cell_type": "code",
   "execution_count": 35,
   "metadata": {},
   "outputs": [],
   "source": [
    "def findSuccessive(root):\n",
    "    if root.right:\n",
    "        child = root.right\n",
    "        while child.left:\n",
    "            child = child.left\n",
    "        return child\n",
    "    else:\n",
    "        parent = root.parent\n",
    "        while parent.value < root.value:\n",
    "            parent = parent.parent\n",
    "        return parent"
   ]
  },
  {
   "cell_type": "code",
   "execution_count": 31,
   "metadata": {},
   "outputs": [
    {
     "data": {
      "text/plain": [
       "<__main__.BinaryNode at 0x1080af2e8>"
      ]
     },
     "execution_count": 31,
     "metadata": {},
     "output_type": "execute_result"
    }
   ],
   "source": [
    "A = BinaryNode(2)\n",
    "B = BinaryNode(1, parent=A)\n",
    "C = BinaryNode(3, parent=A)\n",
    "A.left = B\n",
    "A.right = C\n",
    "\n",
    "findSuccessive(A)"
   ]
  },
  {
   "cell_type": "code",
   "execution_count": 38,
   "metadata": {},
   "outputs": [
    {
     "name": "stderr",
     "output_type": "stream",
     "text": [
      "..\n",
      "----------------------------------------------------------------------\n",
      "Ran 2 tests in 0.002s\n",
      "\n",
      "OK\n"
     ]
    }
   ],
   "source": [
    "import unittest\n",
    "\n",
    "class TestFindSuccessive(unittest.TestCase):\n",
    "    def setUp(self):\n",
    "        A = BinaryNode(2)\n",
    "        B = BinaryNode(1, parent=A)\n",
    "        C = BinaryNode(3, parent=A)\n",
    "        A.left = B\n",
    "        A.right = C\n",
    "        self.root = A\n",
    "    \n",
    "    def testRightDown(self):  \n",
    "        self.assertEqual(findSuccessive(self.root).value, 3)\n",
    "        \n",
    "    def testLeftUp(self):  \n",
    "        self.assertEqual(findSuccessive(self.root.left).value, 2)\n",
    "        \n",
    "\n",
    "if __name__ == '__main__':  unittest.main(argv=[''], exit=False)"
   ]
  },
  {
   "cell_type": "markdown",
   "metadata": {},
   "source": [
    "Comment: easy enough."
   ]
  },
  {
   "cell_type": "markdown",
   "metadata": {},
   "source": [
    "## 4.7\n",
    "\n",
    "Q: Find a build order for a given set of projects and dependencies.\n",
    "\n",
    "This question basically asks to build a basic directed graph task scheduler, a la Airflow and friends. It boils down to solving for the topological sort of a directed graph, if one exists."
   ]
  },
  {
   "cell_type": "code",
   "execution_count": 42,
   "metadata": {},
   "outputs": [],
   "source": [
    "def solveDependencies(projects, dependencies):\n",
    "    projects_map = {project: Node(project) for project in projects}\n",
    "    \n",
    "    for (requires, requirement) in dependencies:\n",
    "        projects_map[requires].link(projects_map[requirement])\n",
    "    \n",
    "    projects_with_dependencies = set()\n",
    "    for project in projects_map.values():\n",
    "        projects_with_dependencies.update(set([project for project in project.links]))\n",
    "    projects_without_dependencies = set(projects_map.values()).difference(projects_with_dependencies)\n",
    "    \n",
    "    root = list(projects_without_dependencies)[0]\n",
    "\n",
    "    return bfs(root)"
   ]
  },
  {
   "cell_type": "code",
   "execution_count": 44,
   "metadata": {},
   "outputs": [
    {
     "data": {
      "text/plain": [
       "[<__main__.Node at 0x7feff32fec50>,\n",
       " <__main__.Node at 0x7feff32fee48>,\n",
       " <__main__.Node at 0x7feff32fec18>]"
      ]
     },
     "execution_count": 44,
     "metadata": {},
     "output_type": "execute_result"
    }
   ],
   "source": [
    "solveDependencies(['A', 'B', 'C'], [['A', 'B'], ['B', 'C']])"
   ]
  },
  {
   "cell_type": "markdown",
   "metadata": {},
   "source": [
    "This algorithm will not work if there are multiple root nodes without dependencies, but an easy modification can be made to account for this case.\n",
    "\n",
    "The algorithm iterates over the $k$ dependencies and the $n$ nodes, then does BFS to get a topological sort (spanning tree of this directed graph), again touching $n$ nodes this way. Thus this algorithm is $O(n)$ overall.\n",
    "\n",
    "Comment: I belive this code would be simpler if I linked up the projects map the other way. I should have penciled this one out on paper first, before jumping into this code, in order to avoid doing this backwards."
   ]
  },
  {
   "cell_type": "markdown",
   "metadata": {},
   "source": [
    "## 4.8\n",
    "\n",
    "Q: Design an algorithm to find the first common ancestor of two nodes in a binary tree (not necessarily a binary search tree).\n",
    "\n",
    "I assume for this exercise that each node retains a pointer to its parent. In that case solving for this is doing breadth first search, but from two starting points."
   ]
  },
  {
   "cell_type": "code",
   "execution_count": 59,
   "metadata": {},
   "outputs": [],
   "source": [
    "class BinaryNode:\n",
    "    def __init__(self, value, left=None, right=None, parent=None):\n",
    "        self.value = value\n",
    "        self.left = left\n",
    "        self.right = right\n",
    "        self.parent = parent\n",
    "        \n",
    "        \n",
    "def first_common_ancestor(A, B):\n",
    "    A_parents = set()\n",
    "    B_parents = set()\n",
    "    \n",
    "    while True:\n",
    "        A_up = A.parent if A.parent else None\n",
    "        B_up = B.parent if B.parent else None\n",
    "        \n",
    "        if A_up in B_parents:\n",
    "            return A_up\n",
    "        elif B_up in A_parents:\n",
    "            return B_up\n",
    "        elif not A_up and not B_up:\n",
    "            return None        \n",
    "        else:\n",
    "            if A_up:\n",
    "                A_parents.update({A_up})\n",
    "            if B_up:\n",
    "                B_parents.update({B_up})"
   ]
  },
  {
   "cell_type": "code",
   "execution_count": 67,
   "metadata": {},
   "outputs": [
    {
     "name": "stderr",
     "output_type": "stream",
     "text": [
      "..\n",
      "----------------------------------------------------------------------\n",
      "Ran 2 tests in 0.001s\n",
      "\n",
      "OK\n"
     ]
    }
   ],
   "source": [
    "import unittest\n",
    "\n",
    "class TestFindSuccessive(unittest.TestCase):\n",
    "    def testSimpleNoMatch(self):\n",
    "        B = BinaryNode('B')\n",
    "        C = BinaryNode('C')\n",
    "        self.assertEqual(first_common_ancestor(B, C), None)\n",
    "        \n",
    "    def testSimpleTree(self):  \n",
    "        A = BinaryNode('A')\n",
    "        B = BinaryNode('B')\n",
    "        C = BinaryNode('C')\n",
    "        A.left = B\n",
    "        B.parent = A\n",
    "        A.right = C\n",
    "        C.parent = A\n",
    "        self.assertEqual(first_common_ancestor(B, C).value, 'A')\n",
    "\n",
    "if __name__ == '__main__':  unittest.main(argv=[''], exit=False)"
   ]
  },
  {
   "cell_type": "markdown",
   "metadata": {},
   "source": [
    "Comment: done well enough. $O(k)$ overall, where $k$ is the average depth of the tree."
   ]
  },
  {
   "cell_type": "markdown",
   "metadata": {},
   "source": [
    "## 4.9\n",
    "\n",
    "Q: A binary search tree was created by iterating through a list and inserting each element. Return all possible arrays that could result in the construction of a particular BST."
   ]
  },
  {
   "cell_type": "code",
   "execution_count": 132,
   "metadata": {},
   "outputs": [],
   "source": [
    "def weave(left, right):\n",
    "    if not left:\n",
    "        return [right]\n",
    "    elif not right:\n",
    "        return [left]\n",
    "    else:\n",
    "        left_subresult = [[left[0]] + w for w in weave(left[1:], right)]\n",
    "        right_subresult = [[right[0]] + w for w in weave(left, right[1:])]\n",
    "        return left_subresult + right_subresult\n",
    "\n",
    "    \n",
    "def enumerateSources(root, priors=None):\n",
    "    if not priors:\n",
    "        priors = []\n",
    "    \n",
    "    if not root.left and not root.right:\n",
    "        return [[root.value] + prior for prior in priors] if priors else [root.value]\n",
    "    else:\n",
    "        left  = enumerateSources(root.left,  priors=priors)\n",
    "        right = enumerateSources(root.right, priors=priors)\n",
    "        return [[root.value] + prior for prior in weave(left, right)]"
   ]
  },
  {
   "cell_type": "code",
   "execution_count": 134,
   "metadata": {},
   "outputs": [
    {
     "data": {
      "text/plain": [
       "[[1, 2, 3, 4, 5],\n",
       " [1, 3, 2, 4, 5],\n",
       " [1, 3, 4, 2, 5],\n",
       " [1, 3, 4, 5, 2],\n",
       " [3, 1, 2, 4, 5],\n",
       " [3, 1, 4, 2, 5],\n",
       " [3, 1, 4, 5, 2],\n",
       " [3, 4, 1, 2, 5],\n",
       " [3, 4, 1, 5, 2],\n",
       " [3, 4, 5, 1, 2]]"
      ]
     },
     "execution_count": 134,
     "metadata": {},
     "output_type": "execute_result"
    }
   ],
   "source": [
    "weave([1, 2], [3, 4, 5])"
   ]
  },
  {
   "cell_type": "code",
   "execution_count": 133,
   "metadata": {},
   "outputs": [
    {
     "data": {
      "text/plain": [
       "[['A', 'B', 'C'], ['A', 'C', 'B']]"
      ]
     },
     "execution_count": 133,
     "metadata": {},
     "output_type": "execute_result"
    }
   ],
   "source": [
    "A = BinaryNode('A')\n",
    "B = BinaryNode('B')\n",
    "C = BinaryNode('C')\n",
    "A.left = B\n",
    "B.parent = A\n",
    "A.right = C\n",
    "C.parent = A\n",
    "\n",
    "enumerateSources(A)"
   ]
  },
  {
   "cell_type": "markdown",
   "metadata": {},
   "source": [
    "This is an extremely hard problem. I was able to solve for the shape of the solution very quickly. I was able to identify the weave subproblem very quickly. I got the general form of `enumerateSources` correct immediately. I got the general form of the `weave` correct, but stumbled around in the list concatenation structure. Overall, for a problem this hard, was excellent...but I know I cannot reliably push through problems this difficult!"
   ]
  },
  {
   "cell_type": "markdown",
   "metadata": {},
   "source": [
    "## 4.10\n",
    "\n",
    "Q: Determine if `T2` is a subtree of `T1`.\n",
    "\n",
    "Here's a working brute-force solution."
   ]
  },
  {
   "cell_type": "code",
   "execution_count": 150,
   "metadata": {},
   "outputs": [],
   "source": [
    "def nodes_in_bfs_order(root):\n",
    "    if not root.left and not root.right:\n",
    "        return [root]\n",
    "    else:\n",
    "        left_sublist  = nodes_in_bfs_order(root.left) if root.left  else []\n",
    "        right_sublist = nodes_in_bfs_order(root.right) if root.right else []\n",
    "        return [root] + left_sublist + right_sublist\n",
    "    \n",
    "def is_match(A, B):\n",
    "    return nodes_in_bfs_order(A) == nodes_in_bfs_order(B)\n",
    "    \n",
    "def is_subtree(T1, T2):\n",
    "    for T1_sub in nodes_in_bfs_order(T1):\n",
    "        if is_match(T1_sub, T2):\n",
    "            return True\n",
    "    return False"
   ]
  },
  {
   "cell_type": "code",
   "execution_count": 155,
   "metadata": {},
   "outputs": [],
   "source": [
    "A = BinaryNode('A')\n",
    "B = BinaryNode('B')\n",
    "C = BinaryNode('C')\n",
    "A.left = B\n",
    "B.parent = A\n",
    "A.right = C\n",
    "C.parent = A\n",
    "D = BinaryNode('D')"
   ]
  },
  {
   "cell_type": "code",
   "execution_count": 159,
   "metadata": {},
   "outputs": [
    {
     "name": "stderr",
     "output_type": "stream",
     "text": [
      "...\n",
      "----------------------------------------------------------------------\n",
      "Ran 3 tests in 0.002s\n",
      "\n",
      "OK\n"
     ]
    }
   ],
   "source": [
    "import unittest\n",
    "\n",
    "class TestIsSubtree(unittest.TestCase):\n",
    "    def test(self):\n",
    "        A = BinaryNode('A')\n",
    "        B = BinaryNode('B')\n",
    "        C = BinaryNode('C')\n",
    "        A.left = B\n",
    "        B.parent = A\n",
    "        A.right = C\n",
    "        C.parent = A\n",
    "        \n",
    "        D = BinaryNode('D')\n",
    "        \n",
    "        self.assertEqual(is_subtree(A, A), True)\n",
    "        self.assertEqual(is_subtree(A, B), True)\n",
    "        self.assertEqual(is_subtree(A, C), True)\n",
    "        self.assertEqual(is_subtree(A, D), False)\n",
    "\n",
    "if __name__ == '__main__':  unittest.main(argv=[''], exit=False)"
   ]
  },
  {
   "cell_type": "markdown",
   "metadata": {},
   "source": [
    "This algorithm is $O(n^2)$.\n",
    "\n",
    "It could be improved by making smart optimizations around the path of the BFS, which could drop us to $O(n)$.\n",
    "\n",
    "The alternative approach, which I considered but didn't followed, would be to transform this problem into a string comparison problem by hashing the trees. If you can hash the trees in such a way that you preserve order, you can do a string comparison afterwards, which would reduce the problem to $O(n)$. You can do this if you include `null` values! Totally could have come up with this one.\n",
    "\n",
    "Anyway, this implementation is fine (albeit slower) and I did it pretty efficiently. Next!"
   ]
  },
  {
   "cell_type": "markdown",
   "metadata": {},
   "source": [
    "## 4.11\n",
    "\n",
    "This question asks you to implement a binary tree that allows random node retrieval. Meh, decided to skip it."
   ]
  },
  {
   "cell_type": "markdown",
   "metadata": {},
   "source": [
    "## 4.12\n",
    "\n",
    "Q: Finds all paths of any length within a binary tree with integer values which have a certain sum.\n",
    "\n",
    "This is BFS or DFS whilst keeping track of previous `{sum, directions}` tuples."
   ]
  },
  {
   "cell_type": "code",
   "execution_count": 178,
   "metadata": {},
   "outputs": [],
   "source": [
    "def append_to_priors(new, priors):\n",
    "    # TODO: this can be done without copying the dict, but I'm in a rush.\n",
    "    next_priors = priors.copy() if priors else dict()\n",
    "    \n",
    "    for prior_sum in next_priors.keys():\n",
    "        for path in next_priors[prior_sum]:\n",
    "            next_value = new.value + prior_sum\n",
    "            next_path = path + [new]\n",
    "            \n",
    "            if next_value in next_priors.keys():\n",
    "                next_priors[next_value] += next_path\n",
    "            else:\n",
    "                next_priors[next_value] = [next_path]\n",
    "    return next_priors\n",
    "\n",
    "\n",
    "def integer_sum_paths(root, sumval, priors=None):\n",
    "    if not priors:\n",
    "        prior_paths_by_sum = dict()\n",
    "    \n",
    "    if sumval - root.value in prior_paths_by_sum.keys():\n",
    "        out = [root]\n",
    "        # TODO\n",
    "    else:\n",
    "        out = []\n",
    "    \n",
    "    if root.left:\n",
    "        out = out + integer_sum_paths(root.left, sumval, priors=append_to_priors(root, priors))\n",
    "    elif root.right:\n",
    "        out = out + integer_sum_paths(root.right, sumval, priors=append_to_priors(root, priors))\n",
    "        \n",
    "    return out"
   ]
  },
  {
   "cell_type": "code",
   "execution_count": 174,
   "metadata": {},
   "outputs": [],
   "source": [
    "A = BinaryNode(1)\n",
    "B = BinaryNode(2)\n",
    "C = BinaryNode(3)\n",
    "A.left = B\n",
    "B.parent = A\n",
    "A.right = C\n",
    "C.parent = A"
   ]
  },
  {
   "cell_type": "code",
   "execution_count": 171,
   "metadata": {},
   "outputs": [
    {
     "data": {
      "text/plain": [
       "{1: [[<__main__.BinaryNode at 0x7feff32e0f98>]],\n",
       " 3: [[<__main__.BinaryNode at 0x7feff32e0f98>,\n",
       "   <__main__.BinaryNode at 0x7feff32e0668>]]}"
      ]
     },
     "execution_count": 171,
     "metadata": {},
     "output_type": "execute_result"
    }
   ],
   "source": [
    "append_to_priors(BinaryNode(2), {1: [[BinaryNode(1)]]})"
   ]
  },
  {
   "cell_type": "markdown",
   "metadata": {},
   "source": [
    "A corrected version of this algorithm is the solution (I ran out of time!). The algorithm is $O(n)$."
   ]
  },
  {
   "cell_type": "code",
   "execution_count": 179,
   "metadata": {},
   "outputs": [
    {
     "data": {
      "text/plain": [
       "[]"
      ]
     },
     "execution_count": 179,
     "metadata": {},
     "output_type": "execute_result"
    }
   ],
   "source": [
    "integer_sum_paths(A, 3)"
   ]
  },
  {
   "cell_type": "markdown",
   "metadata": {},
   "source": [
    "This algorithm is $O(nk)$, where $n$ is the number of nodes and $k$ the average depth, because we must iterate over each node and, on each iteration, copy some data from nodes previously on the path."
   ]
  }
 ],
 "metadata": {
  "kernelspec": {
   "display_name": "Python 3",
   "language": "python",
   "name": "python3"
  },
  "language_info": {
   "codemirror_mode": {
    "name": "ipython",
    "version": 3
   },
   "file_extension": ".py",
   "mimetype": "text/x-python",
   "name": "python",
   "nbconvert_exporter": "python",
   "pygments_lexer": "ipython3",
   "version": "3.6.6"
  }
 },
 "nbformat": 4,
 "nbformat_minor": 2
}
