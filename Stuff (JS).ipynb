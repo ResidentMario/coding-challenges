{
 "cells": [
  {
   "cell_type": "markdown",
   "metadata": {},
   "source": [
    "## 1.1\n",
    "\n",
    "Q: Determine if a string has all unique characters."
   ]
  },
  {
   "cell_type": "code",
   "execution_count": 3,
   "metadata": {},
   "outputs": [],
   "source": [
    "function all_unique(s) {\n",
    "    return new Set(s).size == s.length;\n",
    "}"
   ]
  },
  {
   "cell_type": "code",
   "execution_count": 4,
   "metadata": {},
   "outputs": [],
   "source": [
    "assert = require('assert');\n",
    "assert.equal(all_unique(''), true);\n",
    "assert.equal(all_unique('a'), true);\n",
    "assert.equal(all_unique('aa'), false);"
   ]
  },
  {
   "cell_type": "markdown",
   "metadata": {},
   "source": [
    "## 1.2\n",
    "\n",
    "Q: Given two strings determine if one is a permutation of the other."
   ]
  },
  {
   "cell_type": "markdown",
   "metadata": {},
   "source": [
    "The non-optimized solution is simple: compared the sorted strings. The sort will be $O(n\\log{n})$, and the comparison will be $O(n)$, so the complete solution will be $O(n^2\\log{n})$.\n",
    "\n",
    "However, this is not the best possible runtime. The best possible runtime is $O(n^2)$ (we would need to interate through each string at least once, at least until a failure condition is met). Here is an optimized psuedocode. This algorithm is indeed $O(n^2)$.\n",
    "\n",
    "```\n",
    "function is_permutation(str1, str2):\n",
    "    # Base cases.\n",
    "    if |str1| != |str2| return False\n",
    "    elif |str1| == 0 and |str2| == 0 return False\n",
    "\n",
    "    m1 = {}  # hash map\n",
    "    m1_keys = Set()\n",
    "\n",
    "    # Build the string one character count.\n",
    "    for char of str1:\n",
    "        if char in m1_keys:\n",
    "            m1[char] += 1\n",
    "        else:\n",
    "            m1_keys += {char}\n",
    "            m1[char] = 1\n",
    "\n",
    "    m2 = {}\n",
    "    m2_keys = Set()\n",
    "    # Build the string two character count.\n",
    "    for char of str2:\n",
    "        # If the string does not contain it.\n",
    "        if char not in m1_keys:\n",
    "            return False\n",
    "\n",
    "        if char not in m2_keys:\n",
    "            m2_keys += {char}\n",
    "            m2[char] = 1\n",
    "        else:\n",
    "            m2[char] += 1\n",
    "            if m2[char] > m1[char]:\n",
    "                return false\n",
    "\n",
    "    return true\n",
    "```\n",
    "\n",
    "Now tests and implementation."
   ]
  },
  {
   "cell_type": "code",
   "execution_count": 10,
   "metadata": {},
   "outputs": [],
   "source": [
    "assert = require('assert');\n",
    "assert.equal(is_permutation('', ''), true);\n",
    "assert.equal(is_permutation('a', 'aaa'), false);\n",
    "assert.equal(is_permutation('abc', 'abc'), true);\n",
    "assert.equal(is_permutation('abc', 'cba'), true);"
   ]
  },
  {
   "cell_type": "code",
   "execution_count": 9,
   "metadata": {},
   "outputs": [],
   "source": [
    "function is_permutation(str1, str2) {\n",
    "    if (str1.length !== str2.length)  return false;\n",
    "    else if (str1.length === 0 & str2.length == 0)  return true;\n",
    "    \n",
    "    let str1_map = {};\n",
    "    let str1_keys = new Set();\n",
    "    for (let char of str1) {\n",
    "        str1_keys.has(char) ? str1_map[char] += 1 : str1_map[char] = 0;\n",
    "        str1_keys.add(char);        \n",
    "    }\n",
    "    \n",
    "    let str2_map = {};\n",
    "    let str2_keys = new Set();\n",
    "    for (let char of str2) {\n",
    "        if (!str1_keys.has(char))  return false;\n",
    "        \n",
    "        str2_keys.has(char) ? str2_map[char] += 1 : str2_map[char] = 0;\n",
    "        str2_keys.add(char);\n",
    "        \n",
    "        if (str1_map[char] > str2_map[char])  return false;        \n",
    "    }\n",
    "    \n",
    "    return true;\n",
    "}"
   ]
  },
  {
   "cell_type": "markdown",
   "metadata": {},
   "source": [
    "## 1.3\n",
    "\n",
    "Q: Replace all spaces in a string with `%20`, in the manner appropriate for URL encoding (e.g. trim ending whitespace).\n",
    "\n",
    "Again a brute force solution comes immediately:"
   ]
  },
  {
   "cell_type": "code",
   "execution_count": 34,
   "metadata": {},
   "outputs": [],
   "source": [
    "function whiteparse(s) { return s.trimEnd().replace(/ /g, \"%20\"); }"
   ]
  },
  {
   "cell_type": "code",
   "execution_count": 37,
   "metadata": {},
   "outputs": [],
   "source": [
    "assert = require('assert');\n",
    "assert.equal(whiteparse(''), '');\n",
    "assert.equal(whiteparse(' '), '');\n",
    "assert.equal(whiteparse('a b c'), 'a%20b%20c');"
   ]
  },
  {
   "cell_type": "markdown",
   "metadata": {},
   "source": [
    "Though you have to know some stdlib knick-knacks to implement this. TIL: `trim`, `trimEnd`, and `trimStart`; the equivalent of `strip`, `lstrip`, and `rstrip` in Python.\n",
    "\n",
    "This is the readable brute-force solution. `trimEnd` is $O(n)$, and an efficient implementation of `replace` is $O(n)$, so this algorithm is $O(n^2)$.\n",
    "\n",
    "Here's the same algorithm without built-ins...\n",
    "\n",
    "```\n",
    "function whiteparse(s):\n",
    "    replace_idxs = []\n",
    "    \n",
    "    # First, skip the whitespace.\n",
    "    i = |s| - 1\n",
    "    while True:\n",
    "        if s[i] == \" \":\n",
    "            continue\n",
    "        else:\n",
    "            break\n",
    "\n",
    "    # Now find the indices of the characters needing replacement.\n",
    "    for c in range(i):\n",
    "        if s[c] == \" \":\n",
    "            replace_idxs.push(c)\n",
    "            \n",
    "    # Use this to determine the length of the output character array.\n",
    "    c_a = Array(i + len(replace_idxs) * 3)\n",
    "    \n",
    "    i = 0\n",
    "    for c in s:\n",
    "        if s[c] == \" \":\n",
    "            c_a[i: i + 3] = \"%20\"\n",
    "            i += 3\n",
    "        else:\n",
    "            c_a[i] = c\n",
    "            i += 1\n",
    "    \n",
    "    return c_a.join(\"\");\n",
    "```"
   ]
  },
  {
   "cell_type": "code",
   "execution_count": 43,
   "metadata": {},
   "outputs": [],
   "source": [
    "function whiteparse(s) {\n",
    "    if (s.length === 0) return s;\n",
    "    \n",
    "    replace_idxs = [];\n",
    "    \n",
    "    i = s.length - 1;\n",
    "    while (true) {\n",
    "        if (i === 0) return \"\"\n",
    "        else if (s[i] === \" \") i -= 1\n",
    "        else break\n",
    "    }\n",
    "    \n",
    "    replace_idxs = [];\n",
    "    for (let c of [...Array(i).keys()]) {\n",
    "        c = parseInt(c);\n",
    "        if (s.charAt(c) === \" \") {\n",
    "            replace_idxs.push(c);\n",
    "        }\n",
    "    }\n",
    "    \n",
    "    if (replace_idxs.length == 0) return s.slice(0, i);\n",
    "    \n",
    "    let c_a = Array(s.length - replace_idxs.length + replace_idxs.length * 3);\n",
    "    \n",
    "    i = 0;\n",
    "    for (let c of s) {\n",
    "        if (c === \" \") {\n",
    "            [c_a[i], c_a[i + 1], c_a[i +2]] = [\"%\", \"2\", \"0\"];\n",
    "            i += 3;\n",
    "        } else {\n",
    "            c_a[i] = c;\n",
    "            i += 1;\n",
    "        }\n",
    "    }\n",
    "    \n",
    "    return c_a.join(\"\");\n",
    "}"
   ]
  },
  {
   "cell_type": "code",
   "execution_count": 44,
   "metadata": {},
   "outputs": [],
   "source": [
    "assert = require('assert');\n",
    "assert.equal(whiteparse(''), '');\n",
    "assert.equal(whiteparse(' '), '');\n",
    "assert.equal(whiteparse('a b c'), 'a%20b%20c');"
   ]
  },
  {
   "cell_type": "markdown",
   "metadata": {},
   "source": [
    "Comments on this problem:\n",
    "\n",
    "* The first solution requires deep knowledge of the JavaScript stdlib. It's what you would do in production, but probably not impressive in an interview.\n",
    "* There's a probably $O(n^2)$ operation which is $O(n)$ in amortized time. Instead of iterating over the strings a second time, use the known character-to-replace positions to chunk substrings. I had a hard time getting this solution to work right away. In retrospect, it's just an optimization on this brute-force solution, and I shouldn't have gone for it right away.\n",
    "* The book uses this solution.\n",
    "* Character arrays are useful!"
   ]
  },
  {
   "cell_type": "markdown",
   "metadata": {},
   "source": [
    "## 1.4"
   ]
  },
  {
   "cell_type": "code",
   "execution_count": null,
   "metadata": {},
   "outputs": [],
   "source": []
  }
 ],
 "metadata": {
  "kernelspec": {
   "display_name": "Javascript (Node.js)",
   "language": "javascript",
   "name": "javascript"
  },
  "language_info": {
   "file_extension": ".js",
   "mimetype": "application/javascript",
   "name": "javascript",
   "version": "8.9.4"
  }
 },
 "nbformat": 4,
 "nbformat_minor": 2
}
