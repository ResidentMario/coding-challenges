{
 "cells": [
  {
   "cell_type": "markdown",
   "metadata": {},
   "source": [
    "## 1.1\n",
    "\n",
    "Q: Determine if a string has all unique characters."
   ]
  },
  {
   "cell_type": "code",
   "execution_count": 3,
   "metadata": {},
   "outputs": [],
   "source": [
    "function all_unique(s) {\n",
    "    return new Set(s).size == s.length;\n",
    "}"
   ]
  },
  {
   "cell_type": "code",
   "execution_count": 4,
   "metadata": {},
   "outputs": [],
   "source": [
    "assert = require('assert');\n",
    "assert.equal(all_unique(''), true);\n",
    "assert.equal(all_unique('a'), true);\n",
    "assert.equal(all_unique('aa'), false);"
   ]
  },
  {
   "cell_type": "markdown",
   "metadata": {},
   "source": [
    "## 1.2\n",
    "\n",
    "Q: Given two strings determine if one is a permutation of the other."
   ]
  },
  {
   "cell_type": "markdown",
   "metadata": {},
   "source": [
    "The non-optimized solution is simple: compared the sorted strings. The sort will be $O(n\\log{n})$, and the comparison will be $O(n)$, so the complete solution will be $O(n^2\\log{n})$.\n",
    "\n",
    "However, this is not the best possible runtime. The best possible runtime is $O(n^2)$ (we would need to interate through each string at least once, at least until a failure condition is met). Here is an optimized psuedocode. This algorithm is indeed $O(n^2)$.\n",
    "\n",
    "```\n",
    "function is_permutation(str1, str2):\n",
    "    # Base cases.\n",
    "    if |str1| != |str2| return False\n",
    "    elif |str1| == 0 and |str2| == 0 return False\n",
    "\n",
    "    m1 = {}  # hash map\n",
    "    m1_keys = Set()\n",
    "\n",
    "    # Build the string one character count.\n",
    "    for char of str1:\n",
    "        if char in m1_keys:\n",
    "            m1[char] += 1\n",
    "        else:\n",
    "            m1_keys += {char}\n",
    "            m1[char] = 1\n",
    "\n",
    "    m2 = {}\n",
    "    m2_keys = Set()\n",
    "    # Build the string two character count.\n",
    "    for char of str2:\n",
    "        # If the string does not contain it.\n",
    "        if char not in m1_keys:\n",
    "            return False\n",
    "\n",
    "        if char not in m2_keys:\n",
    "            m2_keys += {char}\n",
    "            m2[char] = 1\n",
    "        else:\n",
    "            m2[char] += 1\n",
    "            if m2[char] > m1[char]:\n",
    "                return false\n",
    "\n",
    "    return true\n",
    "```\n",
    "\n",
    "Now tests and implementation."
   ]
  },
  {
   "cell_type": "code",
   "execution_count": 10,
   "metadata": {},
   "outputs": [],
   "source": [
    "assert = require('assert');\n",
    "assert.equal(is_permutation('', ''), true);\n",
    "assert.equal(is_permutation('a', 'aaa'), false);\n",
    "assert.equal(is_permutation('abc', 'abc'), true);\n",
    "assert.equal(is_permutation('abc', 'cba'), true);"
   ]
  },
  {
   "cell_type": "code",
   "execution_count": 9,
   "metadata": {},
   "outputs": [],
   "source": [
    "function is_permutation(str1, str2) {\n",
    "    if (str1.length !== str2.length)  return false;\n",
    "    else if (str1.length === 0 & str2.length == 0)  return true;\n",
    "    \n",
    "    let str1_map = {};\n",
    "    let str1_keys = new Set();\n",
    "    for (let char of str1) {\n",
    "        str1_keys.has(char) ? str1_map[char] += 1 : str1_map[char] = 0;\n",
    "        str1_keys.add(char);        \n",
    "    }\n",
    "    \n",
    "    let str2_map = {};\n",
    "    let str2_keys = new Set();\n",
    "    for (let char of str2) {\n",
    "        if (!str1_keys.has(char))  return false;\n",
    "        \n",
    "        str2_keys.has(char) ? str2_map[char] += 1 : str2_map[char] = 0;\n",
    "        str2_keys.add(char);\n",
    "        \n",
    "        if (str1_map[char] > str2_map[char])  return false;        \n",
    "    }\n",
    "    \n",
    "    return true;\n",
    "}"
   ]
  },
  {
   "cell_type": "markdown",
   "metadata": {},
   "source": [
    "## 1.3\n",
    "\n",
    "Q: Replace all spaces in a string with `%20`, in the manner appropriate for URL encoding (e.g. trim ending whitespace).\n",
    "\n",
    "Again a brute force solution comes immediately:"
   ]
  },
  {
   "cell_type": "code",
   "execution_count": 34,
   "metadata": {},
   "outputs": [],
   "source": [
    "function whiteparse(s) { return s.trimEnd().replace(/ /g, \"%20\"); }"
   ]
  },
  {
   "cell_type": "code",
   "execution_count": 37,
   "metadata": {},
   "outputs": [],
   "source": [
    "assert = require('assert');\n",
    "assert.equal(whiteparse(''), '');\n",
    "assert.equal(whiteparse(' '), '');\n",
    "assert.equal(whiteparse('a b c'), 'a%20b%20c');"
   ]
  },
  {
   "cell_type": "markdown",
   "metadata": {},
   "source": [
    "Though you have to know some stdlib knick-knacks to implement this. TIL: `trim`, `trimEnd`, and `trimStart`; the equivalent of `strip`, `lstrip`, and `rstrip` in Python.\n",
    "\n",
    "This is the readable brute-force solution. `trimEnd` is $O(n)$, and an efficient implementation of `replace` is $O(n)$, so this algorithm is $O(n^2)$.\n",
    "\n",
    "Here's the same algorithm without built-ins...\n",
    "\n",
    "```\n",
    "function whiteparse(s):\n",
    "    replace_idxs = []\n",
    "    \n",
    "    # First, skip the whitespace.\n",
    "    i = |s| - 1\n",
    "    while True:\n",
    "        if s[i] == \" \":\n",
    "            continue\n",
    "        else:\n",
    "            break\n",
    "\n",
    "    # Now find the indices of the characters needing replacement.\n",
    "    for c in range(i):\n",
    "        if s[c] == \" \":\n",
    "            replace_idxs.push(c)\n",
    "            \n",
    "    # Use this to determine the length of the output character array.\n",
    "    c_a = Array(i + len(replace_idxs) * 3)\n",
    "    \n",
    "    i = 0\n",
    "    for c in s:\n",
    "        if s[c] == \" \":\n",
    "            c_a[i: i + 3] = \"%20\"\n",
    "            i += 3\n",
    "        else:\n",
    "            c_a[i] = c\n",
    "            i += 1\n",
    "    \n",
    "    return c_a.join(\"\");\n",
    "```"
   ]
  },
  {
   "cell_type": "code",
   "execution_count": 43,
   "metadata": {},
   "outputs": [],
   "source": [
    "function whiteparse(s) {\n",
    "    if (s.length === 0) return s;\n",
    "    \n",
    "    replace_idxs = [];\n",
    "    \n",
    "    i = s.length - 1;\n",
    "    while (true) {\n",
    "        if (i === 0) return \"\"\n",
    "        else if (s[i] === \" \") i -= 1\n",
    "        else break\n",
    "    }\n",
    "    \n",
    "    replace_idxs = [];\n",
    "    for (let c of [...Array(i).keys()]) {\n",
    "        c = parseInt(c);\n",
    "        if (s.charAt(c) === \" \") {\n",
    "            replace_idxs.push(c);\n",
    "        }\n",
    "    }\n",
    "    \n",
    "    if (replace_idxs.length == 0) return s.slice(0, i);\n",
    "    \n",
    "    let c_a = Array(s.length - replace_idxs.length + replace_idxs.length * 3);\n",
    "    \n",
    "    i = 0;\n",
    "    for (let c of s) {\n",
    "        if (c === \" \") {\n",
    "            [c_a[i], c_a[i + 1], c_a[i +2]] = [\"%\", \"2\", \"0\"];\n",
    "            i += 3;\n",
    "        } else {\n",
    "            c_a[i] = c;\n",
    "            i += 1;\n",
    "        }\n",
    "    }\n",
    "    \n",
    "    return c_a.join(\"\");\n",
    "}"
   ]
  },
  {
   "cell_type": "code",
   "execution_count": 44,
   "metadata": {},
   "outputs": [],
   "source": [
    "assert = require('assert');\n",
    "assert.equal(whiteparse(''), '');\n",
    "assert.equal(whiteparse(' '), '');\n",
    "assert.equal(whiteparse('a b c'), 'a%20b%20c');"
   ]
  },
  {
   "cell_type": "markdown",
   "metadata": {},
   "source": [
    "Comments on this problem:\n",
    "\n",
    "* The first solution requires deep knowledge of the JavaScript stdlib. It's what you would do in production, but probably not impressive in an interview.\n",
    "* There's a probably $O(n^2)$ operation which is $O(n)$ in amortized time. Instead of iterating over the strings a second time, use the known character-to-replace positions to chunk substrings. I had a hard time getting this solution to work right away. In retrospect, it's just an optimization on this brute-force solution, and I shouldn't have gone for it right away.\n",
    "* The book uses this solution.\n",
    "* Character arrays are useful!"
   ]
  },
  {
   "cell_type": "markdown",
   "metadata": {},
   "source": [
    "## 1.4\n",
    "\n",
    "Q: Check whether any of the permutations of a string is a palindrome or not.\n",
    "\n",
    "The brute-force solution would be to iterate through all permutations of the string, stopping if we find a string that is a palindrome. However...this would be $O(n!)$.\n",
    "\n",
    "Instead we can use the properties of a palindrome to check. Basically a string is a palindrome if it has a character count which is entirely even for every character, except for at most one odd count character (the palindrome pivot)."
   ]
  },
  {
   "cell_type": "code",
   "execution_count": 1,
   "metadata": {},
   "outputs": [],
   "source": [
    "let _c = {}"
   ]
  },
  {
   "cell_type": "code",
   "execution_count": 28,
   "metadata": {},
   "outputs": [],
   "source": [
    "function has_palindromic_permutation(s) {\n",
    "    let countmap = {};\n",
    "    function add(c) {\n",
    "        (countmap.hasOwnProperty(c)) ? countmap[c] += 1 : countmap[c] = 1;\n",
    "    }\n",
    "    \n",
    "    for (let c of s)  add(c);\n",
    "    \n",
    "    let n_odds = 0;\n",
    "    for (let c of Object.keys(countmap)) {\n",
    "        if (countmap[c] % 2 != 0) {\n",
    "            if (n_odds > 0)  return false;\n",
    "            else  n_odds += 1;\n",
    "        }\n",
    "    }\n",
    "    \n",
    "    return true;\n",
    "}"
   ]
  },
  {
   "cell_type": "code",
   "execution_count": 33,
   "metadata": {},
   "outputs": [],
   "source": [
    "assert.equal(has_palindromic_permutation('FFOO'), true)\n",
    "assert.equal(has_palindromic_permutation('F'), true)\n",
    "assert.equal(has_palindromic_permutation(''), true)\n",
    "assert.equal(has_palindromic_permutation('AB'), false)"
   ]
  },
  {
   "cell_type": "markdown",
   "metadata": {},
   "source": [
    "This algorithm is $O(kn)$, where $n$ is the length of the string and $k$ is the average number of unique characters in the string.\n",
    "\n",
    "We could reduce the runtime to $O(n)$ if we performed the oddness bookkeeping directly in the body of the first loop. However this solution is much more readable and thus better outside of high-performance settings.\n",
    "\n",
    "Comments:\n",
    "* I initially goofed by making `add` an object method, causing it to pop up in the key iterator. Don't mix your objects and your data structures!"
   ]
  },
  {
   "cell_type": "markdown",
   "metadata": {},
   "source": [
    "### 1.5\n",
    "\n",
    "Q: *One-away edit distance* &mdash; Write a function that, given a string, check whether or not it is zero or one away in terms of edit distance.\n",
    "\n",
    "Cmnnt: much easier than the DP problem of solving for shortest edit distance, which I struggled with some time ago.\n",
    "\n",
    "Zero means equivalent. One means that we can perform an insert, delete, or swap operation to make the strings equivalent.\n",
    "\n",
    "```python\n",
    "function one_or_zero_away(s1, s2):\n",
    "    if abs(|s1| - |s2|) > 1:\n",
    "        return False\n",
    "    \n",
    "    s1, s2 = whitespacify(...s1, s2)\n",
    "    \n",
    "    have_fix_left = True\n",
    "    \n",
    "    for i in range(|s1|):\n",
    "    \n",
    "        if s1[i] != s2[i]:\n",
    "            if not have_fix_left:\n",
    "                return False\n",
    "            \n",
    "            if s1[i + 1] == s2[i]:\n",
    "                s1 = s1[:i] + s1[i+1:]\n",
    "                have_fix_left = False\n",
    "            \n",
    "            else if s1[i] == s2[i + 1]:\n",
    "                s1 = s1[:i] + s1[i+1:]\n",
    "                have_fix_left = False\n",
    "                \n",
    "            else:\n",
    "                s2[i] = s1[i]\n",
    "                have_fix_left = False\n",
    "                \n",
    "    return True\n",
    "```"
   ]
  },
  {
   "cell_type": "code",
   "execution_count": 46,
   "metadata": {},
   "outputs": [],
   "source": [
    "function one_or_zero_away(s1, s2) {\n",
    "    if (Math.abs(s1.length - s2.length) > 1)  return false\n",
    "    \n",
    "    if (s1.length < s2.length) {\n",
    "        s1 = s1.padEnd(s1.length - s2.length, \" \");\n",
    "    } else if (s1.length > s2.length) {\n",
    "        s2 = s2.padEnd(s2.length - s1.length, \" \");\n",
    "    }\n",
    "    \n",
    "    let have_fix_left = true;\n",
    "    for (let i of Object.keys([...Array(s1.length)])) {\n",
    "            if (s1.charAt(i) !== s2.charAt(i)) {\n",
    "\n",
    "            if (!have_fix_left) {\n",
    "                return false;\n",
    "            }\n",
    "\n",
    "            if (s1.charAt(i + 1) === s2.charAt(i)) {\n",
    "                s1 = s1.slice(0, i) + s1.slice(i + 1);\n",
    "                have_fix_left = false;\n",
    "            } else if (s1.charAt(i) === s2.charAt(i + 1)) {\n",
    "                s1 = s1.slice(0, i) + s1.slice(i + 1);\n",
    "                have_fix_left = false;\n",
    "            } else {\n",
    "                s1 = s1.slice(0, i) + s2.charAt(i) + s1.slice(i + 1);\n",
    "                have_fix_left = false;\n",
    "            }\n",
    "        }\n",
    "    }\n",
    "    \n",
    "    return true;\n",
    "}"
   ]
  },
  {
   "cell_type": "code",
   "execution_count": 53,
   "metadata": {},
   "outputs": [],
   "source": [
    "assert.equal(one_or_zero_away('aa', 'bbbb'), false);\n",
    "assert.equal(one_or_zero_away('aa', 'aa'), true);\n",
    "assert.equal(one_or_zero_away('a', 'aa'), true);\n",
    "assert.equal(one_or_zero_away('bb', 'aa'), false);\n",
    "assert.equal(one_or_zero_away('bba', 'bb'), true);\n",
    "assert.equal(one_or_zero_away('abb', 'bb'), true);"
   ]
  },
  {
   "cell_type": "markdown",
   "metadata": {},
   "source": [
    "This is $O(n)$, where $n$ is the length of the shorter string, as it iterates through the list of characters once.\n",
    "\n",
    "Comment: this one went relatively well."
   ]
  },
  {
   "cell_type": "markdown",
   "metadata": {},
   "source": [
    "## 1.6\n",
    "\n",
    "Q: Implement basic run-length encoding. E.g. transform `foobar` into `f1o2b1a1r1`.\n",
    "\n",
    "We should be able to cook off an $O(n)$ solution immediately."
   ]
  },
  {
   "cell_type": "code",
   "execution_count": 63,
   "metadata": {},
   "outputs": [],
   "source": [
    "function rle(s) {\n",
    "    if (s === \"\")  return \"\"\n",
    "    \n",
    "    let i = 1;\n",
    "    let curr_length = 1;\n",
    "    let curr_char = s.charAt(0);\n",
    "    let out = Array(s.length);\n",
    "    while (i < s.length) {\n",
    "        if (s.charAt(i) === curr_char) {\n",
    "            curr_length += 1;\n",
    "        } else {\n",
    "            out[i] = curr_char + curr_length;\n",
    "            curr_char = s.charAt(i);\n",
    "            curr_length = 1;\n",
    "        }\n",
    "        i += 1;\n",
    "    }\n",
    "    \n",
    "    out[i] = curr_char + curr_length;\n",
    "    return out.join(\"\");\n",
    "}"
   ]
  },
  {
   "cell_type": "code",
   "execution_count": 68,
   "metadata": {},
   "outputs": [],
   "source": [
    "assert.equal(rle(''), '');\n",
    "assert.equal(rle('a'), 'a1');\n",
    "assert.equal(rle('abc'), 'a1b1c1');\n",
    "assert.equal(rle('aaabbbcaa'), 'a3b3c1a2');"
   ]
  },
  {
   "cell_type": "markdown",
   "metadata": {},
   "source": [
    "Note what we *didn't* do: we didn't concatenate to a string, because strings are immutable and we'd require $O(n^2)$ copies to mutate the string in place.\n",
    "\n",
    "I used an array and joined the array in one operation at the end instead. The array was allocated to the same length (e.g. we used all $O(n)$ space) as the input string because this reduces the non-amortized running time ($O(n)$), as we don't need to deal with list length doubling. A small optimization.\n",
    "\n",
    "The algorithm is ultimately $O(n)$. We iterate throug the string once for the $n$ term, and join the resultant substrings together in linear time."
   ]
  },
  {
   "cell_type": "code",
   "execution_count": null,
   "metadata": {},
   "outputs": [],
   "source": []
  }
 ],
 "metadata": {
  "kernelspec": {
   "display_name": "Javascript (Node.js)",
   "language": "javascript",
   "name": "javascript"
  },
  "language_info": {
   "file_extension": ".js",
   "mimetype": "application/javascript",
   "name": "javascript",
   "version": "8.9.4"
  }
 },
 "nbformat": 4,
 "nbformat_minor": 2
}
