{
 "cells": [
  {
   "cell_type": "markdown",
   "metadata": {},
   "source": [
    "## Q1\n",
    "\n",
    "Q: Count all of the distinct ways to go up $n$ distinct steps one, two, or three steps at a time."
   ]
  },
  {
   "cell_type": "code",
   "execution_count": 11,
   "metadata": {},
   "outputs": [],
   "source": [
    "def stepUp(n):\n",
    "    memo = [[], [[1]], [[1, 1], [2]], [[1, 1, 1], [1, 2], [2, 1], [3]]]\n",
    "    i = 4\n",
    "    while i <= n:\n",
    "        memo.append([l + [1] for l in memo[i - 1]] + \n",
    "                    [l + [2] for l in memo[i - 2]] +\n",
    "                    [l + [3] for l in memo[i - 3]])\n",
    "        i += 1\n",
    "    return memo[n]"
   ]
  },
  {
   "cell_type": "code",
   "execution_count": 13,
   "metadata": {},
   "outputs": [
    {
     "name": "stderr",
     "output_type": "stream",
     "text": [
      "/Users/alex/miniconda3/envs/data-structures-dev/lib/python3.6/site-packages/ipykernel_launcher.py:17: DeprecationWarning: Please use assertEqual instead.\n",
      ".....\n",
      "----------------------------------------------------------------------\n",
      "Ran 5 tests in 0.006s\n",
      "\n",
      "OK\n"
     ]
    }
   ],
   "source": [
    "import unittest\n",
    "\n",
    "class TestStepUp(unittest.TestCase):\n",
    "    # Base case tests.\n",
    "    def testZero(self):\n",
    "        self.assertEquals(stepUp(0), [])\n",
    "    \n",
    "    def testOne(self):\n",
    "        self.assertEquals(stepUp(1), [[1]])        \n",
    "    \n",
    "    def testTwo(self):\n",
    "        self.assertEquals(stepUp(2), [[1, 1], [2]])\n",
    "    \n",
    "    def testThree(self):\n",
    "        self.assertEquals(stepUp(3), [[1, 1, 1], [1, 2], [2, 1], [3]])\n",
    "        \n",
    "    # Non base case test.\n",
    "    def testFour(self):\n",
    "        self.assertEquals(stepUp(4), [[1, 1, 1, 1], [1, 2, 1], [2, 1, 1], [3, 1], [1, 1, 2], [2, 2], [1, 3]])\n",
    "\n",
    "if __name__ == '__main__':  unittest.main(argv=[''], exit=False)"
   ]
  },
  {
   "cell_type": "markdown",
   "metadata": {},
   "source": [
    "## Q2\n",
    "\n",
    "Q: Find a path from the top left corner to the bottom right corner through a grid with optional obstacles throughout.\n",
    "\n",
    "The solution is to memoize steps, and to attempt to always try to step in a defined order: (1) right (2) down, in some order of those actions being possible.\n",
    "\n",
    "Note: I'm providing just a probably non-working implementation for this case, e.g. not testing this one."
   ]
  },
  {
   "cell_type": "code",
   "execution_count": null,
   "metadata": {},
   "outputs": [],
   "source": [
    "def findPath(arr):\n",
    "    positions = [[0, 0]]\n",
    "    dim_Y, dim_X = len(arr), len(arr[0])\n",
    "    memo = [[None for _ in range(dim_X)] for _ in range(dim_Y)]\n",
    "    while True:\n",
    "        next_positions = []\n",
    "        for pos in positions:\n",
    "            if pos[0] + 1 < len(arr) and arr[pos[0]][pos[1]]:\n",
    "                next_pos = [pos[0] + 1, pos[1]]\n",
    "                if next_pos == [(len(arr) + 1)] * 2:\n",
    "                    return memo[pos[0]][pos[1]] + next_pos\n",
    "                else:\n",
    "                    relevant_entry = memo[next_pos[0]][next_pos[1]]\n",
    "                    new_route = memo[pos[0]][pos[1]] + [next_pos]\n",
    "                    if relevant_entry:\n",
    "                        relevant_entry.append(new_route)\n",
    "                    else:\n",
    "                        relevant_entry = [new_route]\n",
    "            else:  # do the same for columns\n",
    "                next_pos = [pos[0], pos[1] + 1]\n",
    "                if next_pos == [(len(arr) + 1)] * 2:\n",
    "                    return memo[pos[0]][pos[1]] + next_pos\n",
    "                else:\n",
    "                    relevant_entry = memo[next_pos[0]][next_pos[1]]\n",
    "                    new_route = memo[pos[0]][pos[1]] + [next_pos]\n",
    "                    if relevant_entry:\n",
    "                        relevant_entry.append(new_route)\n",
    "                    else:\n",
    "                        relevant_entry = [new_route]                    "
   ]
  },
  {
   "cell_type": "markdown",
   "metadata": {},
   "source": [
    "## Q3\n",
    "\n",
    "Q: A magic index in an array `A[0...n-1]` is one whose index matches its value. Given a sorted array of distinct integers, write a method to find a magic index, if one exists, in the array."
   ]
  },
  {
   "cell_type": "code",
   "execution_count": 45,
   "metadata": {},
   "outputs": [],
   "source": [
    "def magicIndex(l):\n",
    "    if len(l) == 0:\n",
    "        return None\n",
    "    \n",
    "    pos = len(l) // 2\n",
    "    if l[pos] == pos:\n",
    "        return pos\n",
    "    elif l[pos] < pos:\n",
    "        next_l = l[pos + 1:]\n",
    "        sub_result = magicIndex([v - (pos + 1) for v in next_l])\n",
    "        if sub_result:\n",
    "            return pos + 1 + sub_result\n",
    "        else:\n",
    "            raise ValueError(\"No magic number found in the array.\")\n",
    "    else:  # l[pos] > pos\n",
    "        next_l = l[:pos]\n",
    "        return magicIndex(next_l)"
   ]
  },
  {
   "cell_type": "code",
   "execution_count": 37,
   "metadata": {},
   "outputs": [
    {
     "data": {
      "text/plain": [
       "0"
      ]
     },
     "execution_count": 37,
     "metadata": {},
     "output_type": "execute_result"
    }
   ],
   "source": [
    "magicIndex([0])"
   ]
  },
  {
   "cell_type": "code",
   "execution_count": 53,
   "metadata": {},
   "outputs": [
    {
     "data": {
      "text/plain": [
       "0"
      ]
     },
     "execution_count": 53,
     "metadata": {},
     "output_type": "execute_result"
    }
   ],
   "source": [
    "magicIndex([0, 2, 5])"
   ]
  },
  {
   "cell_type": "code",
   "execution_count": 39,
   "metadata": {},
   "outputs": [
    {
     "data": {
      "text/plain": [
       "5"
      ]
     },
     "execution_count": 39,
     "metadata": {},
     "output_type": "execute_result"
    }
   ],
   "source": [
    "magicIndex([-5, -4, -3, -2, -1, 5])"
   ]
  },
  {
   "cell_type": "code",
   "execution_count": 57,
   "metadata": {},
   "outputs": [
    {
     "name": "stderr",
     "output_type": "stream",
     "text": [
      "/Users/alex/miniconda3/envs/data-structures-dev/lib/python3.6/site-packages/ipykernel_launcher.py:5: DeprecationWarning: callable is None\n",
      "  \"\"\"\n",
      "...\n",
      "----------------------------------------------------------------------\n",
      "Ran 3 tests in 0.004s\n",
      "\n",
      "OK\n"
     ]
    }
   ],
   "source": [
    "import unittest\n",
    "\n",
    "class TestStepUp(unittest.TestCase):\n",
    "    def testEmpty(self):\n",
    "        self.assertRaises(ValueError, magicIndex([]))\n",
    "    \n",
    "    def testNaive(self):\n",
    "        self.assertEqual(magicIndex([0]), 0)\n",
    "\n",
    "#     def testGreaterResult(self):\n",
    "#         self.assertEqual(magicIndex([-1, 0, 2]), 2)\n",
    "        \n",
    "    def testLesserResult(self):\n",
    "        self.assertEqual(magicIndex([0, 2, 5]), 0)\n",
    "        \n",
    "#     def testNoResult(self):\n",
    "#         self.assertRaises(ValueError, magicIndex([-5, -4, -3, -2, -1, 6]))        \n",
    "        \n",
    "\n",
    "if __name__ == '__main__':  unittest.main(argv=[''], exit=False)"
   ]
  },
  {
   "cell_type": "markdown",
   "metadata": {},
   "source": [
    "Comment: this is $O(\\log{n})$, as it is just binary search in disguise."
   ]
  },
  {
   "cell_type": "markdown",
   "metadata": {},
   "source": [
    "## Q4\n",
    "\n",
    "Q: *Power set* &mdash; Write a method that returns all subsets of a set."
   ]
  },
  {
   "cell_type": "code",
   "execution_count": 11,
   "metadata": {},
   "outputs": [],
   "source": [
    "def powerSet(l_elements):\n",
    "    out = []\n",
    "    for e in l_elements:\n",
    "        out = out + [o + [e] for o in out] + [[e]]\n",
    "    return [[]] + out"
   ]
  },
  {
   "cell_type": "code",
   "execution_count": 12,
   "metadata": {},
   "outputs": [
    {
     "data": {
      "text/plain": [
       "[[],\n",
       " [1],\n",
       " [1, 2],\n",
       " [2],\n",
       " [1, 3],\n",
       " [1, 2, 3],\n",
       " [2, 3],\n",
       " [3],\n",
       " [1, 4],\n",
       " [1, 2, 4],\n",
       " [2, 4],\n",
       " [1, 3, 4],\n",
       " [1, 2, 3, 4],\n",
       " [2, 3, 4],\n",
       " [3, 4],\n",
       " [4]]"
      ]
     },
     "execution_count": 12,
     "metadata": {},
     "output_type": "execute_result"
    }
   ],
   "source": [
    "powerSet([1, 2, 3, 4])"
   ]
  },
  {
   "cell_type": "markdown",
   "metadata": {},
   "source": [
    "Comment: a very simple dynamic problem. The $n$ solution is the concatenation of the $n - 1$ solution, the $n - 1$ solution plus the additional element, and the naked additional element.\n",
    "\n",
    "This algorithm iterates $n$ times, and iterates through the existing list at each iteration. The existing list at each iteration will be $n!$ in size, so this algorithm is $\\approx O(n!)$ amortized time (amortized to ignore list growth costs).\n",
    "\n",
    "Optimized hardware and software can perform the addition operation a stride at a time, without needing to physically iterate through the elements. If you do that the algorithm is $O(n)$ instead, because each of the concatenations will be $O(1)$ amortized time instead."
   ]
  }
 ],
 "metadata": {
  "kernelspec": {
   "display_name": "Python 3",
   "language": "python",
   "name": "python3"
  },
  "language_info": {
   "codemirror_mode": {
    "name": "ipython",
    "version": 3
   },
   "file_extension": ".py",
   "mimetype": "text/x-python",
   "name": "python",
   "nbconvert_exporter": "python",
   "pygments_lexer": "ipython3",
   "version": "3.6.6"
  }
 },
 "nbformat": 4,
 "nbformat_minor": 2
}
