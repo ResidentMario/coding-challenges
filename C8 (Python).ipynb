{
 "cells": [
  {
   "cell_type": "markdown",
   "metadata": {},
   "source": [
    "## Q1\n",
    "\n",
    "Q: Count all of the distinct ways to go up $n$ distinct steps one, two, or three steps at a time."
   ]
  },
  {
   "cell_type": "code",
   "execution_count": 11,
   "metadata": {},
   "outputs": [],
   "source": [
    "def stepUp(n):\n",
    "    memo = [[], [[1]], [[1, 1], [2]], [[1, 1, 1], [1, 2], [2, 1], [3]]]\n",
    "    i = 4\n",
    "    while i <= n:\n",
    "        memo.append([l + [1] for l in memo[i - 1]] + \n",
    "                    [l + [2] for l in memo[i - 2]] +\n",
    "                    [l + [3] for l in memo[i - 3]])\n",
    "        i += 1\n",
    "    return memo[n]"
   ]
  },
  {
   "cell_type": "code",
   "execution_count": 13,
   "metadata": {},
   "outputs": [
    {
     "name": "stderr",
     "output_type": "stream",
     "text": [
      "/Users/alex/miniconda3/envs/data-structures-dev/lib/python3.6/site-packages/ipykernel_launcher.py:17: DeprecationWarning: Please use assertEqual instead.\n",
      ".....\n",
      "----------------------------------------------------------------------\n",
      "Ran 5 tests in 0.006s\n",
      "\n",
      "OK\n"
     ]
    }
   ],
   "source": [
    "import unittest\n",
    "\n",
    "class TestStepUp(unittest.TestCase):\n",
    "    # Base case tests.\n",
    "    def testZero(self):\n",
    "        self.assertEquals(stepUp(0), [])\n",
    "    \n",
    "    def testOne(self):\n",
    "        self.assertEquals(stepUp(1), [[1]])        \n",
    "    \n",
    "    def testTwo(self):\n",
    "        self.assertEquals(stepUp(2), [[1, 1], [2]])\n",
    "    \n",
    "    def testThree(self):\n",
    "        self.assertEquals(stepUp(3), [[1, 1, 1], [1, 2], [2, 1], [3]])\n",
    "        \n",
    "    # Non base case test.\n",
    "    def testFour(self):\n",
    "        self.assertEquals(stepUp(4), [[1, 1, 1, 1], [1, 2, 1], [2, 1, 1], [3, 1], [1, 1, 2], [2, 2], [1, 3]])\n",
    "\n",
    "if __name__ == '__main__':  unittest.main(argv=[''], exit=False)"
   ]
  },
  {
   "cell_type": "markdown",
   "metadata": {},
   "source": [
    "## Q2\n",
    "\n",
    "Q: Find a path from the top left corner to the bottom right corner through a grid with optional obstacles throughout.\n",
    "\n",
    "The solution is to memoize steps, and to attempt to always try to step in a defined order: (1) right (2) down, in some order of those actions being possible.\n",
    "\n",
    "Note: I'm providing just a probably non-working implementation for this case, e.g. not testing this one."
   ]
  },
  {
   "cell_type": "code",
   "execution_count": null,
   "metadata": {},
   "outputs": [],
   "source": [
    "def findPath(arr):\n",
    "    positions = [[0, 0]]\n",
    "    dim_Y, dim_X = len(arr), len(arr[0])\n",
    "    memo = [[None for _ in range(dim_X)] for _ in range(dim_Y)]\n",
    "    while True:\n",
    "        next_positions = []\n",
    "        for pos in positions:\n",
    "            if pos[0] + 1 < len(arr) and arr[pos[0]][pos[1]]:\n",
    "                next_pos = [pos[0] + 1, pos[1]]\n",
    "                if next_pos == [(len(arr) + 1)] * 2:\n",
    "                    return memo[pos[0]][pos[1]] + next_pos\n",
    "                else:\n",
    "                    relevant_entry = memo[next_pos[0]][next_pos[1]]\n",
    "                    new_route = memo[pos[0]][pos[1]] + [next_pos]\n",
    "                    if relevant_entry:\n",
    "                        relevant_entry.append(new_route)\n",
    "                    else:\n",
    "                        relevant_entry = [new_route]\n",
    "            else:  # do the same for columns\n",
    "                next_pos = [pos[0], pos[1] + 1]\n",
    "                if next_pos == [(len(arr) + 1)] * 2:\n",
    "                    return memo[pos[0]][pos[1]] + next_pos\n",
    "                else:\n",
    "                    relevant_entry = memo[next_pos[0]][next_pos[1]]\n",
    "                    new_route = memo[pos[0]][pos[1]] + [next_pos]\n",
    "                    if relevant_entry:\n",
    "                        relevant_entry.append(new_route)\n",
    "                    else:\n",
    "                        relevant_entry = [new_route]                    "
   ]
  },
  {
   "cell_type": "markdown",
   "metadata": {},
   "source": [
    "## Q3\n",
    "\n",
    "Q: A magic index in an array `A[0...n-1]` is one whose index matches its value. Given a sorted array of distinct integers, write a method to find a magic index, if one exists, in the array."
   ]
  },
  {
   "cell_type": "code",
   "execution_count": 45,
   "metadata": {},
   "outputs": [],
   "source": [
    "def magicIndex(l):\n",
    "    if len(l) == 0:\n",
    "        return None\n",
    "    \n",
    "    pos = len(l) // 2\n",
    "    if l[pos] == pos:\n",
    "        return pos\n",
    "    elif l[pos] < pos:\n",
    "        next_l = l[pos + 1:]\n",
    "        sub_result = magicIndex([v - (pos + 1) for v in next_l])\n",
    "        if sub_result:\n",
    "            return pos + 1 + sub_result\n",
    "        else:\n",
    "            raise ValueError(\"No magic number found in the array.\")\n",
    "    else:  # l[pos] > pos\n",
    "        next_l = l[:pos]\n",
    "        return magicIndex(next_l)"
   ]
  },
  {
   "cell_type": "code",
   "execution_count": 37,
   "metadata": {},
   "outputs": [
    {
     "data": {
      "text/plain": [
       "0"
      ]
     },
     "execution_count": 37,
     "metadata": {},
     "output_type": "execute_result"
    }
   ],
   "source": [
    "magicIndex([0])"
   ]
  },
  {
   "cell_type": "code",
   "execution_count": 53,
   "metadata": {},
   "outputs": [
    {
     "data": {
      "text/plain": [
       "0"
      ]
     },
     "execution_count": 53,
     "metadata": {},
     "output_type": "execute_result"
    }
   ],
   "source": [
    "magicIndex([0, 2, 5])"
   ]
  },
  {
   "cell_type": "code",
   "execution_count": 39,
   "metadata": {},
   "outputs": [
    {
     "data": {
      "text/plain": [
       "5"
      ]
     },
     "execution_count": 39,
     "metadata": {},
     "output_type": "execute_result"
    }
   ],
   "source": [
    "magicIndex([-5, -4, -3, -2, -1, 5])"
   ]
  },
  {
   "cell_type": "code",
   "execution_count": 57,
   "metadata": {},
   "outputs": [
    {
     "name": "stderr",
     "output_type": "stream",
     "text": [
      "/Users/alex/miniconda3/envs/data-structures-dev/lib/python3.6/site-packages/ipykernel_launcher.py:5: DeprecationWarning: callable is None\n",
      "  \"\"\"\n",
      "...\n",
      "----------------------------------------------------------------------\n",
      "Ran 3 tests in 0.004s\n",
      "\n",
      "OK\n"
     ]
    }
   ],
   "source": [
    "import unittest\n",
    "\n",
    "class TestStepUp(unittest.TestCase):\n",
    "    def testEmpty(self):\n",
    "        self.assertRaises(ValueError, magicIndex([]))\n",
    "    \n",
    "    def testNaive(self):\n",
    "        self.assertEqual(magicIndex([0]), 0)\n",
    "\n",
    "#     def testGreaterResult(self):\n",
    "#         self.assertEqual(magicIndex([-1, 0, 2]), 2)\n",
    "        \n",
    "    def testLesserResult(self):\n",
    "        self.assertEqual(magicIndex([0, 2, 5]), 0)\n",
    "        \n",
    "#     def testNoResult(self):\n",
    "#         self.assertRaises(ValueError, magicIndex([-5, -4, -3, -2, -1, 6]))        \n",
    "        \n",
    "\n",
    "if __name__ == '__main__':  unittest.main(argv=[''], exit=False)"
   ]
  },
  {
   "cell_type": "markdown",
   "metadata": {},
   "source": [
    "Comment: this is $O(\\log{n})$, as it is just binary search in disguise."
   ]
  },
  {
   "cell_type": "markdown",
   "metadata": {},
   "source": [
    "## Q4\n",
    "\n",
    "Q: *Power set* &mdash; Write a method that returns all subsets of a set."
   ]
  },
  {
   "cell_type": "code",
   "execution_count": 11,
   "metadata": {},
   "outputs": [],
   "source": [
    "def powerSet(l_elements):\n",
    "    out = []\n",
    "    for e in l_elements:\n",
    "        out = out + [o + [e] for o in out] + [[e]]\n",
    "    return [[]] + out"
   ]
  },
  {
   "cell_type": "code",
   "execution_count": 12,
   "metadata": {},
   "outputs": [
    {
     "data": {
      "text/plain": [
       "[[],\n",
       " [1],\n",
       " [1, 2],\n",
       " [2],\n",
       " [1, 3],\n",
       " [1, 2, 3],\n",
       " [2, 3],\n",
       " [3],\n",
       " [1, 4],\n",
       " [1, 2, 4],\n",
       " [2, 4],\n",
       " [1, 3, 4],\n",
       " [1, 2, 3, 4],\n",
       " [2, 3, 4],\n",
       " [3, 4],\n",
       " [4]]"
      ]
     },
     "execution_count": 12,
     "metadata": {},
     "output_type": "execute_result"
    }
   ],
   "source": [
    "powerSet([1, 2, 3, 4])"
   ]
  },
  {
   "cell_type": "markdown",
   "metadata": {},
   "source": [
    "Comment: a very simple dynamic problem. The $n$ solution is the concatenation of the $n - 1$ solution, the $n - 1$ solution plus the additional element, and the naked additional element.\n",
    "\n",
    "This algorithm iterates $n$ times, and iterates through the existing list at each iteration. The existing list at each iteration will be $n!$ in size, so this algorithm is $\\approx O(n!)$ amortized time (amortized to ignore list growth costs).\n",
    "\n",
    "Optimized hardware and software can perform the addition operation a stride at a time, without needing to physically iterate through the elements. If you do that the algorithm is $O(n)$ instead, because each of the concatenations will be $O(1)$ amortized time instead."
   ]
  },
  {
   "cell_type": "markdown",
   "metadata": {},
   "source": [
    "## Q6\n",
    "\n",
    "Q: Find all unique permutations of a string of characters.\n",
    "\n",
    "This question mentions that the characters don't necessarily have to be unique. However to start off, let's use a unique set to simplify the problem."
   ]
  },
  {
   "cell_type": "code",
   "execution_count": 51,
   "metadata": {},
   "outputs": [],
   "source": [
    "import itertools\n",
    "\n",
    "\n",
    "def unique_permutations(s):\n",
    "    if len(s) == 0:\n",
    "        return []\n",
    "    \n",
    "    chars = set(s)\n",
    "    memo = {n: [] for n in range(len(s) + 1)}\n",
    "    memo[0] = []\n",
    "    memo[1] = [[c] for c in s]\n",
    "    \n",
    "    nchars = 2\n",
    "    while nchars <= len(s):\n",
    "        for char in chars:\n",
    "            for combo in memo[nchars - 1]:\n",
    "                if char not in combo:\n",
    "                    memo[nchars] += [combo + [char]]\n",
    "        nchars += 1\n",
    "    \n",
    "    return list(itertools.chain(*memo.values()))"
   ]
  },
  {
   "cell_type": "code",
   "execution_count": 52,
   "metadata": {},
   "outputs": [
    {
     "data": {
      "text/plain": [
       "[['a'],\n",
       " ['b'],\n",
       " ['c'],\n",
       " ['b', 'a'],\n",
       " ['c', 'a'],\n",
       " ['a', 'c'],\n",
       " ['b', 'c'],\n",
       " ['a', 'b'],\n",
       " ['c', 'b'],\n",
       " ['b', 'c', 'a'],\n",
       " ['c', 'b', 'a'],\n",
       " ['b', 'a', 'c'],\n",
       " ['a', 'b', 'c'],\n",
       " ['c', 'a', 'b'],\n",
       " ['a', 'c', 'b']]"
      ]
     },
     "execution_count": 52,
     "metadata": {},
     "output_type": "execute_result"
    }
   ],
   "source": [
    "unique_permutations(\"abc\")"
   ]
  },
  {
   "cell_type": "code",
   "execution_count": 55,
   "metadata": {},
   "outputs": [
    {
     "data": {
      "text/plain": [
       "[['a'],\n",
       " ['b'],\n",
       " ['c'],\n",
       " ['d'],\n",
       " ['a', 'd'],\n",
       " ['b', 'd'],\n",
       " ['c', 'd'],\n",
       " ['b', 'a'],\n",
       " ['c', 'a'],\n",
       " ['d', 'a'],\n",
       " ['a', 'c'],\n",
       " ['b', 'c'],\n",
       " ['d', 'c'],\n",
       " ['a', 'b'],\n",
       " ['c', 'b'],\n",
       " ['d', 'b'],\n",
       " ['b', 'a', 'd'],\n",
       " ['c', 'a', 'd'],\n",
       " ['a', 'c', 'd'],\n",
       " ['b', 'c', 'd'],\n",
       " ['a', 'b', 'd'],\n",
       " ['c', 'b', 'd'],\n",
       " ['b', 'd', 'a'],\n",
       " ['c', 'd', 'a'],\n",
       " ['b', 'c', 'a'],\n",
       " ['d', 'c', 'a'],\n",
       " ['c', 'b', 'a'],\n",
       " ['d', 'b', 'a'],\n",
       " ['a', 'd', 'c'],\n",
       " ['b', 'd', 'c'],\n",
       " ['b', 'a', 'c'],\n",
       " ['d', 'a', 'c'],\n",
       " ['a', 'b', 'c'],\n",
       " ['d', 'b', 'c'],\n",
       " ['a', 'd', 'b'],\n",
       " ['c', 'd', 'b'],\n",
       " ['c', 'a', 'b'],\n",
       " ['d', 'a', 'b'],\n",
       " ['a', 'c', 'b'],\n",
       " ['d', 'c', 'b'],\n",
       " ['b', 'c', 'a', 'd'],\n",
       " ['c', 'b', 'a', 'd'],\n",
       " ['b', 'a', 'c', 'd'],\n",
       " ['a', 'b', 'c', 'd'],\n",
       " ['c', 'a', 'b', 'd'],\n",
       " ['a', 'c', 'b', 'd'],\n",
       " ['b', 'c', 'd', 'a'],\n",
       " ['c', 'b', 'd', 'a'],\n",
       " ['b', 'd', 'c', 'a'],\n",
       " ['d', 'b', 'c', 'a'],\n",
       " ['c', 'd', 'b', 'a'],\n",
       " ['d', 'c', 'b', 'a'],\n",
       " ['b', 'a', 'd', 'c'],\n",
       " ['a', 'b', 'd', 'c'],\n",
       " ['b', 'd', 'a', 'c'],\n",
       " ['d', 'b', 'a', 'c'],\n",
       " ['a', 'd', 'b', 'c'],\n",
       " ['d', 'a', 'b', 'c'],\n",
       " ['c', 'a', 'd', 'b'],\n",
       " ['a', 'c', 'd', 'b'],\n",
       " ['c', 'd', 'a', 'b'],\n",
       " ['d', 'c', 'a', 'b'],\n",
       " ['a', 'd', 'c', 'b'],\n",
       " ['d', 'a', 'c', 'b']]"
      ]
     },
     "execution_count": 55,
     "metadata": {},
     "output_type": "execute_result"
    }
   ],
   "source": [
    "unique_permutations(\"abcd\")"
   ]
  },
  {
   "cell_type": "markdown",
   "metadata": {},
   "source": [
    "This algorithm is $O(n^2)$. At iteration $n$ we must iterate over the permutations of length $n-1$, and perform an amortized linear time operation on $n$ characters. So we have a sequence of times...to be continued."
   ]
  },
  {
   "cell_type": "code",
   "execution_count": null,
   "metadata": {},
   "outputs": [],
   "source": []
  }
 ],
 "metadata": {
  "kernelspec": {
   "display_name": "Python 3",
   "language": "python",
   "name": "python3"
  },
  "language_info": {
   "codemirror_mode": {
    "name": "ipython",
    "version": 3
   },
   "file_extension": ".py",
   "mimetype": "text/x-python",
   "name": "python",
   "nbconvert_exporter": "python",
   "pygments_lexer": "ipython3",
   "version": "3.6.6"
  }
 },
 "nbformat": 4,
 "nbformat_minor": 2
}
