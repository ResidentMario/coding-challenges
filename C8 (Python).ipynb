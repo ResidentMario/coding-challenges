{
 "cells": [
  {
   "cell_type": "markdown",
   "metadata": {},
   "source": [
    "## Q1\n",
    "\n",
    "Q: Count all of the distinct ways to go up $n$ distinct steps one, two, or three steps at a time."
   ]
  },
  {
   "cell_type": "code",
   "execution_count": 11,
   "metadata": {},
   "outputs": [],
   "source": [
    "def stepUp(n):\n",
    "    memo = [[], [[1]], [[1, 1], [2]], [[1, 1, 1], [1, 2], [2, 1], [3]]]\n",
    "    i = 4\n",
    "    while i <= n:\n",
    "        memo.append([l + [1] for l in memo[i - 1]] + \n",
    "                    [l + [2] for l in memo[i - 2]] +\n",
    "                    [l + [3] for l in memo[i - 3]])\n",
    "        i += 1\n",
    "    return memo[n]"
   ]
  },
  {
   "cell_type": "code",
   "execution_count": 13,
   "metadata": {},
   "outputs": [
    {
     "name": "stderr",
     "output_type": "stream",
     "text": [
      "/Users/alex/miniconda3/envs/data-structures-dev/lib/python3.6/site-packages/ipykernel_launcher.py:17: DeprecationWarning: Please use assertEqual instead.\n",
      ".....\n",
      "----------------------------------------------------------------------\n",
      "Ran 5 tests in 0.006s\n",
      "\n",
      "OK\n"
     ]
    }
   ],
   "source": [
    "import unittest\n",
    "\n",
    "class TestStepUp(unittest.TestCase):\n",
    "    # Base case tests.\n",
    "    def testZero(self):\n",
    "        self.assertEquals(stepUp(0), [])\n",
    "    \n",
    "    def testOne(self):\n",
    "        self.assertEquals(stepUp(1), [[1]])        \n",
    "    \n",
    "    def testTwo(self):\n",
    "        self.assertEquals(stepUp(2), [[1, 1], [2]])\n",
    "    \n",
    "    def testThree(self):\n",
    "        self.assertEquals(stepUp(3), [[1, 1, 1], [1, 2], [2, 1], [3]])\n",
    "        \n",
    "    # Non base case test.\n",
    "    def testFour(self):\n",
    "        self.assertEquals(stepUp(4), [[1, 1, 1, 1], [1, 2, 1], [2, 1, 1], [3, 1], [1, 1, 2], [2, 2], [1, 3]])\n",
    "\n",
    "if __name__ == '__main__':  unittest.main(argv=[''], exit=False)"
   ]
  },
  {
   "cell_type": "markdown",
   "metadata": {},
   "source": [
    "## Q2\n",
    "\n",
    "Q: Find a path from the top left corner to the bottom right corner through a grid with optional obstacles throughout.\n",
    "\n",
    "The solution is to memoize steps, and to attempt to always try to step in a defined order: (1) right (2) down, in some order of those actions being possible.\n",
    "\n",
    "Note: I'm providing just a probably non-working implementation for this case, e.g. not testing this one."
   ]
  },
  {
   "cell_type": "code",
   "execution_count": null,
   "metadata": {},
   "outputs": [],
   "source": [
    "def findPath(arr):\n",
    "    positions = [[0, 0]]\n",
    "    dim_Y, dim_X = len(arr), len(arr[0])\n",
    "    memo = [[None for _ in range(dim_X)] for _ in range(dim_Y)]\n",
    "    while True:\n",
    "        next_positions = []\n",
    "        for pos in positions:\n",
    "            if pos[0] + 1 < len(arr) and arr[pos[0]][pos[1]]:\n",
    "                next_pos = [pos[0] + 1, pos[1]]\n",
    "                if next_pos == [(len(arr) + 1)] * 2:\n",
    "                    return memo[pos[0]][pos[1]] + next_pos\n",
    "                else:\n",
    "                    relevant_entry = memo[next_pos[0]][next_pos[1]]\n",
    "                    new_route = memo[pos[0]][pos[1]] + [next_pos]\n",
    "                    if relevant_entry:\n",
    "                        relevant_entry.append(new_route)\n",
    "                    else:\n",
    "                        relevant_entry = [new_route]\n",
    "            else:  # do the same for columns\n",
    "                next_pos = [pos[0], pos[1] + 1]\n",
    "                if next_pos == [(len(arr) + 1)] * 2:\n",
    "                    return memo[pos[0]][pos[1]] + next_pos\n",
    "                else:\n",
    "                    relevant_entry = memo[next_pos[0]][next_pos[1]]\n",
    "                    new_route = memo[pos[0]][pos[1]] + [next_pos]\n",
    "                    if relevant_entry:\n",
    "                        relevant_entry.append(new_route)\n",
    "                    else:\n",
    "                        relevant_entry = [new_route]                    "
   ]
  },
  {
   "cell_type": "markdown",
   "metadata": {},
   "source": [
    "## Q3\n",
    "\n",
    "Q: A magic index in an array `A[0...n-1]` is one whose index matches its value. Given a sorted array of distinct integers, write a method to find a magic index, if one exists, in the array."
   ]
  },
  {
   "cell_type": "code",
   "execution_count": 45,
   "metadata": {},
   "outputs": [],
   "source": [
    "def magicIndex(l):\n",
    "    if len(l) == 0:\n",
    "        return None\n",
    "    \n",
    "    pos = len(l) // 2\n",
    "    if l[pos] == pos:\n",
    "        return pos\n",
    "    elif l[pos] < pos:\n",
    "        next_l = l[pos + 1:]\n",
    "        sub_result = magicIndex([v - (pos + 1) for v in next_l])\n",
    "        if sub_result:\n",
    "            return pos + 1 + sub_result\n",
    "        else:\n",
    "            raise ValueError(\"No magic number found in the array.\")\n",
    "    else:  # l[pos] > pos\n",
    "        next_l = l[:pos]\n",
    "        return magicIndex(next_l)"
   ]
  },
  {
   "cell_type": "code",
   "execution_count": 37,
   "metadata": {},
   "outputs": [
    {
     "data": {
      "text/plain": [
       "0"
      ]
     },
     "execution_count": 37,
     "metadata": {},
     "output_type": "execute_result"
    }
   ],
   "source": [
    "magicIndex([0])"
   ]
  },
  {
   "cell_type": "code",
   "execution_count": 53,
   "metadata": {},
   "outputs": [
    {
     "data": {
      "text/plain": [
       "0"
      ]
     },
     "execution_count": 53,
     "metadata": {},
     "output_type": "execute_result"
    }
   ],
   "source": [
    "magicIndex([0, 2, 5])"
   ]
  },
  {
   "cell_type": "code",
   "execution_count": 39,
   "metadata": {},
   "outputs": [
    {
     "data": {
      "text/plain": [
       "5"
      ]
     },
     "execution_count": 39,
     "metadata": {},
     "output_type": "execute_result"
    }
   ],
   "source": [
    "magicIndex([-5, -4, -3, -2, -1, 5])"
   ]
  },
  {
   "cell_type": "code",
   "execution_count": 57,
   "metadata": {},
   "outputs": [
    {
     "name": "stderr",
     "output_type": "stream",
     "text": [
      "/Users/alex/miniconda3/envs/data-structures-dev/lib/python3.6/site-packages/ipykernel_launcher.py:5: DeprecationWarning: callable is None\n",
      "  \"\"\"\n",
      "...\n",
      "----------------------------------------------------------------------\n",
      "Ran 3 tests in 0.004s\n",
      "\n",
      "OK\n"
     ]
    }
   ],
   "source": [
    "import unittest\n",
    "\n",
    "class TestStepUp(unittest.TestCase):\n",
    "    def testEmpty(self):\n",
    "        self.assertRaises(ValueError, magicIndex([]))\n",
    "    \n",
    "    def testNaive(self):\n",
    "        self.assertEqual(magicIndex([0]), 0)\n",
    "\n",
    "#     def testGreaterResult(self):\n",
    "#         self.assertEqual(magicIndex([-1, 0, 2]), 2)\n",
    "        \n",
    "    def testLesserResult(self):\n",
    "        self.assertEqual(magicIndex([0, 2, 5]), 0)\n",
    "        \n",
    "#     def testNoResult(self):\n",
    "#         self.assertRaises(ValueError, magicIndex([-5, -4, -3, -2, -1, 6]))        \n",
    "        \n",
    "\n",
    "if __name__ == '__main__':  unittest.main(argv=[''], exit=False)"
   ]
  },
  {
   "cell_type": "markdown",
   "metadata": {},
   "source": [
    "Comment: this is $O(\\log{n})$, as it is just binary search in disguise."
   ]
  },
  {
   "cell_type": "markdown",
   "metadata": {},
   "source": [
    "## Q4\n",
    "\n",
    "Q: *Power set* &mdash; Write a method that returns all subsets of a set."
   ]
  },
  {
   "cell_type": "code",
   "execution_count": 11,
   "metadata": {},
   "outputs": [],
   "source": [
    "def powerSet(l_elements):\n",
    "    out = []\n",
    "    for e in l_elements:\n",
    "        out = out + [o + [e] for o in out] + [[e]]\n",
    "    return [[]] + out"
   ]
  },
  {
   "cell_type": "code",
   "execution_count": 12,
   "metadata": {},
   "outputs": [
    {
     "data": {
      "text/plain": [
       "[[],\n",
       " [1],\n",
       " [1, 2],\n",
       " [2],\n",
       " [1, 3],\n",
       " [1, 2, 3],\n",
       " [2, 3],\n",
       " [3],\n",
       " [1, 4],\n",
       " [1, 2, 4],\n",
       " [2, 4],\n",
       " [1, 3, 4],\n",
       " [1, 2, 3, 4],\n",
       " [2, 3, 4],\n",
       " [3, 4],\n",
       " [4]]"
      ]
     },
     "execution_count": 12,
     "metadata": {},
     "output_type": "execute_result"
    }
   ],
   "source": [
    "powerSet([1, 2, 3, 4])"
   ]
  },
  {
   "cell_type": "markdown",
   "metadata": {},
   "source": [
    "Comment: a very simple dynamic problem. The $n$ solution is the concatenation of the $n - 1$ solution, the $n - 1$ solution plus the additional element, and the naked additional element.\n",
    "\n",
    "This algorithm iterates $n$ times, and iterates through the existing list at each iteration. The existing list at each iteration will be $n!$ in size, so this algorithm is $\\approx O(n!)$ amortized time (amortized to ignore list growth costs).\n",
    "\n",
    "Optimized hardware and software can perform the addition operation a stride at a time, without needing to physically iterate through the elements. If you do that the algorithm is $O(n)$ instead, because each of the concatenations will be $O(1)$ amortized time instead."
   ]
  },
  {
   "cell_type": "markdown",
   "metadata": {},
   "source": [
    "## Q7\n",
    "\n",
    "Q: Find all unique permutations of a string of characters.\n",
    "\n",
    "This question mentions that the characters don't necessarily have to be unique. However to start off, let's use a unique set to simplify the problem."
   ]
  },
  {
   "cell_type": "code",
   "execution_count": 51,
   "metadata": {},
   "outputs": [],
   "source": [
    "import itertools\n",
    "\n",
    "\n",
    "def unique_permutations(s):\n",
    "    if len(s) == 0:\n",
    "        return []\n",
    "    \n",
    "    chars = set(s)\n",
    "    memo = {n: [] for n in range(len(s) + 1)}\n",
    "    memo[0] = []\n",
    "    memo[1] = [[c] for c in s]\n",
    "    \n",
    "    nchars = 2\n",
    "    while nchars <= len(s):\n",
    "        for char in chars:\n",
    "            for combo in memo[nchars - 1]:\n",
    "                if char not in combo:\n",
    "                    memo[nchars] += [combo + [char]]\n",
    "        nchars += 1\n",
    "    \n",
    "    return list(itertools.chain(*memo.values()))"
   ]
  },
  {
   "cell_type": "code",
   "execution_count": 52,
   "metadata": {},
   "outputs": [
    {
     "data": {
      "text/plain": [
       "[['a'],\n",
       " ['b'],\n",
       " ['c'],\n",
       " ['b', 'a'],\n",
       " ['c', 'a'],\n",
       " ['a', 'c'],\n",
       " ['b', 'c'],\n",
       " ['a', 'b'],\n",
       " ['c', 'b'],\n",
       " ['b', 'c', 'a'],\n",
       " ['c', 'b', 'a'],\n",
       " ['b', 'a', 'c'],\n",
       " ['a', 'b', 'c'],\n",
       " ['c', 'a', 'b'],\n",
       " ['a', 'c', 'b']]"
      ]
     },
     "execution_count": 52,
     "metadata": {},
     "output_type": "execute_result"
    }
   ],
   "source": [
    "unique_permutations(\"abc\")"
   ]
  },
  {
   "cell_type": "code",
   "execution_count": 55,
   "metadata": {},
   "outputs": [
    {
     "data": {
      "text/plain": [
       "[['a'],\n",
       " ['b'],\n",
       " ['c'],\n",
       " ['d'],\n",
       " ['a', 'd'],\n",
       " ['b', 'd'],\n",
       " ['c', 'd'],\n",
       " ['b', 'a'],\n",
       " ['c', 'a'],\n",
       " ['d', 'a'],\n",
       " ['a', 'c'],\n",
       " ['b', 'c'],\n",
       " ['d', 'c'],\n",
       " ['a', 'b'],\n",
       " ['c', 'b'],\n",
       " ['d', 'b'],\n",
       " ['b', 'a', 'd'],\n",
       " ['c', 'a', 'd'],\n",
       " ['a', 'c', 'd'],\n",
       " ['b', 'c', 'd'],\n",
       " ['a', 'b', 'd'],\n",
       " ['c', 'b', 'd'],\n",
       " ['b', 'd', 'a'],\n",
       " ['c', 'd', 'a'],\n",
       " ['b', 'c', 'a'],\n",
       " ['d', 'c', 'a'],\n",
       " ['c', 'b', 'a'],\n",
       " ['d', 'b', 'a'],\n",
       " ['a', 'd', 'c'],\n",
       " ['b', 'd', 'c'],\n",
       " ['b', 'a', 'c'],\n",
       " ['d', 'a', 'c'],\n",
       " ['a', 'b', 'c'],\n",
       " ['d', 'b', 'c'],\n",
       " ['a', 'd', 'b'],\n",
       " ['c', 'd', 'b'],\n",
       " ['c', 'a', 'b'],\n",
       " ['d', 'a', 'b'],\n",
       " ['a', 'c', 'b'],\n",
       " ['d', 'c', 'b'],\n",
       " ['b', 'c', 'a', 'd'],\n",
       " ['c', 'b', 'a', 'd'],\n",
       " ['b', 'a', 'c', 'd'],\n",
       " ['a', 'b', 'c', 'd'],\n",
       " ['c', 'a', 'b', 'd'],\n",
       " ['a', 'c', 'b', 'd'],\n",
       " ['b', 'c', 'd', 'a'],\n",
       " ['c', 'b', 'd', 'a'],\n",
       " ['b', 'd', 'c', 'a'],\n",
       " ['d', 'b', 'c', 'a'],\n",
       " ['c', 'd', 'b', 'a'],\n",
       " ['d', 'c', 'b', 'a'],\n",
       " ['b', 'a', 'd', 'c'],\n",
       " ['a', 'b', 'd', 'c'],\n",
       " ['b', 'd', 'a', 'c'],\n",
       " ['d', 'b', 'a', 'c'],\n",
       " ['a', 'd', 'b', 'c'],\n",
       " ['d', 'a', 'b', 'c'],\n",
       " ['c', 'a', 'd', 'b'],\n",
       " ['a', 'c', 'd', 'b'],\n",
       " ['c', 'd', 'a', 'b'],\n",
       " ['d', 'c', 'a', 'b'],\n",
       " ['a', 'd', 'c', 'b'],\n",
       " ['d', 'a', 'c', 'b']]"
      ]
     },
     "execution_count": 55,
     "metadata": {},
     "output_type": "execute_result"
    }
   ],
   "source": [
    "unique_permutations(\"abcd\")"
   ]
  },
  {
   "cell_type": "markdown",
   "metadata": {},
   "source": [
    "This algorithm is $O(n^2 \\times n!)$. At iteration $n$ we must iterate over the permutations of length $n-1$, and perform an amortized linear time operation on $n$ characters. So we have a sequence of operations of the form $(n)(n - 1) + (n - 1)(n - 2) + \\ldots + (2)(1)$. The most significant term in the resultant polynomial is $n^2$, and it's called on the order of $n!$ times. Hence the resultant cost estimate. The book has a more complete derivation. This is a tough one to eyeball; I initially thought it must be $O(n^2)$ because that's the most significant term in the polynomial, but the growth of the constant multiple term matters here!\n",
    "\n",
    "A modification of this method that allows for repeated characters isn't going to change the runtime and will only involve some additional bookkeeping, so I'll gloss over it."
   ]
  },
  {
   "cell_type": "markdown",
   "metadata": {},
   "source": [
    "## Q6\n",
    "\n",
    "Q: *Towers of Hanoi* &mdash; In the Tower of Hanoi problem you have a stack of $n$ progressively smaller discs in descending size order, bottom-to-top. The objective is to move the stack from the current location to a different location, subject to the following constraints:\n",
    "\n",
    "1. Only one disc can be moved at a time.\n",
    "2. A disc cannot be placed on top of a smaller disc.\n",
    "\n",
    "Write a program that uses stacks to move discs from a first (full) tower to an empty (last) tower, creating a size order last tower, that respects these constraints.\n",
    "\n",
    "I got very wrapped up in trying to find an analytic, $O(n)$ solution for this problem. I spent about an hour working through solutions, and got reasonably close but couldn't go all the way! Here's an example of a well-defined operation you can run:"
   ]
  },
  {
   "cell_type": "code",
   "execution_count": 16,
   "metadata": {},
   "outputs": [],
   "source": [
    "def R1(stacks):\n",
    "    # Assumes a starting point of [[1,...,N],[],[]]\n",
    "    # Results in [[N-3,...,N],[],[1,2,3]]\n",
    "    def cp(stacks): return [s.copy() for s in stacks]\n",
    "    \n",
    "    P1 = stacks\n",
    "    P2 = cp(P1); P2[2].append(P2[0].pop())\n",
    "    P3 = cp(P2); P3[1].append(P3[0].pop())\n",
    "    P4 = cp(P3); P4[1].append(P4[2].pop())\n",
    "    P5 = cp(P4); P5[2].append(P5[0].pop())\n",
    "    P6 = cp(P5); P6[0].append(P6[1].pop())\n",
    "    P7 = cp(P6); P7[2].append(P7[1].pop())\n",
    "    P8 = cp(P7); P8[2].append(P8[0].pop())\n",
    "    return [P1, P2, P3, P4, P5, P6, P7, P8]  "
   ]
  },
  {
   "cell_type": "code",
   "execution_count": 23,
   "metadata": {},
   "outputs": [
    {
     "data": {
      "text/plain": [
       "[[[5, 4, 3, 2, 1], [], []],\n",
       " [[5, 4, 3, 2], [], [1]],\n",
       " [[5, 4, 3], [2], [1]],\n",
       " [[5, 4, 3], [2, 1], []],\n",
       " [[5, 4], [2, 1], [3]],\n",
       " [[5, 4, 1], [2], [3]],\n",
       " [[5, 4, 1], [], [3, 2]],\n",
       " [[5, 4], [], [3, 2, 1]]]"
      ]
     },
     "execution_count": 23,
     "metadata": {},
     "output_type": "execute_result"
    }
   ],
   "source": [
    "R1([[5, 4, 3, 2, 1],[],[]])"
   ]
  },
  {
   "cell_type": "markdown",
   "metadata": {},
   "source": [
    "After blowing a ton of time on this, I read the book solution. The book solution was an analysis along the same lines which was simple and actually successful: just solve the \"move the top $n$ elements\" problem for greater values of $n$. So I screwed this one up really, really badly.\n",
    "\n",
    "The solution is reasonably simple, skipping this one now."
   ]
  },
  {
   "cell_type": "markdown",
   "metadata": {},
   "source": [
    "## Q9\n",
    "\n",
    "Q: *Catalan numbers with parens* &mdash; Implement an algorithm to print all valid combinations of $n$ pairs of parentheses.\n",
    "\n",
    "This is a combinatorical problem involving what are known as \"Catalan numbers\", which are deeply related to things like possible representations of trees."
   ]
  },
  {
   "cell_type": "code",
   "execution_count": 30,
   "metadata": {},
   "outputs": [],
   "source": [
    "def parentCombinations(n):\n",
    "    memo = {0: [], 1: [\"()\"]}\n",
    "    if n <= 1:  return memo[n]\n",
    "    \n",
    "    i = 2\n",
    "    while i <= n:\n",
    "        # The first element of the memo is special.\n",
    "        # It is the linear combination of parens, e.g. \"()\" or \"()()\".\n",
    "        # For this element backstep doesn't make sense, as it is equivalent to step.\n",
    "        memo[i] = [memo[i - 1][0] + \"()\", \"(\" + memo[i - 1][0] + \")\"]\n",
    "        \n",
    "        # For the remaining elements there is a step, backstep, and wrap operation.\n",
    "        for prior in memo[i - 1][1:]:\n",
    "            memo[i] += [prior + \"()\", \"()\" + prior, \"(\" + prior + \")\"]\n",
    "        \n",
    "        i += 1\n",
    "        \n",
    "    return memo[n]"
   ]
  },
  {
   "cell_type": "code",
   "execution_count": 25,
   "metadata": {},
   "outputs": [
    {
     "data": {
      "text/plain": [
       "[]"
      ]
     },
     "execution_count": 25,
     "metadata": {},
     "output_type": "execute_result"
    }
   ],
   "source": [
    "parentCombinations(0)"
   ]
  },
  {
   "cell_type": "code",
   "execution_count": 26,
   "metadata": {},
   "outputs": [
    {
     "data": {
      "text/plain": [
       "['()']"
      ]
     },
     "execution_count": 26,
     "metadata": {},
     "output_type": "execute_result"
    }
   ],
   "source": [
    "parentCombinations(1)"
   ]
  },
  {
   "cell_type": "code",
   "execution_count": 31,
   "metadata": {},
   "outputs": [
    {
     "data": {
      "text/plain": [
       "['()()', '(())']"
      ]
     },
     "execution_count": 31,
     "metadata": {},
     "output_type": "execute_result"
    }
   ],
   "source": [
    "parentCombinations(2)"
   ]
  },
  {
   "cell_type": "code",
   "execution_count": 32,
   "metadata": {},
   "outputs": [
    {
     "data": {
      "text/plain": [
       "['()()()', '(()())', '(())()', '()(())', '((()))']"
      ]
     },
     "execution_count": 32,
     "metadata": {},
     "output_type": "execute_result"
    }
   ],
   "source": [
    "parentCombinations(3)"
   ]
  },
  {
   "cell_type": "code",
   "execution_count": 33,
   "metadata": {},
   "outputs": [
    {
     "data": {
      "text/plain": [
       "['()()()()',\n",
       " '(()()())',\n",
       " '(()())()',\n",
       " '()(()())',\n",
       " '((()()))',\n",
       " '(())()()',\n",
       " '()(())()',\n",
       " '((())())',\n",
       " '()(())()',\n",
       " '()()(())',\n",
       " '(()(()))',\n",
       " '((()))()',\n",
       " '()((()))',\n",
       " '(((())))']"
      ]
     },
     "execution_count": 33,
     "metadata": {},
     "output_type": "execute_result"
    }
   ],
   "source": [
    "parentCombinations(4)"
   ]
  },
  {
   "cell_type": "markdown",
   "metadata": {},
   "source": [
    "Easy.\n",
    "\n",
    "The number of operations necessary follows a recurrence relationship. Given that $C(\\cdot)$ is the function, the relationship is $C(1) + C(2) + \\ldots + C(n - 1)$. Because there are three possible variations on each element, and we iterate over the entire prior list, we may bound the number of elements produced by $C(n)$ as $|C(n)| = 3 \\times |C(n - 1)| = 3 \\times 3 \\times C(n - 2)$. This leads to our upper bound for this algorithm: $O(3^n)$."
   ]
  },
  {
   "cell_type": "markdown",
   "metadata": {},
   "source": [
    "## Q10\n",
    "\n",
    "Q: *Paint fill*: fill a monocolor area in a matrix with a specified color, as you might do in e.g. Microsoft Paint."
   ]
  },
  {
   "cell_type": "code",
   "execution_count": 34,
   "metadata": {},
   "outputs": [],
   "source": [
    "def fillFrom(mat, pos):\n",
    "    mat[pos[0]][pos[1]] = True\n",
    "    \n",
    "    next_pixels = []\n",
    "    if pos[1] > 0:\n",
    "        next_pixels.append([pos[0], pos[1] - 1])\n",
    "    if pos[0] > 0:\n",
    "        next_pixels.append([pos[0] - 1, pos[1]])\n",
    "    if pos[1] < len(pos[0]):\n",
    "        next_pixels.append([pos[0], pos[1] + 1])\n",
    "    if pos[0] < len(pos):\n",
    "        next_pixels.append([pos[0] + 1, pos[1]])\n",
    "        \n",
    "    for pixel in next_pixels:\n",
    "        mat = fillFrom(mat, pixel)\n",
    "        \n",
    "    return mat"
   ]
  },
  {
   "cell_type": "markdown",
   "metadata": {},
   "source": [
    "Simple recursive problem, here's a solution.\n",
    "\n",
    "A better (less resource-intensive) solution would be an iterative solution that tries to grow around the existing area. That would require far fewer stack frames to do its work than a recursive algorithm. But, this algorithm is simple to write."
   ]
  },
  {
   "cell_type": "markdown",
   "metadata": {},
   "source": [
    "## Q11\n",
    "\n",
    "Q: *Change problem* &mdash; Find ways of combining coins to form $n$ cents.\n",
    "\n",
    "Already did this problem while I was studying DPs intensively, so skipping this one."
   ]
  },
  {
   "cell_type": "markdown",
   "metadata": {},
   "source": [
    "## Q12\n",
    "\n",
    "Q: *Eight queens problem* &mdash; Find all possible ways of placing eight queens on a board such that none share a row, column, or diagonal."
   ]
  },
  {
   "cell_type": "code",
   "execution_count": 120,
   "metadata": {},
   "outputs": [],
   "source": [
    "from tqdm import tqdm\n",
    "\n",
    "def isBoardLegal(queens):\n",
    "    occupied_rows = [queen[0] for queen in queens]\n",
    "    occupied_columns = [queen[1] for queen in queens]\n",
    "    occupied_diags_left = [queen[0] + queen[1] + 1 for queen in queens]\n",
    "    occupied_diags_right = [8 - queen[0] + queen[1] + 1 for queen in queens]\n",
    "\n",
    "    return (len(occupied_rows) == len(set(occupied_rows)) and\n",
    "            len(occupied_columns) == len(set(occupied_columns)) and\n",
    "            len(occupied_diags_left) == len(set(occupied_diags_left)) and\n",
    "            len(occupied_diags_right) == len(set(occupied_diags_right))\n",
    "           )\n",
    "\n",
    "def eightQueens():\n",
    "    import itertools\n",
    "    every_square = [[[[j, k]] for k in range(8)] for j in range(8)]\n",
    "    every_square = list(itertools.chain(*every_square))\n",
    "    memo = {1: every_square}\n",
    "    \n",
    "    i = 2\n",
    "    while i <= 4:\n",
    "        next_queen_positions = []\n",
    "        for queen_arrangement in memo[i - 1]:\n",
    "            for square in every_square:\n",
    "                possibility = queen_arrangement + square\n",
    "                if isBoardLegal(possibility):\n",
    "                    next_queen_positions += [possibility]\n",
    "    \n",
    "        memo[i] = next_queen_positions\n",
    "        print(f'Possible arrangements of {i} queens: {len(memo[i])}')\n",
    "        i += 1\n",
    "    \n",
    "    return memo[len(memo)]"
   ]
  },
  {
   "cell_type": "code",
   "execution_count": 121,
   "metadata": {},
   "outputs": [
    {
     "name": "stdout",
     "output_type": "stream",
     "text": [
      "Possible arrangements of 2 queens: 2576\n",
      "Possible arrangements of 3 queens: 61920\n",
      "Possible arrangements of 4 queens: 829632\n"
     ]
    }
   ],
   "source": [
    "result = eightQueens()"
   ]
  },
  {
   "cell_type": "markdown",
   "metadata": {},
   "source": [
    "Comment: this algorithm is extremely inefficient, because it doesn't perform an important optimization: eliminating columns, rows, and diagonals from the search space at each iteration. There are a *lot* of ways of placing 4, 5, or so queens on the board. Constraining the search space would require additionally bookkeeping known bad areas, which is not too difficult, however.\n",
    "\n",
    "The book uses a recursive solution that is similar to this iterative one, but simpler to read (surprisingly) and includes this optimization."
   ]
  },
  {
   "cell_type": "markdown",
   "metadata": {},
   "source": [
    "## Q13\n",
    "\n",
    "Q: You have $n$ boxes with fixed height, width, and depth. Find the tallest possible stack of boxes, subject to the constraint that each box is wider, taller, and deeper than the box immediately above it."
   ]
  },
  {
   "cell_type": "code",
   "execution_count": 129,
   "metadata": {},
   "outputs": [],
   "source": [
    "def solveBoxes(boxes, priors=None):\n",
    "    if len(boxes) == 0:\n",
    "        return []\n",
    "    elif len(boxes) == 1:\n",
    "        return boxes\n",
    "    \n",
    "    if not priors:\n",
    "        priors = []\n",
    "    constraint = priors[-1] if priors else None    \n",
    "    solutions = []\n",
    "    \n",
    "    for i in range(len(boxes)):\n",
    "        box = boxes[i]\n",
    "        if ((constraint and box[1] <= constraint[1] and box[2] <= constraint[2]) or\n",
    "            not constraint\n",
    "           ):\n",
    "            next_boxes = boxes[:i] + boxes[i + 1:]\n",
    "            solutions += solveBoxes(next_boxes, priors=priors + [box])\n",
    "    \n",
    "    return solutions"
   ]
  },
  {
   "cell_type": "code",
   "execution_count": 123,
   "metadata": {},
   "outputs": [
    {
     "data": {
      "text/plain": [
       "[]"
      ]
     },
     "execution_count": 123,
     "metadata": {},
     "output_type": "execute_result"
    }
   ],
   "source": [
    "solveBoxes([])"
   ]
  },
  {
   "cell_type": "code",
   "execution_count": 124,
   "metadata": {},
   "outputs": [
    {
     "data": {
      "text/plain": [
       "[(1, 1, 1)]"
      ]
     },
     "execution_count": 124,
     "metadata": {},
     "output_type": "execute_result"
    }
   ],
   "source": [
    "solveBoxes([(1, 1, 1)])"
   ]
  },
  {
   "cell_type": "code",
   "execution_count": 125,
   "metadata": {},
   "outputs": [
    {
     "data": {
      "text/plain": [
       "[(2, 2, 2), (1, 1, 1)]"
      ]
     },
     "execution_count": 125,
     "metadata": {},
     "output_type": "execute_result"
    }
   ],
   "source": [
    "solveBoxes([(1, 1, 1), (2, 2, 2)])"
   ]
  },
  {
   "cell_type": "code",
   "execution_count": 130,
   "metadata": {},
   "outputs": [
    {
     "data": {
      "text/plain": [
       "[(2, 3, 3), (2, 2, 2), (1, 1, 1)]"
      ]
     },
     "execution_count": 130,
     "metadata": {},
     "output_type": "execute_result"
    }
   ],
   "source": [
    "solveBoxes([(1, 1, 1), (2, 2, 2), (2, 3, 3)])"
   ]
  },
  {
   "cell_type": "markdown",
   "metadata": {},
   "source": [
    "Comment: got this one relatively quickly. Getting better at solving these recursive things. Also understanding how doing 200 of these would allow you to ratchet off solutions to problems like this instinctively."
   ]
  }
 ],
 "metadata": {
  "kernelspec": {
   "display_name": "Python 3",
   "language": "python",
   "name": "python3"
  },
  "language_info": {
   "codemirror_mode": {
    "name": "ipython",
    "version": 3
   },
   "file_extension": ".py",
   "mimetype": "text/x-python",
   "name": "python",
   "nbconvert_exporter": "python",
   "pygments_lexer": "ipython3",
   "version": "3.6.6"
  }
 },
 "nbformat": 4,
 "nbformat_minor": 2
}
