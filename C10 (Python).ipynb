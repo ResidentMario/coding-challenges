{
 "cells": [
  {
   "cell_type": "markdown",
   "metadata": {},
   "source": [
    "This group of exercises is themed around sorting. `mergesort` and `quicksort` are picked out as algorithms you really should know. So here are implementations of these."
   ]
  },
  {
   "cell_type": "code",
   "execution_count": 1,
   "metadata": {},
   "outputs": [],
   "source": [
    "def mergesort(arr):\n",
    "    if len(arr) <= 1:\n",
    "        return arr\n",
    "    \n",
    "    pivot = len(arr) // 2\n",
    "    left = arr[:pivot]\n",
    "    right = arr[pivot:]\n",
    "\n",
    "    mergesort(left)\n",
    "    mergesort(right)\n",
    "\n",
    "    i = 0\n",
    "    j = 0\n",
    "    k = 0\n",
    "    \n",
    "    while i < len(left) and j < len(right):\n",
    "        if left[i] < right[j]:\n",
    "            arr[k] = left[i]\n",
    "            i = i+1\n",
    "        else:\n",
    "            arr[k] = right[j]\n",
    "            j = j+1\n",
    "        k = k+1\n",
    "\n",
    "    while i < len(left):\n",
    "        arr[k] = left[i]\n",
    "        i = i+1\n",
    "        k = k+1\n",
    "\n",
    "    while j < len(right):\n",
    "        arr[k] = right[j]\n",
    "        j = j+1\n",
    "        k = k+1\n",
    "        \n",
    "    return arr"
   ]
  },
  {
   "cell_type": "code",
   "execution_count": 2,
   "metadata": {},
   "outputs": [
    {
     "data": {
      "text/plain": [
       "[1, 3, 5]"
      ]
     },
     "execution_count": 2,
     "metadata": {},
     "output_type": "execute_result"
    }
   ],
   "source": [
    "mergesort([1,5,3])"
   ]
  },
  {
   "cell_type": "code",
   "execution_count": 3,
   "metadata": {},
   "outputs": [],
   "source": [
    "def partition(arr, pivot_i):\n",
    "    pivot_v = arr[pivot_i]\n",
    "    for v_i in range(len(arr)):\n",
    "        v = arr[v_i]\n",
    "        if v < pivot_v and v_i > pivot_i:\n",
    "            if v_i == pivot_i + 1:\n",
    "                arr[pivot_i], arr[pivot_i + 1] = v, pivot_v\n",
    "            else:\n",
    "                arr[pivot_i], arr[pivot_i + 1], arr[v_i] = v, pivot_v, arr[pivot_i + 1]\n",
    "            pivot_i += 1\n",
    "        elif v > pivot_v and v_i < pivot_i:\n",
    "            arr[v_i], arr[pivot_i] = pivot_v, v\n",
    "            pivot_i = v_i\n",
    "            \n",
    "    return [arr[:pivot_i], [arr[pivot_i]], arr[pivot_i + 1:]]\n",
    "\n",
    "def quicksort(arr):\n",
    "    if len(arr) <= 1:\n",
    "        return arr\n",
    "    \n",
    "    left, pivot, right = partition(arr, len(arr) // 2)\n",
    "    \n",
    "    left = quicksort(left)\n",
    "    right = quicksort(right)\n",
    "    \n",
    "    return left + pivot + right"
   ]
  },
  {
   "cell_type": "code",
   "execution_count": 4,
   "metadata": {},
   "outputs": [
    {
     "data": {
      "text/plain": [
       "[1, 2, 3, 4, 5, 7]"
      ]
     },
     "execution_count": 4,
     "metadata": {},
     "output_type": "execute_result"
    }
   ],
   "source": [
    "quicksort([2,5,4,3,7,1])"
   ]
  },
  {
   "cell_type": "markdown",
   "metadata": {},
   "source": [
    "Self-assessment: these do seem like something I ought to be able to implement at a whiteboard. The hard part is retaining the ideas.\n",
    "\n",
    "PS: I already implemented radix sort in JS in another repo."
   ]
  },
  {
   "cell_type": "markdown",
   "metadata": {},
   "source": [
    "## Q1\n",
    "\n",
    "Q: You are given two sorted arrays, A and B, where A has enough space at the end to hold be. Sort B into A."
   ]
  },
  {
   "cell_type": "code",
   "execution_count": 5,
   "metadata": {},
   "outputs": [],
   "source": [
    "def sortInto(A, B):\n",
    "    C = []\n",
    "    A_i = B_i = 0\n",
    "    \n",
    "    while A_i < len(A):\n",
    "        a, b, c = A[A_i], B[B_i] if B_i < len(B) else None, C[0] if len(C) > 0 else None\n",
    "        if not a:\n",
    "            if c:\n",
    "                A[A_i] = c\n",
    "                C = C[1:]\n",
    "            else:\n",
    "                A[A_i] = b\n",
    "                B_i += 1\n",
    "        elif c:\n",
    "            if c < a:\n",
    "                C.append(a)\n",
    "                A[A_i] = c\n",
    "                C = C[1:]\n",
    "        elif b:\n",
    "            if b < a:\n",
    "                C.append(a)\n",
    "                A[A_i] = b\n",
    "                B_i += 1\n",
    "        A_i += 1\n",
    "    \n",
    "    return A"
   ]
  },
  {
   "cell_type": "code",
   "execution_count": 6,
   "metadata": {},
   "outputs": [
    {
     "data": {
      "text/plain": [
       "[1, 1, 2, 3]"
      ]
     },
     "execution_count": 6,
     "metadata": {},
     "output_type": "execute_result"
    }
   ],
   "source": [
    "sortInto([1, 2, None, None],[1, 3])"
   ]
  },
  {
   "cell_type": "markdown",
   "metadata": {},
   "source": [
    "Self analysis: I missed one of the four cases. Need to sketch out the solution space more vigorously ahead of time."
   ]
  },
  {
   "cell_type": "markdown",
   "metadata": {},
   "source": [
    "## Q2\n",
    "\n",
    "Q: Write a method to sort an array of strings so that all anagrams are next to one another."
   ]
  },
  {
   "cell_type": "markdown",
   "metadata": {},
   "source": [
    "### Brute-force solution"
   ]
  },
  {
   "cell_type": "code",
   "execution_count": 7,
   "metadata": {},
   "outputs": [],
   "source": [
    "from collections import defaultdict\n",
    "\n",
    "def wordhash(word):\n",
    "    # Radix sort might be faster, but less readable.\n",
    "    d = defaultdict(int)\n",
    "    for c in word:\n",
    "        d[c] += 1\n",
    "    return \"\".join(sorted([c + str(i) for c, i in d.items()]))\n",
    "\n",
    "def sortAnagrams(arr):\n",
    "    return sorted([wordhash(word) for word in arr])"
   ]
  },
  {
   "cell_type": "code",
   "execution_count": 8,
   "metadata": {},
   "outputs": [
    {
     "data": {
      "text/plain": [
       "['a1k1m1r1', 'a1k1m1r1', 'b2o1', 'b2o1']"
      ]
     },
     "execution_count": 8,
     "metadata": {},
     "output_type": "execute_result"
    }
   ],
   "source": [
    "sortAnagrams(['bob', 'mark', 'obb', 'amrk'])"
   ]
  },
  {
   "cell_type": "markdown",
   "metadata": {},
   "source": [
    "`wordhash` is $O(c\\log{c})$, where $c$ is the number of unique characters in an average string (the constant term for iterating over the word, which is based on the length of the word, goes away).\n",
    "\n",
    "`sortAnagrams` is $O(n\\log{n} + nc \\log{c})$.\n",
    "\n",
    "Note: I didn't bother preserving the words because I jumped straight to a more optimized solution.\n",
    "\n",
    "We can make `sortAnagrams` faster by taking advantage of structure in the anagram list, instead of using a naive sorting algorithm."
   ]
  },
  {
   "cell_type": "code",
   "execution_count": 9,
   "metadata": {},
   "outputs": [],
   "source": [
    "def sortAnagrams(arr):\n",
    "    out_map = defaultdict(list)\n",
    "    \n",
    "    for i, word in enumerate(arr):\n",
    "        out_map[wordhash(word)].append(i)\n",
    "    \n",
    "    out = []\n",
    "    for idx_list in out_map.values():\n",
    "        for idx in idx_list:\n",
    "            out.append(arr[idx])\n",
    "    \n",
    "    return out"
   ]
  },
  {
   "cell_type": "code",
   "execution_count": 10,
   "metadata": {},
   "outputs": [
    {
     "data": {
      "text/plain": [
       "['bob', 'obb', 'mark', 'amrk']"
      ]
     },
     "execution_count": 10,
     "metadata": {},
     "output_type": "execute_result"
    }
   ],
   "source": [
    "sortAnagrams(['bob', 'mark', 'obb', 'amrk'])"
   ]
  },
  {
   "cell_type": "markdown",
   "metadata": {},
   "source": [
    "This solution reduces the second sort to a constant term $k$, thus reducing the time complexity to $O(nc\\log{c})$."
   ]
  },
  {
   "cell_type": "markdown",
   "metadata": {},
   "source": [
    "## Q3\n",
    "\n",
    "Q: Given an array that was rotated in place, search for the index of a specific element in the array.\n",
    "\n",
    "Find the minimum element, and then perform an adjusted binary search."
   ]
  },
  {
   "cell_type": "code",
   "execution_count": 14,
   "metadata": {},
   "outputs": [],
   "source": [
    "def findRotatedMinimum(arr):\n",
    "    min_val = arr[0]\n",
    "    idx = 1\n",
    "    \n",
    "    while True:\n",
    "        if arr[idx] < min_val:\n",
    "            return idx\n",
    "        else:\n",
    "            idx += 1\n",
    "\n",
    "\n",
    "def adjustedBinarySearch(arr, minimum_idx, v):\n",
    "    address_space_left = list(range(minimum_idx - 1, len(arr)))\n",
    "    address_space_right = list(range(0, minimum_idx - 1))\n",
    "    address_space = address_space_left + address_space_right\n",
    "    \n",
    "    pos = len(arr) // 2\n",
    "    while True:\n",
    "        candidate_v = arr[address_space[pos]]\n",
    "        if candidate_v == v:\n",
    "            return address_space[pos]\n",
    "        elif candidate_v > v:\n",
    "            pos = pos // 2\n",
    "        else:\n",
    "            pos = pos + (len(arr) - pos) // 2\n",
    "            \n",
    "    return address_space[pos]\n",
    "\n",
    "\n",
    "def rotatedBinarySearch(arr, v):\n",
    "    return adjustedBinarySearch(arr, findRotatedMinimum(arr), v)"
   ]
  },
  {
   "cell_type": "code",
   "execution_count": 16,
   "metadata": {
    "scrolled": true
   },
   "outputs": [
    {
     "data": {
      "text/plain": [
       "3"
      ]
     },
     "execution_count": 16,
     "metadata": {},
     "output_type": "execute_result"
    }
   ],
   "source": [
    "rotatedBinarySearch([3, 4, 1, 2], 2)"
   ]
  },
  {
   "cell_type": "markdown",
   "metadata": {},
   "source": [
    "This solution is $O(n + \\log{n}) = O(n)$ instead of $O(n\\log{n} + \\log{n}) = O(n\\log{n})$, the latter being what we would get if we did this using naive sorting algorithms."
   ]
  },
  {
   "cell_type": "markdown",
   "metadata": {},
   "source": [
    "## Q5\n",
    "\n",
    "Q: Given a sorted string interspersed with empty strings, write a method to find the location of a given string.\n",
    "\n",
    "This is kind of like binary search but with the possibility of \"missing\" the true index of the previous value, forcing us to go find it post-jump. Just the pseudocode for this painful problem:"
   ]
  },
  {
   "cell_type": "markdown",
   "metadata": {},
   "source": [
    "```\n",
    "    function searchLocale(arr, pos, fence):\n",
    "        if arr[pos]:\n",
    "            return pos, [pos, pos]\n",
    "            \n",
    "        left, right = arr[pos - 1], arr[pos + 1]\n",
    "        \n",
    "        while True:\n",
    "            if arr[left]:\n",
    "                return left, [left, right]\n",
    "            elif arr[right]:\n",
    "                return right, [left, right]\n",
    "            else:\n",
    "                if left > 0:\n",
    "                    left -= 1\n",
    "                else:\n",
    "                    return -1, [None, None]\n",
    "                if right < len(arr) - 1:\n",
    "                    right += 1\n",
    "                else:\n",
    "                    return -1, [None, None]\n",
    "\n",
    "\n",
    "    function sparseFind(arr, target_value):\n",
    "        pos = len(arr) // 2\n",
    "        fence = [0, len(arr)]\n",
    "        \n",
    "        while True:\n",
    "            new_v_pos, [left_edge, right_edge] = searchLocale(arr, pos, [0, pos])\n",
    "            \n",
    "            if new_v_pos == -1: return -1\n",
    "            elif arr[new_v_pos] = target_value:\n",
    "                return pos\n",
    "            elif arr[new_v_pos] < target_value:\n",
    "                pos = pos + (len(arr) - pos) // 2\n",
    "            else:\n",
    "                pos = pos // 2                \n",
    "```"
   ]
  },
  {
   "cell_type": "markdown",
   "metadata": {},
   "source": [
    "The resulting algorithm is $O(\\log{n})$ in a good case, and $O(n)$ in a base case. The average performance is $O(c\\log{n})$, where $c$ is the average emptiness of the neighborhood around an element of the list."
   ]
  },
  {
   "cell_type": "markdown",
   "metadata": {},
   "source": [
    "## Q6\n",
    "\n",
    "Q: How would you sort a file that doesn't fit in memory?\n",
    "\n",
    "A: This is an external sort. You split the file into chunks and sort each chunk. Then you take the chunks two at a time, and sort those together."
   ]
  },
  {
   "cell_type": "markdown",
   "metadata": {},
   "source": [
    "## Q9\n",
    "\n",
    "Q: Write an algorithm to efficiently search a matrix which has been sorted in ascending order in both the X and the Y.\n",
    "\n",
    "### Brute-force solution"
   ]
  },
  {
   "cell_type": "code",
   "execution_count": 23,
   "metadata": {},
   "outputs": [],
   "source": [
    "def findInSortedMatrix(mat, v):\n",
    "    def binary_search(v, values):\n",
    "        pos = len(values) // 2\n",
    "        \n",
    "        already_seen_zero = False\n",
    "        while True:\n",
    "            if values[pos] == v:\n",
    "                return pos\n",
    "            elif values[pos] < v:\n",
    "                pos = pos + (len(values) - pos) // 2\n",
    "            else:\n",
    "                pos = pos // 2\n",
    "                \n",
    "            if pos == 0 or pos == len(values) - 1:\n",
    "                if already_seen_zero == False:\n",
    "                    already_seen_zero = True\n",
    "                else:\n",
    "                    return -1\n",
    "                \n",
    "    \n",
    "    row_idx = 0\n",
    "    while row_idx < len(mat):\n",
    "        result = binary_search(v, mat[row_idx])\n",
    "        print(mat[row_idx], result)\n",
    "        if result != -1:\n",
    "            return row_idx, result\n",
    "        else:\n",
    "            row_idx += 1\n",
    "            \n",
    "    return -1"
   ]
  },
  {
   "cell_type": "markdown",
   "metadata": {},
   "source": [
    "This is just iterative binary search over either the rows or the columns. The algorithm is $O(n\\log{n})$."
   ]
  },
  {
   "cell_type": "code",
   "execution_count": 25,
   "metadata": {},
   "outputs": [
    {
     "name": "stdout",
     "output_type": "stream",
     "text": [
      "[1, 2] -1\n",
      "[3, 4] 1\n"
     ]
    },
    {
     "data": {
      "text/plain": [
       "(1, 1)"
      ]
     },
     "execution_count": 25,
     "metadata": {},
     "output_type": "execute_result"
    }
   ],
   "source": [
    "findInSortedMatrix([[1,2],[3,4]], 4)"
   ]
  },
  {
   "cell_type": "markdown",
   "metadata": {},
   "source": [
    "## Improved algorithm\n",
    "\n",
    "We can perform a two-dimensional iterative search to find the responsible entry. Basically, we start at a value, then jump either forwards or backwards in either the row or the column (whichever one is both legal and hasn't been tried yet, defaulting to columns arbitrarily).\n",
    "\n",
    "This is $O(n)$, but also requires $O(n)$ space to store values that have already been seen."
   ]
  },
  {
   "cell_type": "code",
   "execution_count": 35,
   "metadata": {},
   "outputs": [],
   "source": [
    "def findInSortedMatrix(mat, v):\n",
    "    row_idx = col_idx = len(mat) // 2\n",
    "    seen = set()\n",
    "\n",
    "    while True:\n",
    "        curr_v = mat[row_idx][col_idx]\n",
    "        if curr_v == v:\n",
    "            return row_idx, col_idx\n",
    "        elif curr_v > v:\n",
    "            if f'{row_idx - 1}{col_idx}' in seen or row_idx == 0:\n",
    "                col_idx -= 1\n",
    "            else:\n",
    "                row_idx -= 1\n",
    "            seen.update({f'{row_idx}{col_idx}'})\n",
    "        else:\n",
    "            if f'{row_idx + 1}{col_idx}' in seen or row_idx == 0:\n",
    "                col_idx += 1\n",
    "            else:\n",
    "                row_idx += 1\n",
    "            seen.update({f'{row_idx}{col_idx}'})"
   ]
  },
  {
   "cell_type": "code",
   "execution_count": 36,
   "metadata": {},
   "outputs": [
    {
     "data": {
      "text/plain": [
       "(0, 0)"
      ]
     },
     "execution_count": 36,
     "metadata": {},
     "output_type": "execute_result"
    }
   ],
   "source": [
    "findInSortedMatrix([[1,2],[3,4]], 1)"
   ]
  },
  {
   "cell_type": "markdown",
   "metadata": {},
   "source": [
    "### Even more improved algorithm\n",
    "\n",
    "Instead of doing the search linearly, we can take binary search steps in whichever direction. This lowers our runtime to $O(\\log{n})$."
   ]
  },
  {
   "cell_type": "code",
   "execution_count": 37,
   "metadata": {},
   "outputs": [],
   "source": [
    "def findInSortedMatrix(mat, v):\n",
    "    row_idx = col_idx = len(mat) // 2\n",
    "    seen = set()\n",
    "\n",
    "    while True:\n",
    "        curr_v = mat[row_idx][col_idx]\n",
    "        if curr_v == v:\n",
    "            return row_idx, col_idx\n",
    "        elif curr_v > v:\n",
    "            new_row_idx = row_idx // 2\n",
    "            if f'{new_row_idx}{col_idx}' in seen or row_idx == 0:\n",
    "                col_idx = col_idx // 2\n",
    "            else:\n",
    "                row_idx = new_row_idx\n",
    "            seen.update({f'{new_row_idx}{col_idx}'})\n",
    "        else:\n",
    "            new_col_idx = col_idx + (len(mat) - col_idx) // 2\n",
    "            if f'{row_idx}{new_col_idx}' in seen or row_idx == 0:\n",
    "                col_idx = new_col_idx\n",
    "            else:\n",
    "                row_idx = row_idx + (len(mat) - row_idx) // 2\n",
    "            seen.update({f'{row_idx}{col_idx}'})"
   ]
  },
  {
   "cell_type": "code",
   "execution_count": 38,
   "metadata": {},
   "outputs": [
    {
     "data": {
      "text/plain": [
       "(0, 0)"
      ]
     },
     "execution_count": 38,
     "metadata": {},
     "output_type": "execute_result"
    }
   ],
   "source": [
    "findInSortedMatrix([[1,2],[3,4]], 1)"
   ]
  },
  {
   "cell_type": "markdown",
   "metadata": {},
   "source": [
    "Notes: this one went very smoothly. Interestingly the book doesn't use this approach at all, instead it performs a quadrangle search. Hmm."
   ]
  },
  {
   "cell_type": "markdown",
   "metadata": {},
   "source": [
    "## Q10\n",
    "\n",
    "Q: *Response ranking* &mdash; Write a routine to look up the rank of a selected value in a stream of values.\n",
    "\n",
    "A: This is the response ranking problem, which I studied in depth early into my time at RC.\n",
    "\n",
    "The book recommends using a binary search tree. I could also use a hash map, which is simpler to implement."
   ]
  },
  {
   "cell_type": "markdown",
   "metadata": {},
   "source": [
    "## Q11:\n",
    "\n",
    "Q: Sort an array into alternating peaks and valleys (e.g. single-length monotonic subsequences). For example: `0 5 3 4 1 7`."
   ]
  },
  {
   "cell_type": "code",
   "execution_count": 39,
   "metadata": {},
   "outputs": [],
   "source": [
    "def peakValleySort(arr):\n",
    "    new_arr = arr[:2]\n",
    "    curr_idx = 1\n",
    "    curr_offset = 1\n",
    "    \n",
    "    if arr[0] > arr[1]:\n",
    "        curr_desire = \"peak\"\n",
    "    else:\n",
    "        curr_desire = \"valley\"\n",
    "    \n",
    "    while len(new_arr) < len(arr):\n",
    "        if arr[curr_idx + curr_offset] <= new_arr[curr_idx] and curr_desire == \"valley\":\n",
    "            new_arr.append(arr[curr_idx])\n",
    "            arr = arr[:curr_idx + curr_offset] + arr[curr_offset + 1:]\n",
    "            curr_idx += 1\n",
    "            curr_offset = 1\n",
    "        elif arr[curr_idx + curr_offset] >= new_arr[curr_idx] and curr_desire == \"peak\":\n",
    "            new_arr.append(arr[curr_idx])\n",
    "            curr_idx += 1\n",
    "            curr_offset = 1\n",
    "        else:\n",
    "            curr_offset += 1\n",
    "    return new_arr"
   ]
  },
  {
   "cell_type": "markdown",
   "metadata": {},
   "source": [
    "The idea is to \"run forward\" until we find an element that matches our desired condition, and then splice into the output array, before resetting the search at the next element.\n",
    "\n",
    "Some version of the code above will work, although it's not run/tested at the moment.\n",
    "\n",
    "Best-case runtime would be $O(n)$. Worst-case runtime would be $O(n!)$. We can expect $O(mn)$ runtime, where $m$ is a function of the sortedness of the array."
   ]
  }
 ],
 "metadata": {
  "kernelspec": {
   "display_name": "Python 3",
   "language": "python",
   "name": "python3"
  },
  "language_info": {
   "codemirror_mode": {
    "name": "ipython",
    "version": 3
   },
   "file_extension": ".py",
   "mimetype": "text/x-python",
   "name": "python",
   "nbconvert_exporter": "python",
   "pygments_lexer": "ipython3",
   "version": "3.6.6"
  }
 },
 "nbformat": 4,
 "nbformat_minor": 2
}
