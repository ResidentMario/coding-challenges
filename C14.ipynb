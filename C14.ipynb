{
 "cells": [
  {
   "cell_type": "markdown",
   "metadata": {},
   "source": [
    "## Q2\n",
    "\n",
    "Q: Efficiently count words that appear in a piece of text (single or multiple)."
   ]
  },
  {
   "cell_type": "code",
   "execution_count": 55,
   "metadata": {},
   "outputs": [],
   "source": [
    "def wordcount(text, target):\n",
    "    w_s = 0\n",
    "    w_e = 0\n",
    "    c = 0\n",
    "    \n",
    "    for idx in range(0, len(text)):\n",
    "        if text[idx] == \" \":\n",
    "            if text[w_s:idx] == target:\n",
    "                c += 1\n",
    "                \n",
    "            w_e = w_s = idx + 1\n",
    "        \n",
    "        else:\n",
    "            w_e += 1\n",
    "            \n",
    "    if text[w_s:] == target:\n",
    "        c += 1\n",
    "    \n",
    "    return c"
   ]
  },
  {
   "cell_type": "code",
   "execution_count": 56,
   "metadata": {},
   "outputs": [
    {
     "data": {
      "text/plain": [
       "3"
      ]
     },
     "execution_count": 56,
     "metadata": {},
     "output_type": "execute_result"
    }
   ],
   "source": [
    "wordcount(\"foo bar foo foo\", \"foo\")"
   ]
  },
  {
   "cell_type": "code",
   "execution_count": 61,
   "metadata": {},
   "outputs": [],
   "source": [
    "def wordcount_multiple(text, targets):\n",
    "    out = {target: 0 for target in targets}\n",
    "    \n",
    "    w_s = w_e = 0\n",
    "    \n",
    "    for idx in range(0, len(text)):\n",
    "        if text[idx] == \" \":\n",
    "            for target in targets:\n",
    "                if text[w_s:idx] == target:\n",
    "                    out[target] += 1\n",
    "                \n",
    "            w_e = w_s = idx + 1\n",
    "        \n",
    "        else:\n",
    "            w_e += 1\n",
    "            \n",
    "    for target in targets:\n",
    "        if text[w_s:] == target:\n",
    "            out[target] += 1\n",
    "    \n",
    "    return out"
   ]
  },
  {
   "cell_type": "code",
   "execution_count": 64,
   "metadata": {},
   "outputs": [
    {
     "data": {
      "text/plain": [
       "{'foo': 3, 'bar': 1}"
      ]
     },
     "execution_count": 64,
     "metadata": {},
     "output_type": "execute_result"
    }
   ],
   "source": [
    "wordcount_multiple(\"foo bar foo foo\", [\"foo\", \"bar\"])"
   ]
  },
  {
   "cell_type": "markdown",
   "metadata": {},
   "source": [
    "This algorithm is $O(n)$ for the single word count version, and $O(nk)$ for the multiple word count version (where $k$ is the number of words passed)."
   ]
  },
  {
   "cell_type": "markdown",
   "metadata": {},
   "source": [
    "## Q3\n",
    "\n",
    "Q: Given the start and end points of two line segments, compute the intersection (if one exists).\n",
    "\n",
    "Easy to find a closed form solution to this problem. Solved $O(1)$."
   ]
  },
  {
   "cell_type": "markdown",
   "metadata": {},
   "source": [
    "## Q4\n",
    "\n",
    "Q: Determine of a player has won a game of tic tac toe."
   ]
  },
  {
   "cell_type": "code",
   "execution_count": 66,
   "metadata": {},
   "outputs": [],
   "source": [
    "def tictactoe(grid):\n",
    "    return (any([grid[0][i] == grid[1][i] == grid[2][i] for i in range(3)]) or\n",
    "            any([grid[i][0] == grid[i][1] == grid[i][2] for i in range(3)]) or\n",
    "            grid[0][0] == grid[1][1] == grid[2][2] or\n",
    "            grid[0][2] == grid[1][1] == grid[2][0]\n",
    "           )"
   ]
  },
  {
   "cell_type": "code",
   "execution_count": 67,
   "metadata": {},
   "outputs": [
    {
     "data": {
      "text/plain": [
       "True"
      ]
     },
     "execution_count": 67,
     "metadata": {},
     "output_type": "execute_result"
    }
   ],
   "source": [
    "tictactoe([[\"X\", \"X\", \"X\"], [\" \", \" \", \" \"], [\" \", \" \", \" \"]])"
   ]
  },
  {
   "cell_type": "markdown",
   "metadata": {},
   "source": [
    "Simple modification of this works (need an index character that we ignore). $O(1)$."
   ]
  },
  {
   "cell_type": "markdown",
   "metadata": {},
   "source": [
    "## Q5\n",
    "\n",
    "Q: Solve for the number of trailing zeros in $n!$."
   ]
  },
  {
   "cell_type": "code",
   "execution_count": 93,
   "metadata": {},
   "outputs": [],
   "source": [
    "def n_twos_fives(n):\n",
    "    c_2s = 0\n",
    "    c_5s = 0\n",
    "    \n",
    "    while n % 2 == 0:\n",
    "        c_2s += 1\n",
    "        n = n / 2\n",
    "        \n",
    "    while n % 5 == 0:\n",
    "        c_5s += 1\n",
    "        n = n / 5\n",
    "    \n",
    "    return c_2s, c_5s\n",
    "\n",
    "\n",
    "def factorial_zeros(n):\n",
    "    i = 1\n",
    "    c_2s = c_5s = 0\n",
    "    while i <= n:\n",
    "        new_c_2s, new_c_5s = n_twos_fives(i)\n",
    "        c_2s += new_c_2s\n",
    "        c_5s += new_c_5s\n",
    "        i += 1\n",
    "        \n",
    "    return min(c_2s, c_5s)"
   ]
  },
  {
   "cell_type": "code",
   "execution_count": 96,
   "metadata": {},
   "outputs": [
    {
     "data": {
      "text/plain": [
       "2"
      ]
     },
     "execution_count": 96,
     "metadata": {},
     "output_type": "execute_result"
    }
   ],
   "source": [
    "factorial_zeros(10)"
   ]
  },
  {
   "cell_type": "markdown",
   "metadata": {},
   "source": [
    "This solution uses the fact that a trailing zero will only appear if the number under the microscope is a factor of both 2 and 5. The number of zeros that appears will be the minimum of the number of 2 and 5 terms that appear in the prime factorization of the factorial output.\n",
    "\n",
    "This algorithm has an $O(n)$ amortized cost.\n",
    "\n",
    "We can optimize further by taking note of the fact that in a sequence of increasing multiples, 5s are strictly rarer than 2s, so in reality we need only count 5s. And 5s have a very simple appearance rule: they appear whenever a multiple ends in a 5 or a 0. Implementing this optimization would improve the runtime by a constant multiple factor, 1/5, so the O-speed wouldn't change, but the algorithm would run five times faster in practice (because we can iterate five at a time instead of one at a time)."
   ]
  },
  {
   "cell_type": "markdown",
   "metadata": {},
   "source": [
    "## Q6\n",
    "\n",
    "Q: *Counterfactuals* &mdash; Write an algorithm to find the pairs of integers in two unsorted lists which are closest to one another.\n",
    "\n",
    "I had to think about this one a bit.\n",
    "\n",
    "The brute force solution would be to sort both lists, and the crawl forward on the lists. This algorithm is $O(2n\\log{n} + 2n) = O(n\\log{n})$ (should have started with implementing this incidentally).\n",
    "\n",
    "A constant time optimization is to only sort the first list, and then iterate over the second list, finding the elements in the first list which are closest to each iteree in the second list. We could then use a modified binary search to find the element in the first list closest to the one in the first. This is $n\\log{n} + n\\log{n}$ amortized operations, which is better for larger values of $n$ but equivalent in O: $O(n\\log{n})$.\n",
    "\n",
    "An alternative approach is to go this optimized route, but sort the first list using a radix sort. That reduces the time to $n + n\\log{n}$, a constant time optimization for something that is still $O(n\\log{n})$, but also costs $n$ space.\n",
    "\n",
    "---\n",
    "\n",
    "The following is an implementation of the second algorithm, but using a linear search instead of a binary search."
   ]
  },
  {
   "cell_type": "code",
   "execution_count": 184,
   "metadata": {},
   "outputs": [],
   "source": [
    "def sort(l):\n",
    "    return sorted(l)\n",
    "\n",
    "def findClosestIDXInSortedList(l, v):\n",
    "    best_seen_idx, best_dist = 0, abs(l[0] - v)\n",
    "    \n",
    "    for li_idx, li in enumerate(l):\n",
    "        curr_dist = abs(li - v)\n",
    "        if best_dist >= curr_dist:\n",
    "            best_seen_idx, best_dist = li_idx, curr_dist\n",
    "        else:\n",
    "            break\n",
    "    \n",
    "    return best_seen_idx\n",
    "    \n",
    "def counterfactual(l1, l2):\n",
    "    l1 = sort(l1)\n",
    "    \n",
    "    best_result_l1_idx = best_result_l2_idx = 0\n",
    "    best_result_dist = abs(l1[best_result_l1_idx] - l2[best_result_l2_idx]) \n",
    "    \n",
    "    for li2_idx, li2_v in enumerate(l2):\n",
    "        curr_best_idx = findClosestIDXInSortedList(l1, li2_v)\n",
    "        curr_dist = abs(l1[curr_best_idx] - li2_v)\n",
    "        \n",
    "        if curr_dist < best_result_dist:\n",
    "            best_result_l1_idx = curr_best_idx\n",
    "            best_result_l2_idx = li2_idx\n",
    "            best_result_dist = curr_dist\n",
    "            \n",
    "            if best_result_dist == 0:\n",
    "                break\n",
    "    \n",
    "    return (best_result_l1_idx, best_result_l2_idx, best_result_dist)"
   ]
  },
  {
   "cell_type": "code",
   "execution_count": 129,
   "metadata": {},
   "outputs": [
    {
     "data": {
      "text/plain": [
       "(0, 0, 0)"
      ]
     },
     "execution_count": 129,
     "metadata": {},
     "output_type": "execute_result"
    }
   ],
   "source": [
    "counterfactual([1,2,3],[1,2,3])"
   ]
  },
  {
   "cell_type": "code",
   "execution_count": 130,
   "metadata": {},
   "outputs": [
    {
     "data": {
      "text/plain": [
       "(1, 3, 0)"
      ]
     },
     "execution_count": 130,
     "metadata": {},
     "output_type": "execute_result"
    }
   ],
   "source": [
    "counterfactual([1, 2], [5, 4, 3, 2])"
   ]
  },
  {
   "cell_type": "markdown",
   "metadata": {},
   "source": [
    "Here's one using a proper binary search."
   ]
  },
  {
   "cell_type": "code",
   "execution_count": 199,
   "metadata": {},
   "outputs": [],
   "source": [
    "def sort(l):\n",
    "    return sorted(l)\n",
    "\n",
    "def findClosestIDXInSortedList(l, v, best_prior_dist=None, best_prior_idx=None):\n",
    "    \n",
    "    if len(l) == 0:\n",
    "        return best_prior_idx\n",
    "    \n",
    "    pivot = len(l) // 2\n",
    "    pivot_dist = abs(l[pivot] - v)\n",
    "    \n",
    "    if best_prior_dist and pivot_dist > best_prior_dist:\n",
    "        return best_prior_idx\n",
    "    else:\n",
    "        if l[pivot] == v:\n",
    "            return pivot\n",
    "        elif l[pivot] < v:\n",
    "            pivot = pivot + pivot // 2\n",
    "            return findClosestIDXInSortedList(l[:pivot], v, pivot_dist, pivot)\n",
    "        else:\n",
    "            pivot = pivot // 2\n",
    "            return + findClosestIDXInSortedList(l[pivot + 1:], v, pivot_dist, pivot)\n",
    "        \n",
    "def counterfactual(l1, l2):\n",
    "    l1 = sort(l1)\n",
    "    \n",
    "    best_result_l1_idx = best_result_l2_idx = 0\n",
    "    best_result_dist = abs(l1[best_result_l1_idx] - l2[best_result_l2_idx]) \n",
    "    \n",
    "    for li2_idx, li2_v in enumerate(l2):\n",
    "        curr_best_idx = findClosestIDXInSortedList(l1, li2_v)\n",
    "        curr_dist = abs(l1[curr_best_idx] - li2_v)\n",
    "        \n",
    "        if curr_dist < best_result_dist:\n",
    "            best_result_l1_idx = curr_best_idx\n",
    "            best_result_l2_idx = li2_idx\n",
    "            best_result_dist = curr_dist\n",
    "            \n",
    "            if best_result_dist == 0:\n",
    "                break\n",
    "    \n",
    "    return (best_result_l1_idx, best_result_l2_idx, best_result_dist)"
   ]
  },
  {
   "cell_type": "code",
   "execution_count": 200,
   "metadata": {
    "scrolled": true
   },
   "outputs": [
    {
     "data": {
      "text/plain": [
       "(1, 3, 0)"
      ]
     },
     "execution_count": 200,
     "metadata": {},
     "output_type": "execute_result"
    }
   ],
   "source": [
    "counterfactual([1, 2], [5, 4, 3, 2])"
   ]
  },
  {
   "cell_type": "markdown",
   "metadata": {},
   "source": [
    "Next up would be implementing radix sort...but we'll stop here."
   ]
  },
  {
   "cell_type": "markdown",
   "metadata": {},
   "source": [
    "## Q7\n",
    "\n",
    "Q: Find the maximum of two numbers without using any if-else logic or comparators.\n",
    "\n",
    "A: this is a dumb question. It uses binary logic of some kind."
   ]
  }
 ],
 "metadata": {
  "kernelspec": {
   "display_name": "Python 3",
   "language": "python",
   "name": "python3"
  },
  "language_info": {
   "codemirror_mode": {
    "name": "ipython",
    "version": 3
   },
   "file_extension": ".py",
   "mimetype": "text/x-python",
   "name": "python",
   "nbconvert_exporter": "python",
   "pygments_lexer": "ipython3",
   "version": "3.6.6"
  }
 },
 "nbformat": 4,
 "nbformat_minor": 2
}
