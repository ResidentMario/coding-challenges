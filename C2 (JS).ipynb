{
 "cells": [
  {
   "cell_type": "markdown",
   "metadata": {},
   "source": [
    "This group of exercises is about linked lists, so I'll copy over an earlier implementation of a linked list (from [here](https://github.com/ResidentMario/data-structures-js/blob/master/linked_list.js)) to test with."
   ]
  },
  {
   "cell_type": "code",
   "execution_count": 1,
   "metadata": {},
   "outputs": [],
   "source": [
    "class _Node {\n",
    "    constructor(value, next=null) {\n",
    "        this.value = value;\n",
    "        this.next = next;\n",
    "    }\n",
    "}\n",
    "\n",
    "class LinkedListADT {\n",
    "\n",
    "    /**\n",
    "     * Singely linked list ADT constructor.\n",
    "     * @constructor\n",
    "     */\n",
    "    constructor() {\n",
    "        this.head = null;\n",
    "        this.tail = null;\n",
    "        this.length = 0;\n",
    "    }\n",
    "\n",
    "    append(v) {\n",
    "        let n = new _Node(v);\n",
    "        if (!this.head) {\n",
    "            this.head = n;\n",
    "            this.tail = n;\n",
    "        } else {\n",
    "            this.tail.next = n;\n",
    "            this.tail = n;\n",
    "        }\n",
    "        this.length += 1;\n",
    "    }\n",
    "\n",
    "    get_node(idx) {\n",
    "        if (idx >= this.length || idx < 0) { throw SyntaxError(\"Attempting a get that is out of range.\"); }\n",
    "        else if (idx === 0) { return this.head; }\n",
    "        else if (idx === this.length - 1 ) { return this.tail; }\n",
    "        else {\n",
    "            // Iterate through, skipping the first node because we know we haven't hit that case.\n",
    "            let c = 1;\n",
    "            let n_p = this.head.next;\n",
    "            while (c  < idx) {\n",
    "                n_p = n_p.next;\n",
    "            }\n",
    "            return n_p;\n",
    "        }\n",
    "    }\n",
    "\n",
    "    get(idx) {\n",
    "        return this.get_node(idx).value;\n",
    "    }\n",
    "\n",
    "    /**\n",
    "     * Finds and returns the node with the given value.\n",
    "     * @param v - The value to be sought out.\n",
    "     * @returns {*}\n",
    "     */\n",
    "    find(v) {\n",
    "        let idx = 0;\n",
    "        let n = this.head;\n",
    "        while (idx <= this.length) {\n",
    "            if (n.value === v) {\n",
    "                return n;\n",
    "            }\n",
    "                n = n.next;\n",
    "                idx += 1;\n",
    "        }\n",
    "        throw Error(`The value ${v} is not contained in the list.`)\n",
    "    }\n",
    "\n",
    "    /**\n",
    "     * Linked list ADT insert operation.\n",
    "     * @param v - The value to store.\n",
    "     * @param idx - The index of the linked node to store the value at.\n",
    "     */\n",
    "    insert(v, idx) {\n",
    "        if (idx > this.length || idx < 0) { throw SyntaxError(\"Attempting an insert that is out of range.\"); }\n",
    "\n",
    "        if (idx === 0) {\n",
    "            this.head = new _Node(v, this.head);\n",
    "        } else if (idx === this.length) {\n",
    "            let n_p = this.tail;\n",
    "            let new_tail = new _Node(v);\n",
    "            n_p.next = new_tail;\n",
    "            this.tail = new_tail;\n",
    "        } else {\n",
    "            let n_p = this.get_node(idx - 1);\n",
    "            let n_n = n_p.next;\n",
    "            n_p.next = new _Node(v, n_n);\n",
    "        }\n",
    "        this.length += 1;\n",
    "\n",
    "    }\n",
    "\n",
    "    remove(idx) {\n",
    "        if (idx > this.length || idx < 0) { throw SyntaxError(\"Attempting a remove that is out of range.\"); }\n",
    "\n",
    "        if (idx === 0) {\n",
    "            let n = this.head;\n",
    "            this.head = n.next;\n",
    "            return n;\n",
    "        } else if (idx === this.length - 1) {\n",
    "            let n = this.get_node(this.length - 2);\n",
    "            this.tail = n;\n",
    "            return n;\n",
    "        }\n",
    "    }\n",
    "    \n",
    "    value_list() {\n",
    "        if (this.length === 0)  return [];\n",
    "        \n",
    "        let out = [];\n",
    "        let pointer = this.get_node(0);\n",
    "        \n",
    "        while (true) {\n",
    "            out.push(pointer.value);\n",
    "            \n",
    "            if (pointer.next === null)  break;\n",
    "            else  pointer = pointer.next;\n",
    "        }\n",
    "        \n",
    "        return out;\n",
    "    }\n",
    "}"
   ]
  },
  {
   "cell_type": "markdown",
   "metadata": {},
   "source": [
    "## 2.1\n",
    "\n",
    "Q: Remove duplicates from an unsorted linked list.\n",
    "\n",
    "A simple solution."
   ]
  },
  {
   "cell_type": "code",
   "execution_count": 15,
   "metadata": {},
   "outputs": [],
   "source": [
    "function dedupe(ll) {\n",
    "    if (!ll.length || ll.length === 1)  return ll;\n",
    "    \n",
    "    let pointer = ll.get_node(0);\n",
    "    let out = new LinkedListADT();\n",
    "    let out_vals = new Set();\n",
    "    \n",
    "    while (true) {\n",
    "        if (!out_vals.has(pointer.value)) {\n",
    "            out.append(pointer.value);\n",
    "            out_vals.add(pointer.value);\n",
    "        }\n",
    "        \n",
    "        if (pointer.next === null) {\n",
    "            break;\n",
    "        } else {\n",
    "            pointer = pointer.next;\n",
    "        }\n",
    "    }\n",
    "    \n",
    "    return out;\n",
    "}"
   ]
  },
  {
   "cell_type": "code",
   "execution_count": 16,
   "metadata": {},
   "outputs": [],
   "source": [
    "let ll = new LinkedListADT();\n",
    "ll.append(1); ll.append(2); ll.append(3);\n",
    "assert.deepEqual(dedupe(ll).value_list(), [1, 2, 3])"
   ]
  },
  {
   "cell_type": "code",
   "execution_count": 20,
   "metadata": {},
   "outputs": [],
   "source": [
    "let ll2 = new LinkedListADT();\n",
    "ll2.append(1); ll2.append(1); ll2.append(1);\n",
    "assert.deepEqual(dedupe(ll2).value_list(), [1]);"
   ]
  },
  {
   "cell_type": "code",
   "execution_count": 21,
   "metadata": {},
   "outputs": [],
   "source": [
    "let ll3 = new LinkedListADT();\n",
    "assert.deepEqual(dedupe(ll3).value_list(), []);"
   ]
  },
  {
   "cell_type": "markdown",
   "metadata": {},
   "source": [
    "This solution is $O(n)$ time and $O(m)$ space, where $m$ is the number of unique nodes in the linked list. We can get reduce the space requirement by a constant fractional factor by optimizing this algorithm so that it performs the deduplication in-place, without requiring the construction of a new object:"
   ]
  },
  {
   "cell_type": "code",
   "execution_count": 1,
   "metadata": {},
   "outputs": [],
   "source": [
    "function dedupe(ll) {\n",
    "    if (!ll.length || ll.length === 1)  return ll;\n",
    "    \n",
    "    let pointer_0 = ll.get_node(0);\n",
    "    let pointer_1 = ll.get_node(1);    \n",
    "    let out_vals = new Set();\n",
    "    out_vals.add(pointer_0.value);\n",
    "    \n",
    "    while (true) {\n",
    "        if (out_vals.has(pointer_1.value)) {\n",
    "            if (pointer_1.next === null) {\n",
    "                pointer_0.next = null;\n",
    "                ll.tail = pointer_0;\n",
    "                break;\n",
    "            } else {\n",
    "                pointer_0.next = pointer_1.next;\n",
    "                \n",
    "                pointer_1 = pointer_1.next;\n",
    "            }\n",
    "        } else {\n",
    "            out_vals.add(pointer_1.next);\n",
    "            \n",
    "            if (pointer_1.next === null) {\n",
    "                break;\n",
    "            }\n",
    "            \n",
    "            pointer_0 = pointer_1;       \n",
    "            pointer_1 = pointer_1.next;\n",
    "        }\n",
    "    }\n",
    "    \n",
    "    return ll;\n",
    "}"
   ]
  },
  {
   "cell_type": "code",
   "execution_count": 3,
   "metadata": {},
   "outputs": [],
   "source": [
    "let ll4 = new LinkedListADT();\n",
    "ll4.append(1); ll4.append(2); ll4.append(3);\n",
    "assert.deepEqual(dedupe(ll4).value_list(), [1, 2, 3]);"
   ]
  },
  {
   "cell_type": "code",
   "execution_count": 12,
   "metadata": {},
   "outputs": [],
   "source": [
    "let ll5 = new LinkedListADT();\n",
    "ll5.append(1); ll4.append(1); ll4.append(1);\n",
    "assert.deepEqual(dedupe(ll5).value_list(), [1]);"
   ]
  },
  {
   "cell_type": "markdown",
   "metadata": {},
   "source": [
    "## 2.4\n",
    "\n",
    "Q: Partition a linked list by comparing against a value $X$ which may or may not be in the list."
   ]
  },
  {
   "cell_type": "code",
   "execution_count": 42,
   "metadata": {},
   "outputs": [],
   "source": [
    "function partition(ll, v) {\n",
    "    if (!ll.length || ll.length === 1)  return ll;\n",
    "    \n",
    "    let pointer = ll.head;\n",
    "    let out = new LinkedListADT();\n",
    "\n",
    "    out.append(-1);\n",
    "    out.append(v);\n",
    "    let prior_dummy = out.head;\n",
    "    let v_dummy = out.head.next;\n",
    "    \n",
    "    while (true) {\n",
    "        if (pointer.value > v) {\n",
    "            out.append(pointer.value);\n",
    "        } else if (pointer.value < v) {\n",
    "            out.head = new _Node(pointer.value, next=out.head);\n",
    "            prior_dummy = prior_dummy.next;\n",
    "        } else {  // pointer.value === v\n",
    "            v_dummy.next = new _Node(v, next=v_dummy.next);\n",
    "        }\n",
    "        \n",
    "        if (pointer.next === null) {\n",
    "            break;\n",
    "        } else {\n",
    "            pointer = pointer.next;\n",
    "        }\n",
    "    }\n",
    "    \n",
    "    // Wrong, but whatever.\n",
    "    return out;\n",
    "}"
   ]
  },
  {
   "cell_type": "code",
   "execution_count": 43,
   "metadata": {},
   "outputs": [
    {
     "data": {
      "text/plain": [
       "[ 1, -1, 2, 3 ]"
      ]
     },
     "execution_count": 43,
     "metadata": {},
     "output_type": "execute_result"
    }
   ],
   "source": [
    "partition(ll4, 2).value_list();"
   ]
  },
  {
   "cell_type": "markdown",
   "metadata": {},
   "source": [
    "Lesson learned here: I should have done a proper analysis on this one first."
   ]
  },
  {
   "cell_type": "markdown",
   "metadata": {},
   "source": [
    "## 2.5\n",
    "\n",
    "Q: Sum together two numbers stored as per-digit, ascending digit order linked lists. For example, sum `LL([1,2,3]) + LL([3,4,5]) = LL([4,6,7])`\n",
    "\n",
    "```python\n",
    "function sumLL(l1, l2):\n",
    "    if l1.length == 0 return l2\n",
    "    else if l2.length == 0 return l1\n",
    "\n",
    "    l1_digit_node, l2_digit_node = l1.head, l2.head\n",
    "    carry = False\n",
    "    \n",
    "    while True:\n",
    "        if l1_digit_node and not l2_digit_node:\n",
    "            if carry:\n",
    "                l1_digit_node.value += 1\n",
    "                return l1\n",
    "            else:\n",
    "                return l1\n",
    "        else if not l1_digit_node and l2_digit_node:\n",
    "            if carry:\n",
    "                l1.tail.next = l2_digit_node.value + 1\n",
    "            else:\n",
    "                l1.tail.next = l2_digit_node.value\n",
    "        else:\n",
    "            if carry:\n",
    "                l1_digit_node.value = ((l1_digit_node.value + l2_digit_node.value + 1) % 10)\n",
    "            else:\n",
    "                l1_digit_node.value = (l1_digit_node.value + l2_digit_node.value) % 10\n",
    "\n",
    "        carry = l1_digit_node.value + l2_digit_node.value > 9\n",
    "                \n",
    "        l1_digit_node = l1_digit_node.next if l1_digit_node else l1_digit_node\n",
    "        l2_digit_node = l2_digit_node.next if l2_digit_node else l2_digit_node\n",
    "```"
   ]
  },
  {
   "cell_type": "code",
   "execution_count": 59,
   "metadata": {},
   "outputs": [],
   "source": [
    "function sumLL(l1, l2) {\n",
    "    if (l1.length === 0)  return l2;\n",
    "    if (l2.length === 0)  return l1;\n",
    "    \n",
    "    let [l1_digit_node, l2_digit_node] = [l1.head, l2.head];\n",
    "    let carry = false;\n",
    "    \n",
    "    while (true) {\n",
    "        if (l1_digit_node === null & l2_digit_node === null) {\n",
    "            if (carry)  l1.append(1);\n",
    "            break\n",
    "        } else if (l1_digit_node !== null & l2_digit_node === null) {\n",
    "            if (carry) { \n",
    "                if (l1.tail.value == 9) { l1.tail.value = 0; l1.append(1) }\n",
    "                else l1.tail.value += 1; \n",
    "            }\n",
    "            break\n",
    "        } else if (l1_digit_node === null & l2_digit_node !== null) {\n",
    "            l1.append(l2_digit_node.value);\n",
    "            if (carry)  l1.tail.value += 1;\n",
    "            \n",
    "            if (l1_digit_node.value > 9) { l1_digit_node.value = l1_digit_node.value % 10; carry = true; }\n",
    "            else  carry = false;\n",
    "        } else {\n",
    "            l1_digit_node.value = l1_digit_node.value + l2_digit_node.value;\n",
    "            if (carry)  l1_digit_node.value += 1;\n",
    "\n",
    "            if (l1_digit_node.value > 9) { l1_digit_node.value = l1_digit_node.value % 10; carry = true; }\n",
    "            else  carry = false;\n",
    "        }\n",
    "        \n",
    "        l1_digit_node = l1_digit_node.next ? l1_digit_node.next : null; \n",
    "        l2_digit_node = l2_digit_node.next ? l2_digit_node.next : null;        \n",
    "    }\n",
    "    \n",
    "    return l1;\n",
    "}"
   ]
  },
  {
   "cell_type": "code",
   "execution_count": 61,
   "metadata": {},
   "outputs": [],
   "source": [
    "let l1 = new LinkedListADT();\n",
    "let l2 = new LinkedListADT();"
   ]
  },
  {
   "cell_type": "code",
   "execution_count": 37,
   "metadata": {},
   "outputs": [],
   "source": [
    "l1.head = null;\n",
    "l1.append(1); l1.append(2); l1.append(3);\n",
    "l2.head = null;\n",
    "l2.append(4); l2.append(5); l2.append(6);\n",
    "assert.deepEqual(sumLL(l1, l2).value_list(), [5, 7, 9]);"
   ]
  },
  {
   "cell_type": "code",
   "execution_count": 38,
   "metadata": {},
   "outputs": [],
   "source": [
    "l1.head = null;\n",
    "l1.append(0); l1.append(0); l1.append(5);\n",
    "l2.head = null;\n",
    "l2.append(0); l2.append(0); l2.append(5);\n",
    "assert.deepEqual(sumLL(l1, l2).value_list(), [0, 0, 0, 1]);"
   ]
  },
  {
   "cell_type": "code",
   "execution_count": 39,
   "metadata": {},
   "outputs": [],
   "source": [
    "l1.head = null;\n",
    "l1.append(5); l1.append(5); l1.append(5);\n",
    "l2.head = null;\n",
    "l2.append(5); l2.append(5); l2.append(5);\n",
    "assert.deepEqual(sumLL(l1, l2).value_list(), [0, 1, 1, 1]);"
   ]
  },
  {
   "cell_type": "code",
   "execution_count": 60,
   "metadata": {},
   "outputs": [],
   "source": [
    "l1.head = null;\n",
    "l1.append(0); l1.append(9); l1.append(9);\n",
    "l2.head = null;\n",
    "l2.append(0); l2.append(9);\n",
    "assert.deepEqual(sumLL(l1, l2).value_list(), [0, 8, 0, 1]);"
   ]
  },
  {
   "cell_type": "markdown",
   "metadata": {},
   "source": [
    "Comments:\n",
    "* More logic errors than I care to remember.\n",
    "* I could have simplified the code with no loss of generality by swapping `l1` and `l2` when `l1` is shorter than `l2`. Only realized this in retrospect."
   ]
  },
  {
   "cell_type": "markdown",
   "metadata": {},
   "source": [
    "## 2.6\n",
    "\n",
    "Q: Check if a linked list is a palindrome.\n",
    "\n",
    "This is trivial if the linked list is doubly linked. It's an annoying exercise if it's singly linked."
   ]
  },
  {
   "cell_type": "code",
   "execution_count": null,
   "metadata": {},
   "outputs": [],
   "source": [
    "function palindrome(ll) {\n",
    "    if (ll.length <= 1)  return true;\n",
    "\n",
    "    let curr_node = ll.head;\n",
    "    let curr_node_idx = 0;\n",
    "    let is_even = ((ll.length % 2) === 0);\n",
    "    let up_to = Math.floor(ll.length / 2);\n",
    "    let up_to_arr = Array(up_to);\n",
    "    \n",
    "    while (true) {\n",
    "        if (curr_node_idx < up_to) {\n",
    "            up_to_arr[curr_node_idx] = curr_node;\n",
    "            curr_node = curr_node.next;\n",
    "            curr_node_idx += 1;\n",
    "        } else if (curr_node_idx === up_to) {\n",
    "            // Skip if odd.\n",
    "            if (!is_even) {\n",
    "                curr_node = curr_node.next;\n",
    "                curr_node_idx += 1;\n",
    "            } else {\n",
    "                up_to_arr[curr_node_idx] = curr_node;\n",
    "                curr_node = curr_node.next;\n",
    "                curr_node_idx += 1;\n",
    "            }\n",
    "        } else {  // curr_node_idx > up_to\n",
    "            let expected = up_to_arr.pop()\n",
    "        }\n",
    "    }\n",
    "}"
   ]
  }
 ],
 "metadata": {
  "kernelspec": {
   "display_name": "Javascript (Node.js)",
   "language": "javascript",
   "name": "javascript"
  },
  "language_info": {
   "file_extension": ".js",
   "mimetype": "application/javascript",
   "name": "javascript",
   "version": "8.9.4"
  }
 },
 "nbformat": 4,
 "nbformat_minor": 2
}
